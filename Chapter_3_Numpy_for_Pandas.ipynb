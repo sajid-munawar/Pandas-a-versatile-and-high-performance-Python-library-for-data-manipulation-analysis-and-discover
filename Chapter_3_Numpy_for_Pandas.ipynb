{
  "nbformat": 4,
  "nbformat_minor": 0,
  "metadata": {
    "colab": {
      "name": "Chapter_3_Numpy_for_Pandas.ipynb",
      "provenance": [],
      "authorship_tag": "ABX9TyPam6OWE92ygBfFibMdj0oK",
      "include_colab_link": true
    },
    "kernelspec": {
      "name": "python3",
      "display_name": "Python 3"
    },
    "language_info": {
      "name": "python"
    }
  },
  "cells": [
    {
      "cell_type": "markdown",
      "metadata": {
        "id": "view-in-github",
        "colab_type": "text"
      },
      "source": [
        "<a href=\"https://colab.research.google.com/github/sajid-munawar/Pandas-a-versatile-and-high-performance-Python-library-for-data-manipulation-analysis-and-discover/blob/main/Chapter_3_Numpy_for_Pandas.ipynb\" target=\"_parent\"><img src=\"https://colab.research.google.com/assets/colab-badge.svg\" alt=\"Open In Colab\"/></a>"
      ]
    },
    {
      "cell_type": "markdown",
      "metadata": {
        "id": "tOsoH9FHDJAZ"
      },
      "source": [
        "##Chapter_3_Numpy_for_Pandas"
      ]
    },
    {
      "cell_type": "code",
      "metadata": {
        "id": "QqbLhn6gD_h0"
      },
      "source": [
        "#Importing numpy\n",
        "import numpy as np"
      ],
      "execution_count": 159,
      "outputs": []
    },
    {
      "cell_type": "markdown",
      "metadata": {
        "id": "A3GjarfuEp9k"
      },
      "source": [
        "Benefits and characteristics of Numpy arrays\n",
        "\n",
        "\n",
        "*   Contiguous allocation in memory\n",
        "*   Vectorized Operations\n",
        "*   Boolean Selection\n",
        "*   Sliceability\n",
        "\n"
      ]
    },
    {
      "cell_type": "code",
      "metadata": {
        "colab": {
          "base_uri": "https://localhost:8080/"
        },
        "id": "c6JN5j3jEmYh",
        "outputId": "f844a7f1-cc79-47d6-d8db-583519cbcf48"
      },
      "source": [
        "# A function that sequires all the values in a sequence\n",
        "def squares(values):\n",
        "  result=[]\n",
        "  for v in result:\n",
        "    result.append(v*v)\n",
        "  return result\n",
        "to_squares=range(100000)\n",
        "%timeit squares(to_squares)"
      ],
      "execution_count": 160,
      "outputs": [
        {
          "output_type": "stream",
          "name": "stdout",
          "text": [
            "The slowest run took 22.99 times longer than the fastest. This could mean that an intermediate result is being cached.\n",
            "1000000 loops, best of 5: 179 ns per loop\n"
          ]
        }
      ]
    },
    {
      "cell_type": "code",
      "metadata": {
        "colab": {
          "base_uri": "https://localhost:8080/"
        },
        "id": "J1NYFvIOGs0_",
        "outputId": "94a22b17-9d64-4d10-f643-631ec90b71a0"
      },
      "source": [
        "# Using Numpy same function\n",
        "values_to_square=np.arange(0,100000)\n",
        "%timeit values_to_square**2"
      ],
      "execution_count": 161,
      "outputs": [
        {
          "output_type": "stream",
          "name": "stdout",
          "text": [
            "The slowest run took 5.90 times longer than the fastest. This could mean that an intermediate result is being cached.\n",
            "10000 loops, best of 5: 131 µs per loop\n"
          ]
        }
      ]
    },
    {
      "cell_type": "code",
      "metadata": {
        "id": "phCUzPF3HUwY"
      },
      "source": [
        "# Creating Numpy arrays and performing basic array operation"
      ],
      "execution_count": 162,
      "outputs": []
    },
    {
      "cell_type": "code",
      "metadata": {
        "colab": {
          "base_uri": "https://localhost:8080/"
        },
        "id": "3o1kn_QZIR3X",
        "outputId": "a0806602-494f-48e5-b4e2-0007763130b6"
      },
      "source": [
        "# a simple array\n",
        "a1=np.array([1,2,3,4,5])\n",
        "a1"
      ],
      "execution_count": 163,
      "outputs": [
        {
          "output_type": "execute_result",
          "data": {
            "text/plain": [
              "array([1, 2, 3, 4, 5])"
            ]
          },
          "metadata": {},
          "execution_count": 163
        }
      ]
    },
    {
      "cell_type": "code",
      "metadata": {
        "colab": {
          "base_uri": "https://localhost:8080/"
        },
        "id": "qEqN6g-PIYzg",
        "outputId": "8a0711b6-2f9b-4015-d948-4982def39a23"
      },
      "source": [
        "type(a1)"
      ],
      "execution_count": 164,
      "outputs": [
        {
          "output_type": "execute_result",
          "data": {
            "text/plain": [
              "numpy.ndarray"
            ]
          },
          "metadata": {},
          "execution_count": 164
        }
      ]
    },
    {
      "cell_type": "code",
      "metadata": {
        "colab": {
          "base_uri": "https://localhost:8080/"
        },
        "id": "8mQmOCpbSdHF",
        "outputId": "1c8c0dac-87c8-4204-dee5-288d70c4c199"
      },
      "source": [
        "np.size(a1)"
      ],
      "execution_count": 165,
      "outputs": [
        {
          "output_type": "execute_result",
          "data": {
            "text/plain": [
              "5"
            ]
          },
          "metadata": {},
          "execution_count": 165
        }
      ]
    },
    {
      "cell_type": "code",
      "metadata": {
        "colab": {
          "base_uri": "https://localhost:8080/"
        },
        "id": "HNmCz_9WShrZ",
        "outputId": "246163c8-7ff7-4f1a-c541-a440fd2bc9c3"
      },
      "source": [
        "a1.dtype"
      ],
      "execution_count": 166,
      "outputs": [
        {
          "output_type": "execute_result",
          "data": {
            "text/plain": [
              "dtype('int64')"
            ]
          },
          "metadata": {},
          "execution_count": 166
        }
      ]
    },
    {
      "cell_type": "code",
      "metadata": {
        "colab": {
          "base_uri": "https://localhost:8080/"
        },
        "id": "_59HHqWKSpnP",
        "outputId": "185c3ba7-e102-4987-ae6a-294ca236c3a3"
      },
      "source": [
        "# any one float value makes all array float\n",
        "a2=np.array([1,2,3,4,5.5])\n",
        "a2"
      ],
      "execution_count": 167,
      "outputs": [
        {
          "output_type": "execute_result",
          "data": {
            "text/plain": [
              "array([1. , 2. , 3. , 4. , 5.5])"
            ]
          },
          "metadata": {},
          "execution_count": 167
        }
      ]
    },
    {
      "cell_type": "code",
      "metadata": {
        "colab": {
          "base_uri": "https://localhost:8080/"
        },
        "id": "2mGZuJKNTiPE",
        "outputId": "81a91a49-882c-4f3f-e50d-335523bd0913"
      },
      "source": [
        "a2.dtype"
      ],
      "execution_count": 168,
      "outputs": [
        {
          "output_type": "execute_result",
          "data": {
            "text/plain": [
              "dtype('float64')"
            ]
          },
          "metadata": {},
          "execution_count": 168
        }
      ]
    },
    {
      "cell_type": "code",
      "metadata": {
        "id": "3GP8LU6rTkYy"
      },
      "source": [
        "a2=a2.astype('int64')"
      ],
      "execution_count": 169,
      "outputs": []
    },
    {
      "cell_type": "code",
      "metadata": {
        "colab": {
          "base_uri": "https://localhost:8080/"
        },
        "id": "s7SVQRukTtis",
        "outputId": "360d1416-1c2b-4972-ee7a-788951180692"
      },
      "source": [
        "a2"
      ],
      "execution_count": 170,
      "outputs": [
        {
          "output_type": "execute_result",
          "data": {
            "text/plain": [
              "array([1, 2, 3, 4, 5])"
            ]
          },
          "metadata": {},
          "execution_count": 170
        }
      ]
    },
    {
      "cell_type": "code",
      "metadata": {
        "colab": {
          "base_uri": "https://localhost:8080/"
        },
        "id": "roJSwSwATurm",
        "outputId": "814325ad-4d5d-40ca-f8da-530d02b66b0a"
      },
      "source": [
        "# shortend to repeat a sequence of numbers\n",
        "a3=np.array([1]*10)\n",
        "a3"
      ],
      "execution_count": 171,
      "outputs": [
        {
          "output_type": "execute_result",
          "data": {
            "text/plain": [
              "array([1, 1, 1, 1, 1, 1, 1, 1, 1, 1])"
            ]
          },
          "metadata": {},
          "execution_count": 171
        }
      ]
    },
    {
      "cell_type": "code",
      "metadata": {
        "colab": {
          "base_uri": "https://localhost:8080/"
        },
        "id": "cu3KjNiBUn67",
        "outputId": "c2babe5e-feb0-4183-ee2d-31c342ed118d"
      },
      "source": [
        "# convert a python range to numpy array\n",
        "a4=np.array(range(10))\n",
        "a4"
      ],
      "execution_count": 172,
      "outputs": [
        {
          "output_type": "execute_result",
          "data": {
            "text/plain": [
              "array([0, 1, 2, 3, 4, 5, 6, 7, 8, 9])"
            ]
          },
          "metadata": {},
          "execution_count": 172
        }
      ]
    },
    {
      "cell_type": "code",
      "metadata": {
        "colab": {
          "base_uri": "https://localhost:8080/"
        },
        "id": "SukAXTmpVD0d",
        "outputId": "6789f98a-1786-4ad0-e7dc-9ce4c5644391"
      },
      "source": [
        "# create an array of zeros\n",
        "np.zeros(10)"
      ],
      "execution_count": 173,
      "outputs": [
        {
          "output_type": "execute_result",
          "data": {
            "text/plain": [
              "array([0., 0., 0., 0., 0., 0., 0., 0., 0., 0.])"
            ]
          },
          "metadata": {},
          "execution_count": 173
        }
      ]
    },
    {
      "cell_type": "code",
      "metadata": {
        "colab": {
          "base_uri": "https://localhost:8080/"
        },
        "id": "F_SRXCGZVM3u",
        "outputId": "4e7158b3-2c9c-4d3d-c62f-9b46c5821b69"
      },
      "source": [
        "# force it to be int instead of float\n",
        "np.zeros(10,dtype=\"int64\")"
      ],
      "execution_count": 174,
      "outputs": [
        {
          "output_type": "execute_result",
          "data": {
            "text/plain": [
              "array([0, 0, 0, 0, 0, 0, 0, 0, 0, 0])"
            ]
          },
          "metadata": {},
          "execution_count": 174
        }
      ]
    },
    {
      "cell_type": "code",
      "metadata": {
        "colab": {
          "base_uri": "https://localhost:8080/"
        },
        "id": "obWTr5ExVY2l",
        "outputId": "793e9d99-ec50-4b87-ef81-915b51b6dde0"
      },
      "source": [
        "# make a range starting at zero with 10\n",
        "np.arange(0,10)"
      ],
      "execution_count": 175,
      "outputs": [
        {
          "output_type": "execute_result",
          "data": {
            "text/plain": [
              "array([0, 1, 2, 3, 4, 5, 6, 7, 8, 9])"
            ]
          },
          "metadata": {},
          "execution_count": 175
        }
      ]
    },
    {
      "cell_type": "code",
      "metadata": {
        "colab": {
          "base_uri": "https://localhost:8080/"
        },
        "id": "gX1HTrW1VwSc",
        "outputId": "d2c169d0-ccbb-4628-bb25-266cb96f614e"
      },
      "source": [
        "# generate of even numbers between 0 and 10\n",
        "np.arange(0,10,2)"
      ],
      "execution_count": 176,
      "outputs": [
        {
          "output_type": "execute_result",
          "data": {
            "text/plain": [
              "array([0, 2, 4, 6, 8])"
            ]
          },
          "metadata": {},
          "execution_count": 176
        }
      ]
    },
    {
      "cell_type": "code",
      "metadata": {
        "colab": {
          "base_uri": "https://localhost:8080/"
        },
        "id": "eZeSQdjcXpe2",
        "outputId": "239faf62-5add-4eb6-b8ce-dd012a5a91fc"
      },
      "source": [
        "# counting down\n",
        "np.arange(10,0,-1)"
      ],
      "execution_count": 177,
      "outputs": [
        {
          "output_type": "execute_result",
          "data": {
            "text/plain": [
              "array([10,  9,  8,  7,  6,  5,  4,  3,  2,  1])"
            ]
          },
          "metadata": {},
          "execution_count": 177
        }
      ]
    },
    {
      "cell_type": "code",
      "metadata": {
        "colab": {
          "base_uri": "https://localhost:8080/"
        },
        "id": "5AFe3QYGX5nh",
        "outputId": "caa88bac-6d31-4f84-87b2-e5f0315d9cef"
      },
      "source": [
        "# evenly spaced values between two intervals\n",
        "np.linspace(0,10,11)"
      ],
      "execution_count": 178,
      "outputs": [
        {
          "output_type": "execute_result",
          "data": {
            "text/plain": [
              "array([ 0.,  1.,  2.,  3.,  4.,  5.,  6.,  7.,  8.,  9., 10.])"
            ]
          },
          "metadata": {},
          "execution_count": 178
        }
      ]
    },
    {
      "cell_type": "code",
      "metadata": {
        "colab": {
          "base_uri": "https://localhost:8080/"
        },
        "id": "73h4KbdVYKR2",
        "outputId": "f5b04f96-70be-4bb7-e48c-7e82a66b8ea9"
      },
      "source": [
        "# multiple an array with 2\n",
        "a1=np.arange(10)\n",
        "print(a1)\n",
        "a1*2"
      ],
      "execution_count": 179,
      "outputs": [
        {
          "output_type": "stream",
          "name": "stdout",
          "text": [
            "[0 1 2 3 4 5 6 7 8 9]\n"
          ]
        },
        {
          "output_type": "execute_result",
          "data": {
            "text/plain": [
              "array([ 0,  2,  4,  6,  8, 10, 12, 14, 16, 18])"
            ]
          },
          "metadata": {},
          "execution_count": 179
        }
      ]
    },
    {
      "cell_type": "code",
      "metadata": {
        "colab": {
          "base_uri": "https://localhost:8080/"
        },
        "id": "pEDb6cfRYZ5D",
        "outputId": "761b24c9-ee3a-4cc4-c0dd-723c6d6a670e"
      },
      "source": [
        "# mathametical operation between two arrays\n",
        "a2=np.arange(10,20)\n",
        "a1+a2"
      ],
      "execution_count": 180,
      "outputs": [
        {
          "output_type": "execute_result",
          "data": {
            "text/plain": [
              "array([10, 12, 14, 16, 18, 20, 22, 24, 26, 28])"
            ]
          },
          "metadata": {},
          "execution_count": 180
        }
      ]
    },
    {
      "cell_type": "code",
      "metadata": {
        "colab": {
          "base_uri": "https://localhost:8080/"
        },
        "id": "qgcCAbNRYsPH",
        "outputId": "77dcdd16-7bca-4b62-abaf-231a04dd786c"
      },
      "source": [
        "# create a two dimensional array (2*2)\n",
        "a1=np.array([[1,2],[3,4]])\n",
        "a1"
      ],
      "execution_count": 181,
      "outputs": [
        {
          "output_type": "execute_result",
          "data": {
            "text/plain": [
              "array([[1, 2],\n",
              "       [3, 4]])"
            ]
          },
          "metadata": {},
          "execution_count": 181
        }
      ]
    },
    {
      "cell_type": "code",
      "metadata": {
        "id": "zebPuy3yY4yd"
      },
      "source": [
        "# a more efficient way to create or convert an array into two dimensional is np.reshape method\n",
        "m=np.arange(0,20).reshape(5,4)"
      ],
      "execution_count": 182,
      "outputs": []
    },
    {
      "cell_type": "code",
      "metadata": {
        "colab": {
          "base_uri": "https://localhost:8080/"
        },
        "id": "oauTlC6cZkqI",
        "outputId": "360ec0d1-3642-4428-86af-fd066a8eac6e"
      },
      "source": [
        "m"
      ],
      "execution_count": 183,
      "outputs": [
        {
          "output_type": "execute_result",
          "data": {
            "text/plain": [
              "array([[ 0,  1,  2,  3],\n",
              "       [ 4,  5,  6,  7],\n",
              "       [ 8,  9, 10, 11],\n",
              "       [12, 13, 14, 15],\n",
              "       [16, 17, 18, 19]])"
            ]
          },
          "metadata": {},
          "execution_count": 183
        }
      ]
    },
    {
      "cell_type": "code",
      "metadata": {
        "colab": {
          "base_uri": "https://localhost:8080/"
        },
        "id": "DD8OYIElZlPV",
        "outputId": "513f2551-9302-4846-cc0f-5cead1c4c423"
      },
      "source": [
        "# size of any dimensional array is the number of elements\n",
        "np.size(m)"
      ],
      "execution_count": 184,
      "outputs": [
        {
          "output_type": "execute_result",
          "data": {
            "text/plain": [
              "20"
            ]
          },
          "metadata": {},
          "execution_count": 184
        }
      ]
    },
    {
      "cell_type": "code",
      "metadata": {
        "colab": {
          "base_uri": "https://localhost:8080/"
        },
        "id": "fN6vZqwCar6a",
        "outputId": "20cc024b-45b3-4929-990f-43550e474d42"
      },
      "source": [
        "# can ask size along a given axis (0 in rows)\n",
        "np.size(m,0)"
      ],
      "execution_count": 185,
      "outputs": [
        {
          "output_type": "execute_result",
          "data": {
            "text/plain": [
              "5"
            ]
          },
          "metadata": {},
          "execution_count": 185
        }
      ]
    },
    {
      "cell_type": "code",
      "metadata": {
        "colab": {
          "base_uri": "https://localhost:8080/"
        },
        "id": "2kD_JPFKbGQm",
        "outputId": "47513a48-524f-4c0b-fd5a-0c5a7545819b"
      },
      "source": [
        "np.size(m,1)"
      ],
      "execution_count": 186,
      "outputs": [
        {
          "output_type": "execute_result",
          "data": {
            "text/plain": [
              "4"
            ]
          },
          "metadata": {},
          "execution_count": 186
        }
      ]
    },
    {
      "cell_type": "markdown",
      "metadata": {
        "id": "6FT_LUy8bQbn"
      },
      "source": [
        "**Selecting array elements**"
      ]
    },
    {
      "cell_type": "code",
      "metadata": {
        "id": "NjBUh4wybIx6"
      },
      "source": [
        "a1=np.arange(10)"
      ],
      "execution_count": 187,
      "outputs": []
    },
    {
      "cell_type": "code",
      "metadata": {
        "colab": {
          "base_uri": "https://localhost:8080/"
        },
        "id": "L1Fm5_T_cuMr",
        "outputId": "561c72a4-94a0-4acf-e86a-8671bbfb84d2"
      },
      "source": [
        "a1[0]"
      ],
      "execution_count": 188,
      "outputs": [
        {
          "output_type": "execute_result",
          "data": {
            "text/plain": [
              "0"
            ]
          },
          "metadata": {},
          "execution_count": 188
        }
      ]
    },
    {
      "cell_type": "code",
      "metadata": {
        "colab": {
          "base_uri": "https://localhost:8080/"
        },
        "id": "X8eDKG3ecyQv",
        "outputId": "22b613b3-c830-4602-bf9e-e812e2c0ca5a"
      },
      "source": [
        "a1[0],a1[2]"
      ],
      "execution_count": 189,
      "outputs": [
        {
          "output_type": "execute_result",
          "data": {
            "text/plain": [
              "(0, 2)"
            ]
          },
          "metadata": {},
          "execution_count": 189
        }
      ]
    },
    {
      "cell_type": "code",
      "metadata": {
        "colab": {
          "base_uri": "https://localhost:8080/"
        },
        "id": "5TjU12Pqc726",
        "outputId": "9748788c-fc65-42f3-d4fa-48553714ddb0"
      },
      "source": [
        "m"
      ],
      "execution_count": 190,
      "outputs": [
        {
          "output_type": "execute_result",
          "data": {
            "text/plain": [
              "array([[ 0,  1,  2,  3],\n",
              "       [ 4,  5,  6,  7],\n",
              "       [ 8,  9, 10, 11],\n",
              "       [12, 13, 14, 15],\n",
              "       [16, 17, 18, 19]])"
            ]
          },
          "metadata": {},
          "execution_count": 190
        }
      ]
    },
    {
      "cell_type": "code",
      "metadata": {
        "colab": {
          "base_uri": "https://localhost:8080/"
        },
        "id": "3idxEeAydyUL",
        "outputId": "a84c8b21-51cb-4881-cbc1-b4bc325e6d76"
      },
      "source": [
        "m[0]"
      ],
      "execution_count": 191,
      "outputs": [
        {
          "output_type": "execute_result",
          "data": {
            "text/plain": [
              "array([0, 1, 2, 3])"
            ]
          },
          "metadata": {},
          "execution_count": 191
        }
      ]
    },
    {
      "cell_type": "code",
      "metadata": {
        "colab": {
          "base_uri": "https://localhost:8080/"
        },
        "id": "-uslSj_ld0Rz",
        "outputId": "ac99472a-4dc5-47d7-fc32-bbe77cad6205"
      },
      "source": [
        "# select an elemnt at row 1 and column 2\n",
        "m[1,2]"
      ],
      "execution_count": 192,
      "outputs": [
        {
          "output_type": "execute_result",
          "data": {
            "text/plain": [
              "6"
            ]
          },
          "metadata": {},
          "execution_count": 192
        }
      ]
    },
    {
      "cell_type": "code",
      "metadata": {
        "colab": {
          "base_uri": "https://localhost:8080/"
        },
        "id": "gB5C7V3GeAFl",
        "outputId": "69ac3f7e-e550-428b-b50d-0da365330ab0"
      },
      "source": [
        "# all items in a row\n",
        "m[0,]"
      ],
      "execution_count": 193,
      "outputs": [
        {
          "output_type": "execute_result",
          "data": {
            "text/plain": [
              "array([0, 1, 2, 3])"
            ]
          },
          "metadata": {},
          "execution_count": 193
        }
      ]
    },
    {
      "cell_type": "code",
      "metadata": {
        "colab": {
          "base_uri": "https://localhost:8080/"
        },
        "id": "wtR0XvvFifTE",
        "outputId": "683cd81f-e7b9-499a-9e7a-a7fb071d3483"
      },
      "source": [
        "# all the items in column 2\n",
        "m[:,2]"
      ],
      "execution_count": 194,
      "outputs": [
        {
          "output_type": "execute_result",
          "data": {
            "text/plain": [
              "array([ 2,  6, 10, 14, 18])"
            ]
          },
          "metadata": {},
          "execution_count": 194
        }
      ]
    },
    {
      "cell_type": "markdown",
      "metadata": {
        "id": "TQQsiqrii8bu"
      },
      "source": [
        "**Logical operations on arrays**"
      ]
    },
    {
      "cell_type": "code",
      "metadata": {
        "colab": {
          "base_uri": "https://localhost:8080/"
        },
        "id": "CZDbxRfbimKi",
        "outputId": "d099b044-fca7-41b9-8cb0-2644319df4e9"
      },
      "source": [
        "# which items are less than two\n",
        "a=np.arange(5)\n",
        "a<2"
      ],
      "execution_count": 195,
      "outputs": [
        {
          "output_type": "execute_result",
          "data": {
            "text/plain": [
              "array([ True,  True, False, False, False])"
            ]
          },
          "metadata": {},
          "execution_count": 195
        }
      ]
    },
    {
      "cell_type": "code",
      "metadata": {
        "id": "7RBtd0Vti-M_"
      },
      "source": [
        "# this is commented as it will cause an exception\n",
        "# print(a<2 or a>3)"
      ],
      "execution_count": 196,
      "outputs": []
    },
    {
      "cell_type": "code",
      "metadata": {
        "colab": {
          "base_uri": "https://localhost:8080/"
        },
        "id": "15cNawUCjqTt",
        "outputId": "6c5ff430-078b-4c6d-8aa4-8727dc98ea68"
      },
      "source": [
        "(a<2) | (a>3)"
      ],
      "execution_count": 197,
      "outputs": [
        {
          "output_type": "execute_result",
          "data": {
            "text/plain": [
              "array([ True,  True, False, False,  True])"
            ]
          },
          "metadata": {},
          "execution_count": 197
        }
      ]
    },
    {
      "cell_type": "code",
      "metadata": {
        "colab": {
          "base_uri": "https://localhost:8080/"
        },
        "id": "Q6gPwEfhjxBG",
        "outputId": "fb4676f2-b62e-475e-a757-540e304c5681"
      },
      "source": [
        "a"
      ],
      "execution_count": 198,
      "outputs": [
        {
          "output_type": "execute_result",
          "data": {
            "text/plain": [
              "array([0, 1, 2, 3, 4])"
            ]
          },
          "metadata": {},
          "execution_count": 198
        }
      ]
    },
    {
      "cell_type": "code",
      "metadata": {
        "id": "B-8w6cfRlYOI"
      },
      "source": [
        "def exp(x):\n",
        "  return x<3 or x>3"
      ],
      "execution_count": 199,
      "outputs": []
    },
    {
      "cell_type": "code",
      "metadata": {
        "colab": {
          "base_uri": "https://localhost:8080/"
        },
        "id": "4svuxzejljO0",
        "outputId": "ca60fb0f-4cbe-4593-a614-ff962107637a"
      },
      "source": [
        "#  # np.vectorize applies the method to all items in an array\n",
        "np.vectorize(exp)(a)"
      ],
      "execution_count": 200,
      "outputs": [
        {
          "output_type": "execute_result",
          "data": {
            "text/plain": [
              "array([ True,  True,  True, False,  True])"
            ]
          },
          "metadata": {},
          "execution_count": 200
        }
      ]
    },
    {
      "cell_type": "markdown",
      "metadata": {
        "id": "A3g9H6SbmLf7"
      },
      "source": [
        "Boolean selection"
      ]
    },
    {
      "cell_type": "code",
      "metadata": {
        "colab": {
          "base_uri": "https://localhost:8080/"
        },
        "id": "9dzJNLYjlptv",
        "outputId": "8da8f398-7795-44c4-9e4a-a61ef8c57883"
      },
      "source": [
        "r=a<3\n",
        "print(r)\n",
        "a[r]"
      ],
      "execution_count": 201,
      "outputs": [
        {
          "output_type": "stream",
          "name": "stdout",
          "text": [
            "[ True  True  True False False]\n"
          ]
        },
        {
          "output_type": "execute_result",
          "data": {
            "text/plain": [
              "array([0, 1, 2])"
            ]
          },
          "metadata": {},
          "execution_count": 201
        }
      ]
    },
    {
      "cell_type": "code",
      "metadata": {
        "colab": {
          "base_uri": "https://localhost:8080/"
        },
        "id": "6QEjYJlImYFk",
        "outputId": "ba454a17-7012-4058-d34e-3196ac114d18"
      },
      "source": [
        "# np.sum counts True as 1 and False as 0\n",
        "# so this is how many items are less than 3\n",
        "np.sum(a<3)"
      ],
      "execution_count": 202,
      "outputs": [
        {
          "output_type": "execute_result",
          "data": {
            "text/plain": [
              "3"
            ]
          },
          "metadata": {},
          "execution_count": 202
        }
      ]
    },
    {
      "cell_type": "code",
      "metadata": {
        "colab": {
          "base_uri": "https://localhost:8080/"
        },
        "id": "qo_d8yXwmjp4",
        "outputId": "a4a6d834-db8d-40d8-a8e8-1119f021ea32"
      },
      "source": [
        "# this can be apply across two arrays\n",
        "a1=np.arange(0,5)\n",
        "a2=np.arange(5,0,-1)\n",
        "a1<a2"
      ],
      "execution_count": 203,
      "outputs": [
        {
          "output_type": "execute_result",
          "data": {
            "text/plain": [
              "array([ True,  True,  True, False, False])"
            ]
          },
          "metadata": {},
          "execution_count": 203
        }
      ]
    },
    {
      "cell_type": "code",
      "metadata": {
        "colab": {
          "base_uri": "https://localhost:8080/"
        },
        "id": "UilLfmh6nBw4",
        "outputId": "8ba385e9-5b5a-4b1b-fb2c-06beecd5da0e"
      },
      "source": [
        "# this also work as multidimensional arrays\n",
        "a1=np.arange(0,9).reshape(3,3)\n",
        "a2=np.arange(9,0,-1).reshape(3,3)\n",
        "\n",
        "a1<a2"
      ],
      "execution_count": 204,
      "outputs": [
        {
          "output_type": "execute_result",
          "data": {
            "text/plain": [
              "array([[ True,  True,  True],\n",
              "       [ True,  True, False],\n",
              "       [False, False, False]])"
            ]
          },
          "metadata": {},
          "execution_count": 204
        }
      ]
    },
    {
      "cell_type": "code",
      "metadata": {
        "id": "JJjZrm-CnZEb"
      },
      "source": [
        ""
      ],
      "execution_count": 204,
      "outputs": []
    },
    {
      "cell_type": "code",
      "metadata": {
        "id": "b8R-zchynZ7B"
      },
      "source": [
        ""
      ],
      "execution_count": 204,
      "outputs": []
    },
    {
      "cell_type": "markdown",
      "metadata": {
        "id": "u4GY3bwmon7U"
      },
      "source": [
        "**`Slicing arrays`**"
      ]
    },
    {
      "cell_type": "markdown",
      "metadata": {
        "id": "XgNI9iGzosTr"
      },
      "source": [
        " start:end:step"
      ]
    },
    {
      "cell_type": "code",
      "metadata": {
        "colab": {
          "base_uri": "https://localhost:8080/"
        },
        "id": "pgHIEBZjqKsu",
        "outputId": "49b9a590-a76a-41f6-c55e-d69dd4efa99f"
      },
      "source": [
        "# get all items in the array from position 3 up to position 8 (but not inclusive)\n",
        "a1=np.arange(1,10)\n",
        "print(a1)\n",
        "a1[3:8]"
      ],
      "execution_count": 205,
      "outputs": [
        {
          "output_type": "stream",
          "name": "stdout",
          "text": [
            "[1 2 3 4 5 6 7 8 9]\n"
          ]
        },
        {
          "output_type": "execute_result",
          "data": {
            "text/plain": [
              "array([4, 5, 6, 7, 8])"
            ]
          },
          "metadata": {},
          "execution_count": 205
        }
      ]
    },
    {
      "cell_type": "code",
      "metadata": {
        "colab": {
          "base_uri": "https://localhost:8080/"
        },
        "id": "GLcHFAaGq08i",
        "outputId": "e4be75ec-fd5d-42e3-af36-4b9c642f37ee"
      },
      "source": [
        "# every other item\n",
        "a1[::2]"
      ],
      "execution_count": 206,
      "outputs": [
        {
          "output_type": "execute_result",
          "data": {
            "text/plain": [
              "array([1, 3, 5, 7, 9])"
            ]
          },
          "metadata": {},
          "execution_count": 206
        }
      ]
    },
    {
      "cell_type": "code",
      "metadata": {
        "colab": {
          "base_uri": "https://localhost:8080/"
        },
        "id": "IwCYWn3JrDjj",
        "outputId": "5d003b07-9c3f-4ffb-c27d-1a8662446e73"
      },
      "source": [
        "# in reverse order\n",
        "a1[::-1]"
      ],
      "execution_count": 207,
      "outputs": [
        {
          "output_type": "execute_result",
          "data": {
            "text/plain": [
              "array([9, 8, 7, 6, 5, 4, 3, 2, 1])"
            ]
          },
          "metadata": {},
          "execution_count": 207
        }
      ]
    },
    {
      "cell_type": "code",
      "metadata": {
        "colab": {
          "base_uri": "https://localhost:8080/"
        },
        "id": "6htxAXG0rdIe",
        "outputId": "7d5608f7-6c3b-4a78-865b-01029cacd9e5"
      },
      "source": [
        "  # that is, there is no 1 printed in this\n",
        "  a1[9:0:-1]"
      ],
      "execution_count": 208,
      "outputs": [
        {
          "output_type": "execute_result",
          "data": {
            "text/plain": [
              "array([9, 8, 7, 6, 5, 4, 3, 2])"
            ]
          },
          "metadata": {},
          "execution_count": 208
        }
      ]
    },
    {
      "cell_type": "code",
      "metadata": {
        "colab": {
          "base_uri": "https://localhost:8080/"
        },
        "id": "dn_xb8daIST7",
        "outputId": "d51f2098-8824-4b3b-8d60-e4aaddb754f7"
      },
      "source": [
        "# all items from position 5 onwards\n",
        "a1[5:]"
      ],
      "execution_count": 209,
      "outputs": [
        {
          "output_type": "execute_result",
          "data": {
            "text/plain": [
              "array([6, 7, 8, 9])"
            ]
          },
          "metadata": {},
          "execution_count": 209
        }
      ]
    },
    {
      "cell_type": "code",
      "metadata": {
        "colab": {
          "base_uri": "https://localhost:8080/"
        },
        "id": "mg9v5Xz5IiCF",
        "outputId": "b817401b-4e8e-4a82-a2d7-a9f3a21868b6"
      },
      "source": [
        "# the item in the first 5 positions\n",
        "a1[:5]"
      ],
      "execution_count": 210,
      "outputs": [
        {
          "output_type": "execute_result",
          "data": {
            "text/plain": [
              "array([1, 2, 3, 4, 5])"
            ]
          },
          "metadata": {},
          "execution_count": 210
        }
      ]
    },
    {
      "cell_type": "markdown",
      "metadata": {
        "id": "jIl_ob1BIqBC"
      },
      "source": [
        "Two-dimensional arrays can also be sliced"
      ]
    },
    {
      "cell_type": "code",
      "metadata": {
        "colab": {
          "base_uri": "https://localhost:8080/"
        },
        "id": "uhUb6AA-JODe",
        "outputId": "967c2daa-c241-4f02-b0fb-08f19852b6c0"
      },
      "source": [
        "# get items in column position 1, all row\n",
        "m[:,1]"
      ],
      "execution_count": 211,
      "outputs": [
        {
          "output_type": "execute_result",
          "data": {
            "text/plain": [
              "array([ 1,  5,  9, 13, 17])"
            ]
          },
          "metadata": {},
          "execution_count": 211
        }
      ]
    },
    {
      "cell_type": "code",
      "metadata": {
        "colab": {
          "base_uri": "https://localhost:8080/"
        },
        "id": "pzVc_fvHJP5e",
        "outputId": "4b76dc34-76c4-4fb5-94c4-b8684ea4450a"
      },
      "source": [
        "# in all rows, but for all columns in positions 1 up to but not including 3\n",
        "m[:,1:3]"
      ],
      "execution_count": 212,
      "outputs": [
        {
          "output_type": "execute_result",
          "data": {
            "text/plain": [
              "array([[ 1,  2],\n",
              "       [ 5,  6],\n",
              "       [ 9, 10],\n",
              "       [13, 14],\n",
              "       [17, 18]])"
            ]
          },
          "metadata": {},
          "execution_count": 212
        }
      ]
    },
    {
      "cell_type": "code",
      "metadata": {
        "colab": {
          "base_uri": "https://localhost:8080/"
        },
        "id": "9EwM_vDoJgWV",
        "outputId": "c31e26d1-93fa-4dee-b6ef-13f7c9d04d08"
      },
      "source": [
        "# row positions 3 up to but not including 5, all columns\n",
        "m[3:5,:]"
      ],
      "execution_count": 213,
      "outputs": [
        {
          "output_type": "execute_result",
          "data": {
            "text/plain": [
              "array([[12, 13, 14, 15],\n",
              "       [16, 17, 18, 19]])"
            ]
          },
          "metadata": {},
          "execution_count": 213
        }
      ]
    },
    {
      "cell_type": "code",
      "metadata": {
        "colab": {
          "base_uri": "https://localhost:8080/"
        },
        "id": "DrxCNappJ07B",
        "outputId": "2ce0f2d6-5933-4677-ef75-6e840bfcb68b"
      },
      "source": [
        "m[3:5,]"
      ],
      "execution_count": 214,
      "outputs": [
        {
          "output_type": "execute_result",
          "data": {
            "text/plain": [
              "array([[12, 13, 14, 15],\n",
              "       [16, 17, 18, 19]])"
            ]
          },
          "metadata": {},
          "execution_count": 214
        }
      ]
    },
    {
      "cell_type": "markdown",
      "metadata": {
        "id": "BFKK32O2J419"
      },
      "source": [
        "Both columns and rows can be sliced at the same time:\n",
        " combined to pull out a sub matrix of the matrix"
      ]
    },
    {
      "cell_type": "code",
      "metadata": {
        "colab": {
          "base_uri": "https://localhost:8080/"
        },
        "id": "aImEFdhDKhJS",
        "outputId": "c60db105-c0ed-4ec3-ecd3-790fdda59478"
      },
      "source": [
        "m[1:3,1:3]"
      ],
      "execution_count": 215,
      "outputs": [
        {
          "output_type": "execute_result",
          "data": {
            "text/plain": [
              "array([[ 5,  6],\n",
              "       [ 9, 10]])"
            ]
          },
          "metadata": {},
          "execution_count": 215
        }
      ]
    },
    {
      "cell_type": "markdown",
      "metadata": {
        "id": "p4Lqpk6LKlOL"
      },
      "source": [
        " using a python array, we can select\n",
        " non-contiguous rows or columns"
      ]
    },
    {
      "cell_type": "code",
      "metadata": {
        "colab": {
          "base_uri": "https://localhost:8080/"
        },
        "id": "MqnN-T96K1g8",
        "outputId": "0ecaa390-1ba8-42be-9872-32530e93b1b9"
      },
      "source": [
        "m[[1,3,4],:]"
      ],
      "execution_count": 216,
      "outputs": [
        {
          "output_type": "execute_result",
          "data": {
            "text/plain": [
              "array([[ 4,  5,  6,  7],\n",
              "       [12, 13, 14, 15],\n",
              "       [16, 17, 18, 19]])"
            ]
          },
          "metadata": {},
          "execution_count": 216
        }
      ]
    },
    {
      "cell_type": "markdown",
      "metadata": {
        "id": "h5G10VM9K8FT"
      },
      "source": [
        "#**Reshaping arrays**"
      ]
    },
    {
      "cell_type": "markdown",
      "metadata": {
        "id": "uUaxGNPQLSIo"
      },
      "source": [
        "create a 9 element array (1x9)"
      ]
    },
    {
      "cell_type": "code",
      "metadata": {
        "id": "epX8M6X4Mqne"
      },
      "source": [
        "a1=np.arange(0,9)"
      ],
      "execution_count": 217,
      "outputs": []
    },
    {
      "cell_type": "markdown",
      "metadata": {
        "id": "8RUfnbHVM55s"
      },
      "source": [
        "reshape to a 3x3 2-d array"
      ]
    },
    {
      "cell_type": "code",
      "metadata": {
        "colab": {
          "base_uri": "https://localhost:8080/"
        },
        "id": "j98pcE0-MwET",
        "outputId": "339c5ee0-55ca-49c4-f79f-dd91350c282b"
      },
      "source": [
        "m=a1.reshape(3,3)\n",
        "m"
      ],
      "execution_count": 218,
      "outputs": [
        {
          "output_type": "execute_result",
          "data": {
            "text/plain": [
              "array([[0, 1, 2],\n",
              "       [3, 4, 5],\n",
              "       [6, 7, 8]])"
            ]
          },
          "metadata": {},
          "execution_count": 218
        }
      ]
    },
    {
      "cell_type": "markdown",
      "metadata": {
        "id": "LPlc0u4XNAN8"
      },
      "source": [
        "we can reshape downward in dimensions too"
      ]
    },
    {
      "cell_type": "code",
      "metadata": {
        "colab": {
          "base_uri": "https://localhost:8080/"
        },
        "id": "FN7StZURNFEb",
        "outputId": "1dc9d6f6-9ed5-4289-dd11-38df60b91171"
      },
      "source": [
        "m2=m.reshape(9)\n",
        "m2"
      ],
      "execution_count": 219,
      "outputs": [
        {
          "output_type": "execute_result",
          "data": {
            "text/plain": [
              "array([0, 1, 2, 3, 4, 5, 6, 7, 8])"
            ]
          },
          "metadata": {},
          "execution_count": 219
        }
      ]
    },
    {
      "cell_type": "markdown",
      "metadata": {
        "id": "eeb6qS3uNNwi"
      },
      "source": [
        ".ravel will generate array representing a flattened 2-d array"
      ]
    },
    {
      "cell_type": "code",
      "metadata": {
        "colab": {
          "base_uri": "https://localhost:8080/"
        },
        "id": "4W0Frcl7NU9R",
        "outputId": "fc970794-31b5-4732-a21a-aea78052a545"
      },
      "source": [
        "print(m)\n",
        "ravaled=m.ravel()\n",
        "ravaled"
      ],
      "execution_count": 220,
      "outputs": [
        {
          "output_type": "stream",
          "name": "stdout",
          "text": [
            "[[0 1 2]\n",
            " [3 4 5]\n",
            " [6 7 8]]\n"
          ]
        },
        {
          "output_type": "execute_result",
          "data": {
            "text/plain": [
              "array([0, 1, 2, 3, 4, 5, 6, 7, 8])"
            ]
          },
          "metadata": {},
          "execution_count": 220
        }
      ]
    },
    {
      "cell_type": "markdown",
      "metadata": {
        "id": "KzXx4WFRNZHC"
      },
      "source": [
        "it does not alter the shape of the source"
      ]
    },
    {
      "cell_type": "code",
      "metadata": {
        "colab": {
          "base_uri": "https://localhost:8080/"
        },
        "id": "xlnclj7NNkSf",
        "outputId": "9e7c14d3-6b0f-4e7c-c2bf-6e2df43ed1be"
      },
      "source": [
        "m"
      ],
      "execution_count": 221,
      "outputs": [
        {
          "output_type": "execute_result",
          "data": {
            "text/plain": [
              "array([[0, 1, 2],\n",
              "       [3, 4, 5],\n",
              "       [6, 7, 8]])"
            ]
          },
          "metadata": {},
          "execution_count": 221
        }
      ]
    },
    {
      "cell_type": "markdown",
      "metadata": {
        "id": "343I05QkNk_P"
      },
      "source": [
        "Even though .reshape() and .ravel() do not change the shape of the original\n",
        "array or matrix, they do actually return a one-dimensional view into the specified\n",
        "array or matrix. If you change an element in this view, the value in the original array\n",
        "or matrix is changed. The following example demonstrates this ability to change\n",
        "items of the original matrix through the view:"
      ]
    },
    {
      "cell_type": "code",
      "metadata": {
        "colab": {
          "base_uri": "https://localhost:8080/"
        },
        "id": "NGiClvcpN-qx",
        "outputId": "2e816bdd-040c-4321-b766-2326560be46f"
      },
      "source": [
        "reshaped=m.reshape(np.size(m))\n",
        "raveled=m.ravel()\n",
        "print(raveled,'\\n',reshaped)"
      ],
      "execution_count": 222,
      "outputs": [
        {
          "output_type": "stream",
          "name": "stdout",
          "text": [
            "[0 1 2 3 4 5 6 7 8] \n",
            " [0 1 2 3 4 5 6 7 8]\n"
          ]
        }
      ]
    },
    {
      "cell_type": "code",
      "metadata": {
        "colab": {
          "base_uri": "https://localhost:8080/"
        },
        "id": "NOrgeFykObyG",
        "outputId": "4a4d4342-1df2-4319-d802-a32bb6fabcd1"
      },
      "source": [
        "reshaped[2]=1000\n",
        "raveled[5]=2000\n",
        "m"
      ],
      "execution_count": 223,
      "outputs": [
        {
          "output_type": "execute_result",
          "data": {
            "text/plain": [
              "array([[   0,    1, 1000],\n",
              "       [   3,    4, 2000],\n",
              "       [   6,    7,    8]])"
            ]
          },
          "metadata": {},
          "execution_count": 223
        }
      ]
    },
    {
      "cell_type": "markdown",
      "metadata": {
        "id": "xwbFnHb3Owmd"
      },
      "source": [
        "The .flatten() method functions similarly to .ravel() but instead returns a new\n",
        "array with copied data instead of a view. Changes to the result do not change the\n",
        "original matrix:"
      ]
    },
    {
      "cell_type": "code",
      "metadata": {
        "colab": {
          "base_uri": "https://localhost:8080/"
        },
        "id": "JwOjd-_rPMrI",
        "outputId": "cff7488f-69bd-47cf-e186-fd0d9f94d9c6"
      },
      "source": [
        "flattened=m.flatten()\n",
        "flattened"
      ],
      "execution_count": 224,
      "outputs": [
        {
          "output_type": "execute_result",
          "data": {
            "text/plain": [
              "array([   0,    1, 1000,    3,    4, 2000,    6,    7,    8])"
            ]
          },
          "metadata": {},
          "execution_count": 224
        }
      ]
    },
    {
      "cell_type": "code",
      "metadata": {
        "id": "NSH_cXo2PT8f"
      },
      "source": [
        "flattened[0]='5000'"
      ],
      "execution_count": 225,
      "outputs": []
    },
    {
      "cell_type": "code",
      "metadata": {
        "colab": {
          "base_uri": "https://localhost:8080/"
        },
        "id": "8Ung71tQPbA6",
        "outputId": "887af1bc-1b2c-48d0-d9d6-3ab2494b558c"
      },
      "source": [
        "flattened"
      ],
      "execution_count": 226,
      "outputs": [
        {
          "output_type": "execute_result",
          "data": {
            "text/plain": [
              "array([5000,    1, 1000,    3,    4, 2000,    6,    7,    8])"
            ]
          },
          "metadata": {},
          "execution_count": 226
        }
      ]
    },
    {
      "cell_type": "code",
      "metadata": {
        "colab": {
          "base_uri": "https://localhost:8080/"
        },
        "id": "mLP3JSJhPcxg",
        "outputId": "ea70a2a4-dc82-426a-b4ef-6ae570ef1a97"
      },
      "source": [
        "m"
      ],
      "execution_count": 227,
      "outputs": [
        {
          "output_type": "execute_result",
          "data": {
            "text/plain": [
              "array([[   0,    1, 1000],\n",
              "       [   3,    4, 2000],\n",
              "       [   6,    7,    8]])"
            ]
          },
          "metadata": {},
          "execution_count": 227
        }
      ]
    },
    {
      "cell_type": "markdown",
      "metadata": {
        "id": "IOR2U7xIPjlJ"
      },
      "source": [
        "The .shape property returns a tuple representing the shape of the array:"
      ]
    },
    {
      "cell_type": "code",
      "metadata": {
        "colab": {
          "base_uri": "https://localhost:8080/"
        },
        "id": "AA3_jyvPP7Uo",
        "outputId": "d0b30395-d504-4956-ff6a-14c4cf8e22b3"
      },
      "source": [
        "m.shape"
      ],
      "execution_count": 228,
      "outputs": [
        {
          "output_type": "execute_result",
          "data": {
            "text/plain": [
              "(3, 3)"
            ]
          },
          "metadata": {},
          "execution_count": 228
        }
      ]
    },
    {
      "cell_type": "code",
      "metadata": {
        "colab": {
          "base_uri": "https://localhost:8080/"
        },
        "id": "EON4qUcyP9at",
        "outputId": "2ae4265f-bb00-4284-d502-7974b42e6911"
      },
      "source": [
        "flattened.shape"
      ],
      "execution_count": 229,
      "outputs": [
        {
          "output_type": "execute_result",
          "data": {
            "text/plain": [
              "(9,)"
            ]
          },
          "metadata": {},
          "execution_count": 229
        }
      ]
    },
    {
      "cell_type": "markdown",
      "metadata": {
        "id": "dJP8Vf-LP_3g"
      },
      "source": [
        "we can reshape by assigning a tuple to the .shape property  we start with this, which has one dimension"
      ]
    },
    {
      "cell_type": "code",
      "metadata": {
        "id": "ezybRP-iQIPU"
      },
      "source": [
        "flattened.shape=(3,3)"
      ],
      "execution_count": 230,
      "outputs": []
    },
    {
      "cell_type": "code",
      "metadata": {
        "colab": {
          "base_uri": "https://localhost:8080/"
        },
        "id": "PY22VYQPQMSC",
        "outputId": "d1cea459-b27a-4c14-dd35-941ce9c830e4"
      },
      "source": [
        "flattened"
      ],
      "execution_count": 231,
      "outputs": [
        {
          "output_type": "execute_result",
          "data": {
            "text/plain": [
              "array([[5000,    1, 1000],\n",
              "       [   3,    4, 2000],\n",
              "       [   6,    7,    8]])"
            ]
          },
          "metadata": {},
          "execution_count": 231
        }
      ]
    },
    {
      "cell_type": "markdown",
      "metadata": {
        "id": "BTLGutlBQOwJ"
      },
      "source": [
        "transpose a matrix"
      ]
    },
    {
      "cell_type": "code",
      "metadata": {
        "colab": {
          "base_uri": "https://localhost:8080/"
        },
        "id": "6KxrIgn8QZwk",
        "outputId": "912a1923-ee62-47bb-fac4-499fa351993a"
      },
      "source": [
        "flattened.transpose()"
      ],
      "execution_count": 232,
      "outputs": [
        {
          "output_type": "execute_result",
          "data": {
            "text/plain": [
              "array([[5000,    3,    6],\n",
              "       [   1,    4,    7],\n",
              "       [1000, 2000,    8]])"
            ]
          },
          "metadata": {},
          "execution_count": 232
        }
      ]
    },
    {
      "cell_type": "code",
      "metadata": {
        "colab": {
          "base_uri": "https://localhost:8080/"
        },
        "id": "Ah7rdV08Qcg8",
        "outputId": "7031ee90-6e7b-4942-c8f8-c3eb5651913f"
      },
      "source": [
        "flattened"
      ],
      "execution_count": 233,
      "outputs": [
        {
          "output_type": "execute_result",
          "data": {
            "text/plain": [
              "array([[5000,    1, 1000],\n",
              "       [   3,    4, 2000],\n",
              "       [   6,    7,    8]])"
            ]
          },
          "metadata": {},
          "execution_count": 233
        }
      ]
    },
    {
      "cell_type": "markdown",
      "metadata": {
        "id": "Y-OElM1aQjBd"
      },
      "source": [
        "can also use .T property to transpose"
      ]
    },
    {
      "cell_type": "code",
      "metadata": {
        "colab": {
          "base_uri": "https://localhost:8080/"
        },
        "id": "fgqQ4wJPQndA",
        "outputId": "c639383b-8930-4d1a-d135-f584cad7e65e"
      },
      "source": [
        "flattened.T"
      ],
      "execution_count": 234,
      "outputs": [
        {
          "output_type": "execute_result",
          "data": {
            "text/plain": [
              "array([[5000,    3,    6],\n",
              "       [   1,    4,    7],\n",
              "       [1000, 2000,    8]])"
            ]
          },
          "metadata": {},
          "execution_count": 234
        }
      ]
    },
    {
      "cell_type": "markdown",
      "metadata": {
        "id": "YyIkBQNgQrSO"
      },
      "source": [
        "The .resize() method functions similarly to the .reshape() method, except\n",
        "that while reshaping returns a new array with data copied into it, .resize()\n",
        "performs an in-place reshaping of the array.:"
      ]
    },
    {
      "cell_type": "code",
      "metadata": {
        "colab": {
          "base_uri": "https://localhost:8080/"
        },
        "id": "NpzKNhgYSEmz",
        "outputId": "d0a39bfd-8516-46ca-ea6e-e94157ab6823"
      },
      "source": [
        "# we can also use .resize, which changes shape of an object in-place\n",
        "print(m)\n",
        "m.resize(1,9)\n",
        "m"
      ],
      "execution_count": 235,
      "outputs": [
        {
          "output_type": "stream",
          "name": "stdout",
          "text": [
            "[[   0    1 1000]\n",
            " [   3    4 2000]\n",
            " [   6    7    8]]\n"
          ]
        },
        {
          "output_type": "execute_result",
          "data": {
            "text/plain": [
              "array([[   0,    1, 1000,    3,    4, 2000,    6,    7,    8]])"
            ]
          },
          "metadata": {},
          "execution_count": 235
        }
      ]
    },
    {
      "cell_type": "markdown",
      "metadata": {
        "id": "-XS3RISrSLM0"
      },
      "source": [
        "shape has been changed"
      ]
    }
  ]
}