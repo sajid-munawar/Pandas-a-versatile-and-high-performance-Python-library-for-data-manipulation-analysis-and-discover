{
  "nbformat": 4,
  "nbformat_minor": 0,
  "metadata": {
    "colab": {
      "name": "Chapter_3_Numpy_for_Pandas.ipynb",
      "provenance": [],
      "authorship_tag": "ABX9TyMLCG7aHnm84iV0/6ZBbxMf",
      "include_colab_link": true
    },
    "kernelspec": {
      "name": "python3",
      "display_name": "Python 3"
    },
    "language_info": {
      "name": "python"
    }
  },
  "cells": [
    {
      "cell_type": "markdown",
      "metadata": {
        "id": "view-in-github",
        "colab_type": "text"
      },
      "source": [
        "<a href=\"https://colab.research.google.com/github/sajid-munawar/Pandas-a-versatile-and-high-performance-Python-library-for-data-manipulation-analysis-and-discover/blob/main/Chapter_3_Numpy_for_Pandas.ipynb\" target=\"_parent\"><img src=\"https://colab.research.google.com/assets/colab-badge.svg\" alt=\"Open In Colab\"/></a>"
      ]
    },
    {
      "cell_type": "markdown",
      "metadata": {
        "id": "tOsoH9FHDJAZ"
      },
      "source": [
        "##Chapter_3_Numpy_for_Pandas"
      ]
    },
    {
      "cell_type": "code",
      "metadata": {
        "id": "QqbLhn6gD_h0"
      },
      "source": [
        "#Importing numpy\n",
        "import numpy as np"
      ],
      "execution_count": 1,
      "outputs": []
    },
    {
      "cell_type": "markdown",
      "metadata": {
        "id": "A3GjarfuEp9k"
      },
      "source": [
        "Benefits and characteristics of Numpy arrays\n",
        "\n",
        "\n",
        "*   Contiguous allocation in memory\n",
        "*   Vectorized Operations\n",
        "*   Boolean Selection\n",
        "*   Sliceability\n",
        "\n"
      ]
    },
    {
      "cell_type": "code",
      "metadata": {
        "colab": {
          "base_uri": "https://localhost:8080/"
        },
        "id": "c6JN5j3jEmYh",
        "outputId": "f8630b4c-7064-4e43-ab88-f755374c0298"
      },
      "source": [
        "# A function that sequires all the values in a sequence\n",
        "def squares(values):\n",
        "  result=[]\n",
        "  for v in result:\n",
        "    result.append(v*v)\n",
        "  return result\n",
        "to_squares=range(100000)\n",
        "%timeit squares(to_squares)"
      ],
      "execution_count": 2,
      "outputs": [
        {
          "output_type": "stream",
          "name": "stdout",
          "text": [
            "The slowest run took 7.04 times longer than the fastest. This could mean that an intermediate result is being cached.\n",
            "10000000 loops, best of 5: 184 ns per loop\n"
          ]
        }
      ]
    },
    {
      "cell_type": "code",
      "metadata": {
        "colab": {
          "base_uri": "https://localhost:8080/"
        },
        "id": "J1NYFvIOGs0_",
        "outputId": "1bcf5c52-a22e-4e3d-9e44-3d775a89bc6a"
      },
      "source": [
        "# Using Numpy same function\n",
        "values_to_square=np.arange(0,100000)\n",
        "%timeit values_to_square**2"
      ],
      "execution_count": 3,
      "outputs": [
        {
          "output_type": "stream",
          "name": "stdout",
          "text": [
            "The slowest run took 35.43 times longer than the fastest. This could mean that an intermediate result is being cached.\n",
            "10000 loops, best of 5: 128 µs per loop\n"
          ]
        }
      ]
    },
    {
      "cell_type": "code",
      "metadata": {
        "id": "phCUzPF3HUwY"
      },
      "source": [
        "# Creating Numpy arrays and performing basic array operation"
      ],
      "execution_count": 4,
      "outputs": []
    },
    {
      "cell_type": "code",
      "metadata": {
        "colab": {
          "base_uri": "https://localhost:8080/"
        },
        "id": "3o1kn_QZIR3X",
        "outputId": "d2162ffa-ff02-4927-93a8-bacfb26ca8a0"
      },
      "source": [
        "# a simple array\n",
        "a1=np.array([1,2,3,4,5])\n",
        "a1"
      ],
      "execution_count": 5,
      "outputs": [
        {
          "output_type": "execute_result",
          "data": {
            "text/plain": [
              "array([1, 2, 3, 4, 5])"
            ]
          },
          "metadata": {},
          "execution_count": 5
        }
      ]
    },
    {
      "cell_type": "code",
      "metadata": {
        "colab": {
          "base_uri": "https://localhost:8080/"
        },
        "id": "qEqN6g-PIYzg",
        "outputId": "67b9746a-703f-432f-af38-3d3d77b09d08"
      },
      "source": [
        "type(a1)"
      ],
      "execution_count": 6,
      "outputs": [
        {
          "output_type": "execute_result",
          "data": {
            "text/plain": [
              "numpy.ndarray"
            ]
          },
          "metadata": {},
          "execution_count": 6
        }
      ]
    },
    {
      "cell_type": "code",
      "metadata": {
        "colab": {
          "base_uri": "https://localhost:8080/"
        },
        "id": "8mQmOCpbSdHF",
        "outputId": "10900be5-4b33-424f-a9e4-90834083a69d"
      },
      "source": [
        "np.size(a1)"
      ],
      "execution_count": 7,
      "outputs": [
        {
          "output_type": "execute_result",
          "data": {
            "text/plain": [
              "5"
            ]
          },
          "metadata": {},
          "execution_count": 7
        }
      ]
    },
    {
      "cell_type": "code",
      "metadata": {
        "colab": {
          "base_uri": "https://localhost:8080/"
        },
        "id": "HNmCz_9WShrZ",
        "outputId": "a6701529-994c-44d0-ec0d-a95123ac8ba0"
      },
      "source": [
        "a1.dtype"
      ],
      "execution_count": 8,
      "outputs": [
        {
          "output_type": "execute_result",
          "data": {
            "text/plain": [
              "dtype('int64')"
            ]
          },
          "metadata": {},
          "execution_count": 8
        }
      ]
    },
    {
      "cell_type": "code",
      "metadata": {
        "colab": {
          "base_uri": "https://localhost:8080/"
        },
        "id": "_59HHqWKSpnP",
        "outputId": "9b797203-d531-4974-a8f5-d19f43e91eae"
      },
      "source": [
        "# any one float value makes all array float\n",
        "a2=np.array([1,2,3,4,5.5])\n",
        "a2"
      ],
      "execution_count": 13,
      "outputs": [
        {
          "output_type": "execute_result",
          "data": {
            "text/plain": [
              "array([1. , 2. , 3. , 4. , 5.5])"
            ]
          },
          "metadata": {},
          "execution_count": 13
        }
      ]
    },
    {
      "cell_type": "code",
      "metadata": {
        "colab": {
          "base_uri": "https://localhost:8080/"
        },
        "id": "2mGZuJKNTiPE",
        "outputId": "dbd533be-d5c8-4afe-9b53-299a19e96f5b"
      },
      "source": [
        "a2.dtype"
      ],
      "execution_count": 14,
      "outputs": [
        {
          "output_type": "execute_result",
          "data": {
            "text/plain": [
              "dtype('float64')"
            ]
          },
          "metadata": {},
          "execution_count": 14
        }
      ]
    },
    {
      "cell_type": "code",
      "metadata": {
        "id": "3GP8LU6rTkYy"
      },
      "source": [
        "a2=a2.astype('int64')"
      ],
      "execution_count": 17,
      "outputs": []
    },
    {
      "cell_type": "code",
      "metadata": {
        "colab": {
          "base_uri": "https://localhost:8080/"
        },
        "id": "s7SVQRukTtis",
        "outputId": "6d35ce2e-0cba-4d2a-ef0a-a8d55d00ec87"
      },
      "source": [
        "a2"
      ],
      "execution_count": 18,
      "outputs": [
        {
          "output_type": "execute_result",
          "data": {
            "text/plain": [
              "array([1, 2, 3, 4, 5])"
            ]
          },
          "metadata": {},
          "execution_count": 18
        }
      ]
    },
    {
      "cell_type": "code",
      "metadata": {
        "colab": {
          "base_uri": "https://localhost:8080/"
        },
        "id": "roJSwSwATurm",
        "outputId": "d2837dda-4b76-4bae-dab4-260731876ffe"
      },
      "source": [
        "# shortend to repeat a sequence of numbers\n",
        "a3=np.array([1]*10)\n",
        "a3"
      ],
      "execution_count": 19,
      "outputs": [
        {
          "output_type": "execute_result",
          "data": {
            "text/plain": [
              "array([1, 1, 1, 1, 1, 1, 1, 1, 1, 1])"
            ]
          },
          "metadata": {},
          "execution_count": 19
        }
      ]
    },
    {
      "cell_type": "code",
      "metadata": {
        "colab": {
          "base_uri": "https://localhost:8080/"
        },
        "id": "cu3KjNiBUn67",
        "outputId": "66d655d1-b461-4fec-b98a-e7f0946c6471"
      },
      "source": [
        "# convert a python range to numpy array\n",
        "a4=np.array(range(10))\n",
        "a4"
      ],
      "execution_count": 20,
      "outputs": [
        {
          "output_type": "execute_result",
          "data": {
            "text/plain": [
              "array([0, 1, 2, 3, 4, 5, 6, 7, 8, 9])"
            ]
          },
          "metadata": {},
          "execution_count": 20
        }
      ]
    },
    {
      "cell_type": "code",
      "metadata": {
        "colab": {
          "base_uri": "https://localhost:8080/"
        },
        "id": "SukAXTmpVD0d",
        "outputId": "7daf22d3-ef26-4756-a6ad-90abd5654c6c"
      },
      "source": [
        "# create an array of zeros\n",
        "np.zeros(10)"
      ],
      "execution_count": 21,
      "outputs": [
        {
          "output_type": "execute_result",
          "data": {
            "text/plain": [
              "array([0., 0., 0., 0., 0., 0., 0., 0., 0., 0.])"
            ]
          },
          "metadata": {},
          "execution_count": 21
        }
      ]
    },
    {
      "cell_type": "code",
      "metadata": {
        "colab": {
          "base_uri": "https://localhost:8080/"
        },
        "id": "F_SRXCGZVM3u",
        "outputId": "c5a9172c-5429-4656-f9f8-f059eeb1798f"
      },
      "source": [
        "# force it to be int instead of float\n",
        "np.zeros(10,dtype=\"int64\")"
      ],
      "execution_count": 23,
      "outputs": [
        {
          "output_type": "execute_result",
          "data": {
            "text/plain": [
              "array([0, 0, 0, 0, 0, 0, 0, 0, 0, 0])"
            ]
          },
          "metadata": {},
          "execution_count": 23
        }
      ]
    },
    {
      "cell_type": "code",
      "metadata": {
        "colab": {
          "base_uri": "https://localhost:8080/"
        },
        "id": "obWTr5ExVY2l",
        "outputId": "30693acd-a21e-4698-f18b-448a2a101591"
      },
      "source": [
        "# make a range starting at zero with 10\n",
        "np.arange(0,10)"
      ],
      "execution_count": 25,
      "outputs": [
        {
          "output_type": "execute_result",
          "data": {
            "text/plain": [
              "array([0, 1, 2, 3, 4, 5, 6, 7, 8, 9])"
            ]
          },
          "metadata": {},
          "execution_count": 25
        }
      ]
    },
    {
      "cell_type": "code",
      "metadata": {
        "colab": {
          "base_uri": "https://localhost:8080/"
        },
        "id": "gX1HTrW1VwSc",
        "outputId": "bc2d0982-cf61-4385-d709-5ff499b717d3"
      },
      "source": [
        "# generate of even numbers between 0 and 10\n",
        "np.arange(0,10,2)"
      ],
      "execution_count": 27,
      "outputs": [
        {
          "output_type": "execute_result",
          "data": {
            "text/plain": [
              "array([0, 2, 4, 6, 8])"
            ]
          },
          "metadata": {},
          "execution_count": 27
        }
      ]
    },
    {
      "cell_type": "code",
      "metadata": {
        "colab": {
          "base_uri": "https://localhost:8080/"
        },
        "id": "eZeSQdjcXpe2",
        "outputId": "38a98ac0-36d4-49f1-802a-db37c60f93aa"
      },
      "source": [
        "# counting down\n",
        "np.arange(10,0,-1)"
      ],
      "execution_count": 28,
      "outputs": [
        {
          "output_type": "execute_result",
          "data": {
            "text/plain": [
              "array([10,  9,  8,  7,  6,  5,  4,  3,  2,  1])"
            ]
          },
          "metadata": {},
          "execution_count": 28
        }
      ]
    },
    {
      "cell_type": "code",
      "metadata": {
        "colab": {
          "base_uri": "https://localhost:8080/"
        },
        "id": "5AFe3QYGX5nh",
        "outputId": "90fc068e-1af8-49f7-a04c-cef7b75cc45f"
      },
      "source": [
        "# evenly spaced values between two intervals\n",
        "np.linspace(0,10,11)"
      ],
      "execution_count": 29,
      "outputs": [
        {
          "output_type": "execute_result",
          "data": {
            "text/plain": [
              "array([ 0.,  1.,  2.,  3.,  4.,  5.,  6.,  7.,  8.,  9., 10.])"
            ]
          },
          "metadata": {},
          "execution_count": 29
        }
      ]
    },
    {
      "cell_type": "code",
      "metadata": {
        "colab": {
          "base_uri": "https://localhost:8080/"
        },
        "id": "73h4KbdVYKR2",
        "outputId": "c11268b0-17b5-4a37-fa4e-c63c55915051"
      },
      "source": [
        "# multiple an array with 2\n",
        "a1=np.arange(10)\n",
        "print(a1)\n",
        "a1*2"
      ],
      "execution_count": 30,
      "outputs": [
        {
          "output_type": "stream",
          "name": "stdout",
          "text": [
            "[0 1 2 3 4 5 6 7 8 9]\n"
          ]
        },
        {
          "output_type": "execute_result",
          "data": {
            "text/plain": [
              "array([ 0,  2,  4,  6,  8, 10, 12, 14, 16, 18])"
            ]
          },
          "metadata": {},
          "execution_count": 30
        }
      ]
    },
    {
      "cell_type": "code",
      "metadata": {
        "colab": {
          "base_uri": "https://localhost:8080/"
        },
        "id": "pEDb6cfRYZ5D",
        "outputId": "7585caa5-be03-43cd-dc3c-57751c508cb0"
      },
      "source": [
        "# mathametical operation between two arrays\n",
        "a2=np.arange(10,20)\n",
        "a1+a2"
      ],
      "execution_count": 31,
      "outputs": [
        {
          "output_type": "execute_result",
          "data": {
            "text/plain": [
              "array([10, 12, 14, 16, 18, 20, 22, 24, 26, 28])"
            ]
          },
          "metadata": {},
          "execution_count": 31
        }
      ]
    },
    {
      "cell_type": "code",
      "metadata": {
        "colab": {
          "base_uri": "https://localhost:8080/"
        },
        "id": "qgcCAbNRYsPH",
        "outputId": "6ba76e58-02de-4744-f852-f95448f5d65b"
      },
      "source": [
        "# create a two dimensional array (2*2)\n",
        "a1=np.array([[1,2],[3,4]])\n",
        "a1"
      ],
      "execution_count": 34,
      "outputs": [
        {
          "output_type": "execute_result",
          "data": {
            "text/plain": [
              "array([[1, 2],\n",
              "       [3, 4]])"
            ]
          },
          "metadata": {},
          "execution_count": 34
        }
      ]
    },
    {
      "cell_type": "code",
      "metadata": {
        "id": "zebPuy3yY4yd"
      },
      "source": [
        "# a more efficient way to create or convert an array into two dimensional is np.reshape method\n",
        "m=np.arange(0,20).reshape(5,4)"
      ],
      "execution_count": 35,
      "outputs": []
    },
    {
      "cell_type": "code",
      "metadata": {
        "colab": {
          "base_uri": "https://localhost:8080/"
        },
        "id": "oauTlC6cZkqI",
        "outputId": "d29d59e6-452d-47cb-fb2a-caabc56f6546"
      },
      "source": [
        "m"
      ],
      "execution_count": 36,
      "outputs": [
        {
          "output_type": "execute_result",
          "data": {
            "text/plain": [
              "array([[ 0,  1,  2,  3],\n",
              "       [ 4,  5,  6,  7],\n",
              "       [ 8,  9, 10, 11],\n",
              "       [12, 13, 14, 15],\n",
              "       [16, 17, 18, 19]])"
            ]
          },
          "metadata": {},
          "execution_count": 36
        }
      ]
    },
    {
      "cell_type": "code",
      "metadata": {
        "colab": {
          "base_uri": "https://localhost:8080/"
        },
        "id": "DD8OYIElZlPV",
        "outputId": "a382701b-742d-4c46-e7ca-dd7c8b09cd9b"
      },
      "source": [
        "# size of any dimensional array is the number of elements\n",
        "np.size(m)"
      ],
      "execution_count": 38,
      "outputs": [
        {
          "output_type": "execute_result",
          "data": {
            "text/plain": [
              "20"
            ]
          },
          "metadata": {},
          "execution_count": 38
        }
      ]
    },
    {
      "cell_type": "code",
      "metadata": {
        "colab": {
          "base_uri": "https://localhost:8080/"
        },
        "id": "fN6vZqwCar6a",
        "outputId": "64ef8c3b-45f1-41e4-9d52-ba495c410399"
      },
      "source": [
        "# can ask size along a given axis (0 in rows)\n",
        "np.size(m,0)"
      ],
      "execution_count": 39,
      "outputs": [
        {
          "output_type": "execute_result",
          "data": {
            "text/plain": [
              "5"
            ]
          },
          "metadata": {},
          "execution_count": 39
        }
      ]
    },
    {
      "cell_type": "code",
      "metadata": {
        "colab": {
          "base_uri": "https://localhost:8080/"
        },
        "id": "2kD_JPFKbGQm",
        "outputId": "3c636daa-61e6-41ef-ddf0-606a7eefef12"
      },
      "source": [
        "np.size(m,1)"
      ],
      "execution_count": 40,
      "outputs": [
        {
          "output_type": "execute_result",
          "data": {
            "text/plain": [
              "4"
            ]
          },
          "metadata": {},
          "execution_count": 40
        }
      ]
    },
    {
      "cell_type": "markdown",
      "metadata": {
        "id": "6FT_LUy8bQbn"
      },
      "source": [
        "**Selecting array elements**"
      ]
    },
    {
      "cell_type": "code",
      "metadata": {
        "id": "NjBUh4wybIx6"
      },
      "source": [
        "a1=np.arange(10)"
      ],
      "execution_count": 44,
      "outputs": []
    },
    {
      "cell_type": "code",
      "metadata": {
        "colab": {
          "base_uri": "https://localhost:8080/"
        },
        "id": "L1Fm5_T_cuMr",
        "outputId": "becf0aca-3d7d-4de2-832d-8ac9d408914d"
      },
      "source": [
        "a1[0]"
      ],
      "execution_count": 46,
      "outputs": [
        {
          "output_type": "execute_result",
          "data": {
            "text/plain": [
              "0"
            ]
          },
          "metadata": {},
          "execution_count": 46
        }
      ]
    },
    {
      "cell_type": "code",
      "metadata": {
        "colab": {
          "base_uri": "https://localhost:8080/"
        },
        "id": "X8eDKG3ecyQv",
        "outputId": "042db06a-d499-4c8c-b7c3-4b464678259b"
      },
      "source": [
        "a1[0],a1[2]"
      ],
      "execution_count": 47,
      "outputs": [
        {
          "output_type": "execute_result",
          "data": {
            "text/plain": [
              "(0, 2)"
            ]
          },
          "metadata": {},
          "execution_count": 47
        }
      ]
    },
    {
      "cell_type": "code",
      "metadata": {
        "colab": {
          "base_uri": "https://localhost:8080/"
        },
        "id": "5TjU12Pqc726",
        "outputId": "b5ff031d-f87b-45ef-da9f-a805c8e6375d"
      },
      "source": [
        "m"
      ],
      "execution_count": 48,
      "outputs": [
        {
          "output_type": "execute_result",
          "data": {
            "text/plain": [
              "array([[ 0,  1,  2,  3],\n",
              "       [ 4,  5,  6,  7],\n",
              "       [ 8,  9, 10, 11],\n",
              "       [12, 13, 14, 15],\n",
              "       [16, 17, 18, 19]])"
            ]
          },
          "metadata": {},
          "execution_count": 48
        }
      ]
    },
    {
      "cell_type": "code",
      "metadata": {
        "colab": {
          "base_uri": "https://localhost:8080/"
        },
        "id": "3idxEeAydyUL",
        "outputId": "f1acfb0d-15c2-4821-cc68-69f5886e619a"
      },
      "source": [
        "m[0]"
      ],
      "execution_count": 49,
      "outputs": [
        {
          "output_type": "execute_result",
          "data": {
            "text/plain": [
              "array([0, 1, 2, 3])"
            ]
          },
          "metadata": {},
          "execution_count": 49
        }
      ]
    },
    {
      "cell_type": "code",
      "metadata": {
        "colab": {
          "base_uri": "https://localhost:8080/"
        },
        "id": "-uslSj_ld0Rz",
        "outputId": "d1d9bb2a-818b-4e77-d9b4-0aedb9eb83d6"
      },
      "source": [
        "# select an elemnt at row 1 and column 2\n",
        "m[1,2]"
      ],
      "execution_count": 50,
      "outputs": [
        {
          "output_type": "execute_result",
          "data": {
            "text/plain": [
              "6"
            ]
          },
          "metadata": {},
          "execution_count": 50
        }
      ]
    },
    {
      "cell_type": "code",
      "metadata": {
        "colab": {
          "base_uri": "https://localhost:8080/"
        },
        "id": "gB5C7V3GeAFl",
        "outputId": "b4496d1d-ac41-4ba2-d0c4-aaf6fd98571a"
      },
      "source": [
        "# all items in a row\n",
        "m[0,]"
      ],
      "execution_count": 51,
      "outputs": [
        {
          "output_type": "execute_result",
          "data": {
            "text/plain": [
              "array([0, 1, 2, 3])"
            ]
          },
          "metadata": {},
          "execution_count": 51
        }
      ]
    },
    {
      "cell_type": "code",
      "metadata": {
        "colab": {
          "base_uri": "https://localhost:8080/"
        },
        "id": "wtR0XvvFifTE",
        "outputId": "93fce12d-6f01-41c7-c5fa-2032aa1baa47"
      },
      "source": [
        "# all the items in column 2\n",
        "m[:,2]"
      ],
      "execution_count": 52,
      "outputs": [
        {
          "output_type": "execute_result",
          "data": {
            "text/plain": [
              "array([ 2,  6, 10, 14, 18])"
            ]
          },
          "metadata": {},
          "execution_count": 52
        }
      ]
    },
    {
      "cell_type": "markdown",
      "metadata": {
        "id": "TQQsiqrii8bu"
      },
      "source": [
        "**Logical operations on arrays**"
      ]
    },
    {
      "cell_type": "code",
      "metadata": {
        "colab": {
          "base_uri": "https://localhost:8080/"
        },
        "id": "CZDbxRfbimKi",
        "outputId": "9a23c396-ac9d-4fb2-f649-403d44a844e2"
      },
      "source": [
        "# which items are less than two\n",
        "a=np.arange(5)\n",
        "a<2"
      ],
      "execution_count": 55,
      "outputs": [
        {
          "output_type": "execute_result",
          "data": {
            "text/plain": [
              "array([ True,  True, False, False, False])"
            ]
          },
          "metadata": {},
          "execution_count": 55
        }
      ]
    },
    {
      "cell_type": "code",
      "metadata": {
        "id": "7RBtd0Vti-M_"
      },
      "source": [
        "# this is commented as it will cause an exception\n",
        "# print(a<2 or a>3)"
      ],
      "execution_count": 58,
      "outputs": []
    },
    {
      "cell_type": "code",
      "metadata": {
        "colab": {
          "base_uri": "https://localhost:8080/"
        },
        "id": "15cNawUCjqTt",
        "outputId": "9f513c5e-f9e6-43e1-a9db-faaa65e24ab9"
      },
      "source": [
        "(a<2) | (a>3)"
      ],
      "execution_count": 57,
      "outputs": [
        {
          "output_type": "execute_result",
          "data": {
            "text/plain": [
              "array([ True,  True, False, False,  True])"
            ]
          },
          "metadata": {},
          "execution_count": 57
        }
      ]
    },
    {
      "cell_type": "code",
      "metadata": {
        "colab": {
          "base_uri": "https://localhost:8080/"
        },
        "id": "Q6gPwEfhjxBG",
        "outputId": "46e16594-a1df-4c5a-f72b-96fd9f9e183d"
      },
      "source": [
        "a"
      ],
      "execution_count": 59,
      "outputs": [
        {
          "output_type": "execute_result",
          "data": {
            "text/plain": [
              "array([0, 1, 2, 3, 4])"
            ]
          },
          "metadata": {},
          "execution_count": 59
        }
      ]
    },
    {
      "cell_type": "code",
      "metadata": {
        "id": "B-8w6cfRlYOI"
      },
      "source": [
        "def exp(x):\n",
        "  return x<3 or x>3"
      ],
      "execution_count": 60,
      "outputs": []
    },
    {
      "cell_type": "code",
      "metadata": {
        "colab": {
          "base_uri": "https://localhost:8080/"
        },
        "id": "4svuxzejljO0",
        "outputId": "a54db750-f36b-4c10-e70e-4f105d0f7f75"
      },
      "source": [
        "#  # np.vectorize applies the method to all items in an array\n",
        "np.vectorize(exp)(a)"
      ],
      "execution_count": 62,
      "outputs": [
        {
          "output_type": "execute_result",
          "data": {
            "text/plain": [
              "array([ True,  True,  True, False,  True])"
            ]
          },
          "metadata": {},
          "execution_count": 62
        }
      ]
    },
    {
      "cell_type": "markdown",
      "metadata": {
        "id": "A3g9H6SbmLf7"
      },
      "source": [
        "Boolean selection"
      ]
    },
    {
      "cell_type": "code",
      "metadata": {
        "colab": {
          "base_uri": "https://localhost:8080/"
        },
        "id": "9dzJNLYjlptv",
        "outputId": "85ffe602-2e42-41c8-bf58-96d62d05abde"
      },
      "source": [
        "r=a<3\n",
        "print(r)\n",
        "a[r]"
      ],
      "execution_count": 64,
      "outputs": [
        {
          "output_type": "stream",
          "name": "stdout",
          "text": [
            "[ True  True  True False False]\n"
          ]
        },
        {
          "output_type": "execute_result",
          "data": {
            "text/plain": [
              "array([0, 1, 2])"
            ]
          },
          "metadata": {},
          "execution_count": 64
        }
      ]
    },
    {
      "cell_type": "code",
      "metadata": {
        "colab": {
          "base_uri": "https://localhost:8080/"
        },
        "id": "6QEjYJlImYFk",
        "outputId": "45f4cfd8-6e92-4e19-e2bc-1783e150fe7d"
      },
      "source": [
        "# np.sum counts True as 1 and False as 0\n",
        "# so this is how many items are less than 3\n",
        "np.sum(a<3)"
      ],
      "execution_count": 66,
      "outputs": [
        {
          "output_type": "execute_result",
          "data": {
            "text/plain": [
              "3"
            ]
          },
          "metadata": {},
          "execution_count": 66
        }
      ]
    },
    {
      "cell_type": "code",
      "metadata": {
        "colab": {
          "base_uri": "https://localhost:8080/"
        },
        "id": "qo_d8yXwmjp4",
        "outputId": "bea54724-8c8f-4188-9859-76877ae079a9"
      },
      "source": [
        "# this can be apply across two arrays\n",
        "a1=np.arange(0,5)\n",
        "a2=np.arange(5,0,-1)\n",
        "a1<a2"
      ],
      "execution_count": 67,
      "outputs": [
        {
          "output_type": "execute_result",
          "data": {
            "text/plain": [
              "array([ True,  True,  True, False, False])"
            ]
          },
          "metadata": {},
          "execution_count": 67
        }
      ]
    },
    {
      "cell_type": "code",
      "metadata": {
        "colab": {
          "base_uri": "https://localhost:8080/"
        },
        "id": "UilLfmh6nBw4",
        "outputId": "8532ba2d-1097-40eb-98d4-dc663874c63a"
      },
      "source": [
        "# this also work as multidimensional arrays\n",
        "a1=np.arange(0,9).reshape(3,3)\n",
        "a2=np.arange(9,0,-1).reshape(3,3)\n",
        "\n",
        "a1<a2"
      ],
      "execution_count": 71,
      "outputs": [
        {
          "output_type": "execute_result",
          "data": {
            "text/plain": [
              "array([[ True,  True,  True],\n",
              "       [ True,  True, False],\n",
              "       [False, False, False]])"
            ]
          },
          "metadata": {},
          "execution_count": 71
        }
      ]
    },
    {
      "cell_type": "code",
      "metadata": {
        "colab": {
          "base_uri": "https://localhost:8080/"
        },
        "id": "JJjZrm-CnZEb",
        "outputId": "58de8215-085a-4230-8dfc-ded46980bee5"
      },
      "source": [
        ""
      ],
      "execution_count": 69,
      "outputs": [
        {
          "output_type": "execute_result",
          "data": {
            "text/plain": [
              "array([[0, 1, 2],\n",
              "       [3, 4, 5],\n",
              "       [6, 7, 8]])"
            ]
          },
          "metadata": {},
          "execution_count": 69
        }
      ]
    },
    {
      "cell_type": "code",
      "metadata": {
        "id": "b8R-zchynZ7B"
      },
      "source": [
        ""
      ],
      "execution_count": null,
      "outputs": []
    }
  ]
}