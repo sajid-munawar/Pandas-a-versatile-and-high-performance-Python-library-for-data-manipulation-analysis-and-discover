{
  "nbformat": 4,
  "nbformat_minor": 0,
  "metadata": {
    "colab": {
      "name": "Chapter_3_Numpy_for_Pandas.ipynb",
      "provenance": [],
      "authorship_tag": "ABX9TyNR2UkjSBQ766gcybE9kTK+",
      "include_colab_link": true
    },
    "kernelspec": {
      "name": "python3",
      "display_name": "Python 3"
    },
    "language_info": {
      "name": "python"
    }
  },
  "cells": [
    {
      "cell_type": "markdown",
      "metadata": {
        "id": "view-in-github",
        "colab_type": "text"
      },
      "source": [
        "<a href=\"https://colab.research.google.com/github/sajid-munawar/Pandas-a-versatile-and-high-performance-Python-library-for-data-manipulation-analysis-and-discover/blob/main/Chapter_3_Numpy_for_Pandas.ipynb\" target=\"_parent\"><img src=\"https://colab.research.google.com/assets/colab-badge.svg\" alt=\"Open In Colab\"/></a>"
      ]
    },
    {
      "cell_type": "markdown",
      "metadata": {
        "id": "tOsoH9FHDJAZ"
      },
      "source": [
        "##Chapter_3_Numpy_for_Pandas"
      ]
    },
    {
      "cell_type": "code",
      "metadata": {
        "id": "QqbLhn6gD_h0"
      },
      "source": [
        "#Importing numpy\n",
        "import numpy as np"
      ],
      "execution_count": 1,
      "outputs": []
    },
    {
      "cell_type": "markdown",
      "metadata": {
        "id": "A3GjarfuEp9k"
      },
      "source": [
        "Benefits and characteristics of Numpy arrays\n",
        "\n",
        "\n",
        "*   Contiguous allocation in memory\n",
        "*   Vectorized Operations\n",
        "*   Boolean Selection\n",
        "*   Sliceability\n",
        "\n"
      ]
    },
    {
      "cell_type": "code",
      "metadata": {
        "colab": {
          "base_uri": "https://localhost:8080/"
        },
        "id": "c6JN5j3jEmYh",
        "outputId": "f8630b4c-7064-4e43-ab88-f755374c0298"
      },
      "source": [
        "# A function that sequires all the values in a sequence\n",
        "def squares(values):\n",
        "  result=[]\n",
        "  for v in result:\n",
        "    result.append(v*v)\n",
        "  return result\n",
        "to_squares=range(100000)\n",
        "%timeit squares(to_squares)"
      ],
      "execution_count": 2,
      "outputs": [
        {
          "output_type": "stream",
          "name": "stdout",
          "text": [
            "The slowest run took 7.04 times longer than the fastest. This could mean that an intermediate result is being cached.\n",
            "10000000 loops, best of 5: 184 ns per loop\n"
          ]
        }
      ]
    },
    {
      "cell_type": "code",
      "metadata": {
        "colab": {
          "base_uri": "https://localhost:8080/"
        },
        "id": "J1NYFvIOGs0_",
        "outputId": "1bcf5c52-a22e-4e3d-9e44-3d775a89bc6a"
      },
      "source": [
        "# Using Numpy same function\n",
        "values_to_square=np.arange(0,100000)\n",
        "%timeit values_to_square**2"
      ],
      "execution_count": 3,
      "outputs": [
        {
          "output_type": "stream",
          "name": "stdout",
          "text": [
            "The slowest run took 35.43 times longer than the fastest. This could mean that an intermediate result is being cached.\n",
            "10000 loops, best of 5: 128 µs per loop\n"
          ]
        }
      ]
    },
    {
      "cell_type": "code",
      "metadata": {
        "id": "phCUzPF3HUwY"
      },
      "source": [
        ""
      ],
      "execution_count": null,
      "outputs": []
    }
  ]
}