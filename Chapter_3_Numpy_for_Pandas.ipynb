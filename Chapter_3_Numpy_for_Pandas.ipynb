{
  "nbformat": 4,
  "nbformat_minor": 0,
  "metadata": {
    "colab": {
      "name": "Chapter_3_Numpy_for_Pandas.ipynb",
      "provenance": [],
      "authorship_tag": "ABX9TyNwbgWSEMpi6znXUC7omjaO",
      "include_colab_link": true
    },
    "kernelspec": {
      "name": "python3",
      "display_name": "Python 3"
    },
    "language_info": {
      "name": "python"
    }
  },
  "cells": [
    {
      "cell_type": "markdown",
      "metadata": {
        "id": "view-in-github",
        "colab_type": "text"
      },
      "source": [
        "<a href=\"https://colab.research.google.com/github/sajid-munawar/Pandas-a-versatile-and-high-performance-Python-library-for-data-manipulation-analysis-and-discover/blob/main/Chapter_3_Numpy_for_Pandas.ipynb\" target=\"_parent\"><img src=\"https://colab.research.google.com/assets/colab-badge.svg\" alt=\"Open In Colab\"/></a>"
      ]
    },
    {
      "cell_type": "markdown",
      "metadata": {
        "id": "tOsoH9FHDJAZ"
      },
      "source": [
        "##Chapter_3_Numpy_for_Pandas"
      ]
    },
    {
      "cell_type": "code",
      "metadata": {
        "id": "QqbLhn6gD_h0"
      },
      "source": [
        "#Importing numpy\n",
        "import numpy as np"
      ],
      "execution_count": 3,
      "outputs": []
    },
    {
      "cell_type": "markdown",
      "metadata": {
        "id": "A3GjarfuEp9k"
      },
      "source": [
        "Benefits and characteristics of Numpy arrays\n",
        "\n",
        "\n",
        "*   Contiguous allocation in memory\n",
        "*   Vectorized Operations\n",
        "*   Boolean Selection\n",
        "*   Sliceability\n",
        "\n"
      ]
    },
    {
      "cell_type": "code",
      "metadata": {
        "colab": {
          "base_uri": "https://localhost:8080/"
        },
        "id": "c6JN5j3jEmYh",
        "outputId": "c91fcb2f-ef1a-452b-e021-60628ef9b899"
      },
      "source": [
        "# A function that sequires all the values in a sequence\n",
        "def squares(values):\n",
        "  result=[]\n",
        "  for v in result:\n",
        "    result.append(v*v)\n",
        "  return result\n",
        "to_squares=range(100000)\n",
        "%timeit squares(to_squares)"
      ],
      "execution_count": 4,
      "outputs": [
        {
          "output_type": "stream",
          "name": "stdout",
          "text": [
            "The slowest run took 15.03 times longer than the fastest. This could mean that an intermediate result is being cached.\n",
            "10000000 loops, best of 5: 183 ns per loop\n"
          ]
        }
      ]
    },
    {
      "cell_type": "code",
      "metadata": {
        "colab": {
          "base_uri": "https://localhost:8080/"
        },
        "id": "J1NYFvIOGs0_",
        "outputId": "9ca11557-2bae-4e8a-d91b-9a7eb2a65df5"
      },
      "source": [
        "# Using Numpy same function\n",
        "values_to_square=np.arange(0,100000)\n",
        "%timeit values_to_square**2"
      ],
      "execution_count": 5,
      "outputs": [
        {
          "output_type": "stream",
          "name": "stdout",
          "text": [
            "The slowest run took 41.83 times longer than the fastest. This could mean that an intermediate result is being cached.\n",
            "10000 loops, best of 5: 129 µs per loop\n"
          ]
        }
      ]
    },
    {
      "cell_type": "code",
      "metadata": {
        "id": "phCUzPF3HUwY"
      },
      "source": [
        "# Creating Numpy arrays and performing basic array operation"
      ],
      "execution_count": 6,
      "outputs": []
    },
    {
      "cell_type": "code",
      "metadata": {
        "colab": {
          "base_uri": "https://localhost:8080/"
        },
        "id": "3o1kn_QZIR3X",
        "outputId": "72b08fcf-0828-4be1-9368-664cf9b3fa9c"
      },
      "source": [
        "# a simple array\n",
        "a1=np.array([1,2,3,4,5])\n",
        "a1"
      ],
      "execution_count": 7,
      "outputs": [
        {
          "output_type": "execute_result",
          "data": {
            "text/plain": [
              "array([1, 2, 3, 4, 5])"
            ]
          },
          "metadata": {},
          "execution_count": 7
        }
      ]
    },
    {
      "cell_type": "code",
      "metadata": {
        "colab": {
          "base_uri": "https://localhost:8080/"
        },
        "id": "qEqN6g-PIYzg",
        "outputId": "08ce6b66-efed-4587-a48b-da1e592b0e40"
      },
      "source": [
        "type(a1)"
      ],
      "execution_count": 8,
      "outputs": [
        {
          "output_type": "execute_result",
          "data": {
            "text/plain": [
              "numpy.ndarray"
            ]
          },
          "metadata": {},
          "execution_count": 8
        }
      ]
    },
    {
      "cell_type": "code",
      "metadata": {
        "colab": {
          "base_uri": "https://localhost:8080/"
        },
        "id": "8mQmOCpbSdHF",
        "outputId": "366976e2-6cb0-4fdd-c904-a54dcb0c413b"
      },
      "source": [
        "np.size(a1)"
      ],
      "execution_count": 9,
      "outputs": [
        {
          "output_type": "execute_result",
          "data": {
            "text/plain": [
              "5"
            ]
          },
          "metadata": {},
          "execution_count": 9
        }
      ]
    },
    {
      "cell_type": "code",
      "metadata": {
        "colab": {
          "base_uri": "https://localhost:8080/"
        },
        "id": "HNmCz_9WShrZ",
        "outputId": "48fb7048-04b7-462c-f7d4-084ffc9739cd"
      },
      "source": [
        "a1.dtype"
      ],
      "execution_count": 10,
      "outputs": [
        {
          "output_type": "execute_result",
          "data": {
            "text/plain": [
              "dtype('int64')"
            ]
          },
          "metadata": {},
          "execution_count": 10
        }
      ]
    },
    {
      "cell_type": "code",
      "metadata": {
        "colab": {
          "base_uri": "https://localhost:8080/"
        },
        "id": "_59HHqWKSpnP",
        "outputId": "39d4ef60-af4d-4d3e-bff7-27b979af7b66"
      },
      "source": [
        "# any one float value makes all array float\n",
        "a2=np.array([1,2,3,4,5.5])\n",
        "a2"
      ],
      "execution_count": 11,
      "outputs": [
        {
          "output_type": "execute_result",
          "data": {
            "text/plain": [
              "array([1. , 2. , 3. , 4. , 5.5])"
            ]
          },
          "metadata": {},
          "execution_count": 11
        }
      ]
    },
    {
      "cell_type": "code",
      "metadata": {
        "colab": {
          "base_uri": "https://localhost:8080/"
        },
        "id": "2mGZuJKNTiPE",
        "outputId": "e5e271b4-8b35-400e-f3f7-14ba21b88fad"
      },
      "source": [
        "a2.dtype"
      ],
      "execution_count": 12,
      "outputs": [
        {
          "output_type": "execute_result",
          "data": {
            "text/plain": [
              "dtype('float64')"
            ]
          },
          "metadata": {},
          "execution_count": 12
        }
      ]
    },
    {
      "cell_type": "code",
      "metadata": {
        "id": "3GP8LU6rTkYy"
      },
      "source": [
        "a2=a2.astype('int64')"
      ],
      "execution_count": 13,
      "outputs": []
    },
    {
      "cell_type": "code",
      "metadata": {
        "colab": {
          "base_uri": "https://localhost:8080/"
        },
        "id": "s7SVQRukTtis",
        "outputId": "981b387d-9c2f-41ef-cb2b-48aac0c523c0"
      },
      "source": [
        "a2"
      ],
      "execution_count": 14,
      "outputs": [
        {
          "output_type": "execute_result",
          "data": {
            "text/plain": [
              "array([1, 2, 3, 4, 5])"
            ]
          },
          "metadata": {},
          "execution_count": 14
        }
      ]
    },
    {
      "cell_type": "code",
      "metadata": {
        "colab": {
          "base_uri": "https://localhost:8080/"
        },
        "id": "roJSwSwATurm",
        "outputId": "6f3a1de9-dc05-4ec3-af0c-94be74a3a083"
      },
      "source": [
        "# shortend to repeat a sequence of numbers\n",
        "a3=np.array([1]*10)\n",
        "a3"
      ],
      "execution_count": 15,
      "outputs": [
        {
          "output_type": "execute_result",
          "data": {
            "text/plain": [
              "array([1, 1, 1, 1, 1, 1, 1, 1, 1, 1])"
            ]
          },
          "metadata": {},
          "execution_count": 15
        }
      ]
    },
    {
      "cell_type": "code",
      "metadata": {
        "colab": {
          "base_uri": "https://localhost:8080/"
        },
        "id": "cu3KjNiBUn67",
        "outputId": "71d4383a-8c4b-4adf-893c-e2271cb1faa5"
      },
      "source": [
        "# convert a python range to numpy array\n",
        "a4=np.array(range(10))\n",
        "a4"
      ],
      "execution_count": 16,
      "outputs": [
        {
          "output_type": "execute_result",
          "data": {
            "text/plain": [
              "array([0, 1, 2, 3, 4, 5, 6, 7, 8, 9])"
            ]
          },
          "metadata": {},
          "execution_count": 16
        }
      ]
    },
    {
      "cell_type": "code",
      "metadata": {
        "colab": {
          "base_uri": "https://localhost:8080/"
        },
        "id": "SukAXTmpVD0d",
        "outputId": "87da3655-51ac-492e-be17-6d75b4bcb1df"
      },
      "source": [
        "# create an array of zeros\n",
        "np.zeros(10)"
      ],
      "execution_count": 17,
      "outputs": [
        {
          "output_type": "execute_result",
          "data": {
            "text/plain": [
              "array([0., 0., 0., 0., 0., 0., 0., 0., 0., 0.])"
            ]
          },
          "metadata": {},
          "execution_count": 17
        }
      ]
    },
    {
      "cell_type": "code",
      "metadata": {
        "colab": {
          "base_uri": "https://localhost:8080/"
        },
        "id": "F_SRXCGZVM3u",
        "outputId": "736def66-e717-4cf4-c400-d0138a367ef4"
      },
      "source": [
        "# force it to be int instead of float\n",
        "np.zeros(10,dtype=\"int64\")"
      ],
      "execution_count": 18,
      "outputs": [
        {
          "output_type": "execute_result",
          "data": {
            "text/plain": [
              "array([0, 0, 0, 0, 0, 0, 0, 0, 0, 0])"
            ]
          },
          "metadata": {},
          "execution_count": 18
        }
      ]
    },
    {
      "cell_type": "code",
      "metadata": {
        "colab": {
          "base_uri": "https://localhost:8080/"
        },
        "id": "obWTr5ExVY2l",
        "outputId": "0085d5f6-dda1-4ceb-ed2a-fbe82228ea29"
      },
      "source": [
        "# make a range starting at zero with 10\n",
        "np.arange(0,10)"
      ],
      "execution_count": 19,
      "outputs": [
        {
          "output_type": "execute_result",
          "data": {
            "text/plain": [
              "array([0, 1, 2, 3, 4, 5, 6, 7, 8, 9])"
            ]
          },
          "metadata": {},
          "execution_count": 19
        }
      ]
    },
    {
      "cell_type": "code",
      "metadata": {
        "colab": {
          "base_uri": "https://localhost:8080/"
        },
        "id": "gX1HTrW1VwSc",
        "outputId": "4da480dd-daf3-490e-c3aa-798001140799"
      },
      "source": [
        "# generate of even numbers between 0 and 10\n",
        "np.arange(0,10,2)"
      ],
      "execution_count": 20,
      "outputs": [
        {
          "output_type": "execute_result",
          "data": {
            "text/plain": [
              "array([0, 2, 4, 6, 8])"
            ]
          },
          "metadata": {},
          "execution_count": 20
        }
      ]
    },
    {
      "cell_type": "code",
      "metadata": {
        "colab": {
          "base_uri": "https://localhost:8080/"
        },
        "id": "eZeSQdjcXpe2",
        "outputId": "570734bd-28b4-4096-86f8-41160995e92a"
      },
      "source": [
        "# counting down\n",
        "np.arange(10,0,-1)"
      ],
      "execution_count": 21,
      "outputs": [
        {
          "output_type": "execute_result",
          "data": {
            "text/plain": [
              "array([10,  9,  8,  7,  6,  5,  4,  3,  2,  1])"
            ]
          },
          "metadata": {},
          "execution_count": 21
        }
      ]
    },
    {
      "cell_type": "code",
      "metadata": {
        "colab": {
          "base_uri": "https://localhost:8080/"
        },
        "id": "5AFe3QYGX5nh",
        "outputId": "46fe881b-a74c-4ee2-d156-abc7444fefd9"
      },
      "source": [
        "# evenly spaced values between two intervals\n",
        "np.linspace(0,10,11)"
      ],
      "execution_count": 22,
      "outputs": [
        {
          "output_type": "execute_result",
          "data": {
            "text/plain": [
              "array([ 0.,  1.,  2.,  3.,  4.,  5.,  6.,  7.,  8.,  9., 10.])"
            ]
          },
          "metadata": {},
          "execution_count": 22
        }
      ]
    },
    {
      "cell_type": "code",
      "metadata": {
        "colab": {
          "base_uri": "https://localhost:8080/"
        },
        "id": "73h4KbdVYKR2",
        "outputId": "ae4336c7-8326-44bf-90f7-f8db48a0a5ba"
      },
      "source": [
        "# multiple an array with 2\n",
        "a1=np.arange(10)\n",
        "print(a1)\n",
        "a1*2"
      ],
      "execution_count": 23,
      "outputs": [
        {
          "output_type": "stream",
          "name": "stdout",
          "text": [
            "[0 1 2 3 4 5 6 7 8 9]\n"
          ]
        },
        {
          "output_type": "execute_result",
          "data": {
            "text/plain": [
              "array([ 0,  2,  4,  6,  8, 10, 12, 14, 16, 18])"
            ]
          },
          "metadata": {},
          "execution_count": 23
        }
      ]
    },
    {
      "cell_type": "code",
      "metadata": {
        "colab": {
          "base_uri": "https://localhost:8080/"
        },
        "id": "pEDb6cfRYZ5D",
        "outputId": "c20179a6-da4b-443a-9147-d829d774037e"
      },
      "source": [
        "# mathametical operation between two arrays\n",
        "a2=np.arange(10,20)\n",
        "a1+a2"
      ],
      "execution_count": 24,
      "outputs": [
        {
          "output_type": "execute_result",
          "data": {
            "text/plain": [
              "array([10, 12, 14, 16, 18, 20, 22, 24, 26, 28])"
            ]
          },
          "metadata": {},
          "execution_count": 24
        }
      ]
    },
    {
      "cell_type": "code",
      "metadata": {
        "colab": {
          "base_uri": "https://localhost:8080/"
        },
        "id": "qgcCAbNRYsPH",
        "outputId": "421b8d8b-615c-43d0-94da-8a6e0c08dd94"
      },
      "source": [
        "# create a two dimensional array (2*2)\n",
        "a1=np.array([[1,2],[3,4]])\n",
        "a1"
      ],
      "execution_count": 25,
      "outputs": [
        {
          "output_type": "execute_result",
          "data": {
            "text/plain": [
              "array([[1, 2],\n",
              "       [3, 4]])"
            ]
          },
          "metadata": {},
          "execution_count": 25
        }
      ]
    },
    {
      "cell_type": "code",
      "metadata": {
        "id": "zebPuy3yY4yd"
      },
      "source": [
        "# a more efficient way to create or convert an array into two dimensional is np.reshape method\n",
        "m=np.arange(0,20).reshape(5,4)"
      ],
      "execution_count": 26,
      "outputs": []
    },
    {
      "cell_type": "code",
      "metadata": {
        "colab": {
          "base_uri": "https://localhost:8080/"
        },
        "id": "oauTlC6cZkqI",
        "outputId": "12a70569-de85-41ee-ca45-b567a844637a"
      },
      "source": [
        "m"
      ],
      "execution_count": 27,
      "outputs": [
        {
          "output_type": "execute_result",
          "data": {
            "text/plain": [
              "array([[ 0,  1,  2,  3],\n",
              "       [ 4,  5,  6,  7],\n",
              "       [ 8,  9, 10, 11],\n",
              "       [12, 13, 14, 15],\n",
              "       [16, 17, 18, 19]])"
            ]
          },
          "metadata": {},
          "execution_count": 27
        }
      ]
    },
    {
      "cell_type": "code",
      "metadata": {
        "colab": {
          "base_uri": "https://localhost:8080/"
        },
        "id": "DD8OYIElZlPV",
        "outputId": "a8758db8-368c-4aa6-97f2-6d3523d583b9"
      },
      "source": [
        "# size of any dimensional array is the number of elements\n",
        "np.size(m)"
      ],
      "execution_count": 28,
      "outputs": [
        {
          "output_type": "execute_result",
          "data": {
            "text/plain": [
              "20"
            ]
          },
          "metadata": {},
          "execution_count": 28
        }
      ]
    },
    {
      "cell_type": "code",
      "metadata": {
        "colab": {
          "base_uri": "https://localhost:8080/"
        },
        "id": "fN6vZqwCar6a",
        "outputId": "e2e7e425-a48f-47ff-907c-f56ea3597b55"
      },
      "source": [
        "# can ask size along a given axis (0 in rows)\n",
        "np.size(m,0)"
      ],
      "execution_count": 29,
      "outputs": [
        {
          "output_type": "execute_result",
          "data": {
            "text/plain": [
              "5"
            ]
          },
          "metadata": {},
          "execution_count": 29
        }
      ]
    },
    {
      "cell_type": "code",
      "metadata": {
        "colab": {
          "base_uri": "https://localhost:8080/"
        },
        "id": "2kD_JPFKbGQm",
        "outputId": "0ebbdbeb-f865-4379-e642-bcde2e00a2b7"
      },
      "source": [
        "np.size(m,1)"
      ],
      "execution_count": 30,
      "outputs": [
        {
          "output_type": "execute_result",
          "data": {
            "text/plain": [
              "4"
            ]
          },
          "metadata": {},
          "execution_count": 30
        }
      ]
    },
    {
      "cell_type": "markdown",
      "metadata": {
        "id": "6FT_LUy8bQbn"
      },
      "source": [
        "**Selecting array elements**"
      ]
    },
    {
      "cell_type": "code",
      "metadata": {
        "id": "NjBUh4wybIx6"
      },
      "source": [
        "a1=np.arange(10)"
      ],
      "execution_count": 31,
      "outputs": []
    },
    {
      "cell_type": "code",
      "metadata": {
        "colab": {
          "base_uri": "https://localhost:8080/"
        },
        "id": "L1Fm5_T_cuMr",
        "outputId": "54364efa-4749-40d5-d97a-0b88e976c4c2"
      },
      "source": [
        "a1[0]"
      ],
      "execution_count": 32,
      "outputs": [
        {
          "output_type": "execute_result",
          "data": {
            "text/plain": [
              "0"
            ]
          },
          "metadata": {},
          "execution_count": 32
        }
      ]
    },
    {
      "cell_type": "code",
      "metadata": {
        "colab": {
          "base_uri": "https://localhost:8080/"
        },
        "id": "X8eDKG3ecyQv",
        "outputId": "8cd75cf3-c823-48e3-f955-8f549f1b125c"
      },
      "source": [
        "a1[0],a1[2]"
      ],
      "execution_count": 33,
      "outputs": [
        {
          "output_type": "execute_result",
          "data": {
            "text/plain": [
              "(0, 2)"
            ]
          },
          "metadata": {},
          "execution_count": 33
        }
      ]
    },
    {
      "cell_type": "code",
      "metadata": {
        "colab": {
          "base_uri": "https://localhost:8080/"
        },
        "id": "5TjU12Pqc726",
        "outputId": "28729b91-45bb-472d-f9a6-d988f85788e3"
      },
      "source": [
        "m"
      ],
      "execution_count": 34,
      "outputs": [
        {
          "output_type": "execute_result",
          "data": {
            "text/plain": [
              "array([[ 0,  1,  2,  3],\n",
              "       [ 4,  5,  6,  7],\n",
              "       [ 8,  9, 10, 11],\n",
              "       [12, 13, 14, 15],\n",
              "       [16, 17, 18, 19]])"
            ]
          },
          "metadata": {},
          "execution_count": 34
        }
      ]
    },
    {
      "cell_type": "code",
      "metadata": {
        "colab": {
          "base_uri": "https://localhost:8080/"
        },
        "id": "3idxEeAydyUL",
        "outputId": "ae209dbf-6580-463c-b167-e0011680e2ce"
      },
      "source": [
        "m[0]"
      ],
      "execution_count": 35,
      "outputs": [
        {
          "output_type": "execute_result",
          "data": {
            "text/plain": [
              "array([0, 1, 2, 3])"
            ]
          },
          "metadata": {},
          "execution_count": 35
        }
      ]
    },
    {
      "cell_type": "code",
      "metadata": {
        "colab": {
          "base_uri": "https://localhost:8080/"
        },
        "id": "-uslSj_ld0Rz",
        "outputId": "d5887540-c2d5-49f3-d62c-661ff9345069"
      },
      "source": [
        "# select an elemnt at row 1 and column 2\n",
        "m[1,2]"
      ],
      "execution_count": 36,
      "outputs": [
        {
          "output_type": "execute_result",
          "data": {
            "text/plain": [
              "6"
            ]
          },
          "metadata": {},
          "execution_count": 36
        }
      ]
    },
    {
      "cell_type": "code",
      "metadata": {
        "colab": {
          "base_uri": "https://localhost:8080/"
        },
        "id": "gB5C7V3GeAFl",
        "outputId": "df6dabfe-88d2-4ac1-cbea-bed10e4a86e6"
      },
      "source": [
        "# all items in a row\n",
        "m[0,]"
      ],
      "execution_count": 37,
      "outputs": [
        {
          "output_type": "execute_result",
          "data": {
            "text/plain": [
              "array([0, 1, 2, 3])"
            ]
          },
          "metadata": {},
          "execution_count": 37
        }
      ]
    },
    {
      "cell_type": "code",
      "metadata": {
        "colab": {
          "base_uri": "https://localhost:8080/"
        },
        "id": "wtR0XvvFifTE",
        "outputId": "a3c43db8-4900-4920-99ee-9aec4ea2d9e7"
      },
      "source": [
        "# all the items in column 2\n",
        "m[:,2]"
      ],
      "execution_count": 38,
      "outputs": [
        {
          "output_type": "execute_result",
          "data": {
            "text/plain": [
              "array([ 2,  6, 10, 14, 18])"
            ]
          },
          "metadata": {},
          "execution_count": 38
        }
      ]
    },
    {
      "cell_type": "markdown",
      "metadata": {
        "id": "TQQsiqrii8bu"
      },
      "source": [
        "**Logical operations on arrays**"
      ]
    },
    {
      "cell_type": "code",
      "metadata": {
        "colab": {
          "base_uri": "https://localhost:8080/"
        },
        "id": "CZDbxRfbimKi",
        "outputId": "b30d57eb-c655-4943-bdfa-8b9daa1ea8e8"
      },
      "source": [
        "# which items are less than two\n",
        "a=np.arange(5)\n",
        "a<2"
      ],
      "execution_count": 39,
      "outputs": [
        {
          "output_type": "execute_result",
          "data": {
            "text/plain": [
              "array([ True,  True, False, False, False])"
            ]
          },
          "metadata": {},
          "execution_count": 39
        }
      ]
    },
    {
      "cell_type": "code",
      "metadata": {
        "id": "7RBtd0Vti-M_"
      },
      "source": [
        "# this is commented as it will cause an exception\n",
        "# print(a<2 or a>3)"
      ],
      "execution_count": 40,
      "outputs": []
    },
    {
      "cell_type": "code",
      "metadata": {
        "colab": {
          "base_uri": "https://localhost:8080/"
        },
        "id": "15cNawUCjqTt",
        "outputId": "9b9fab53-384e-436f-bbf3-bda86c0a1f9c"
      },
      "source": [
        "(a<2) | (a>3)"
      ],
      "execution_count": 41,
      "outputs": [
        {
          "output_type": "execute_result",
          "data": {
            "text/plain": [
              "array([ True,  True, False, False,  True])"
            ]
          },
          "metadata": {},
          "execution_count": 41
        }
      ]
    },
    {
      "cell_type": "code",
      "metadata": {
        "colab": {
          "base_uri": "https://localhost:8080/"
        },
        "id": "Q6gPwEfhjxBG",
        "outputId": "f3c9f6d1-df49-40a3-badd-c580154ebbc1"
      },
      "source": [
        "a"
      ],
      "execution_count": 42,
      "outputs": [
        {
          "output_type": "execute_result",
          "data": {
            "text/plain": [
              "array([0, 1, 2, 3, 4])"
            ]
          },
          "metadata": {},
          "execution_count": 42
        }
      ]
    },
    {
      "cell_type": "code",
      "metadata": {
        "id": "B-8w6cfRlYOI"
      },
      "source": [
        "def exp(x):\n",
        "  return x<3 or x>3"
      ],
      "execution_count": 43,
      "outputs": []
    },
    {
      "cell_type": "code",
      "metadata": {
        "colab": {
          "base_uri": "https://localhost:8080/"
        },
        "id": "4svuxzejljO0",
        "outputId": "116579a2-a0b8-49d3-d105-f40b656f9583"
      },
      "source": [
        "#  # np.vectorize applies the method to all items in an array\n",
        "np.vectorize(exp)(a)"
      ],
      "execution_count": 44,
      "outputs": [
        {
          "output_type": "execute_result",
          "data": {
            "text/plain": [
              "array([ True,  True,  True, False,  True])"
            ]
          },
          "metadata": {},
          "execution_count": 44
        }
      ]
    },
    {
      "cell_type": "markdown",
      "metadata": {
        "id": "A3g9H6SbmLf7"
      },
      "source": [
        "Boolean selection"
      ]
    },
    {
      "cell_type": "code",
      "metadata": {
        "colab": {
          "base_uri": "https://localhost:8080/"
        },
        "id": "9dzJNLYjlptv",
        "outputId": "7334b3d0-969b-4900-e82a-264e6b4e4c02"
      },
      "source": [
        "r=a<3\n",
        "print(r)\n",
        "a[r]"
      ],
      "execution_count": 45,
      "outputs": [
        {
          "output_type": "stream",
          "name": "stdout",
          "text": [
            "[ True  True  True False False]\n"
          ]
        },
        {
          "output_type": "execute_result",
          "data": {
            "text/plain": [
              "array([0, 1, 2])"
            ]
          },
          "metadata": {},
          "execution_count": 45
        }
      ]
    },
    {
      "cell_type": "code",
      "metadata": {
        "colab": {
          "base_uri": "https://localhost:8080/"
        },
        "id": "6QEjYJlImYFk",
        "outputId": "58f7d25d-f7fe-4f74-b0ab-e3cd3669e32a"
      },
      "source": [
        "# np.sum counts True as 1 and False as 0\n",
        "# so this is how many items are less than 3\n",
        "np.sum(a<3)"
      ],
      "execution_count": 46,
      "outputs": [
        {
          "output_type": "execute_result",
          "data": {
            "text/plain": [
              "3"
            ]
          },
          "metadata": {},
          "execution_count": 46
        }
      ]
    },
    {
      "cell_type": "code",
      "metadata": {
        "colab": {
          "base_uri": "https://localhost:8080/"
        },
        "id": "qo_d8yXwmjp4",
        "outputId": "ba3bc0cc-73a5-4c9e-fd1c-34b54ec32419"
      },
      "source": [
        "# this can be apply across two arrays\n",
        "a1=np.arange(0,5)\n",
        "a2=np.arange(5,0,-1)\n",
        "a1<a2"
      ],
      "execution_count": 47,
      "outputs": [
        {
          "output_type": "execute_result",
          "data": {
            "text/plain": [
              "array([ True,  True,  True, False, False])"
            ]
          },
          "metadata": {},
          "execution_count": 47
        }
      ]
    },
    {
      "cell_type": "code",
      "metadata": {
        "colab": {
          "base_uri": "https://localhost:8080/"
        },
        "id": "UilLfmh6nBw4",
        "outputId": "0d3c3e3d-3e8d-4bf7-ecc7-55bfd4d5bedc"
      },
      "source": [
        "# this also work as multidimensional arrays\n",
        "a1=np.arange(0,9).reshape(3,3)\n",
        "a2=np.arange(9,0,-1).reshape(3,3)\n",
        "\n",
        "a1<a2"
      ],
      "execution_count": 48,
      "outputs": [
        {
          "output_type": "execute_result",
          "data": {
            "text/plain": [
              "array([[ True,  True,  True],\n",
              "       [ True,  True, False],\n",
              "       [False, False, False]])"
            ]
          },
          "metadata": {},
          "execution_count": 48
        }
      ]
    },
    {
      "cell_type": "code",
      "metadata": {
        "id": "JJjZrm-CnZEb"
      },
      "source": [
        ""
      ],
      "execution_count": 48,
      "outputs": []
    },
    {
      "cell_type": "code",
      "metadata": {
        "id": "b8R-zchynZ7B"
      },
      "source": [
        ""
      ],
      "execution_count": 48,
      "outputs": []
    },
    {
      "cell_type": "markdown",
      "metadata": {
        "id": "u4GY3bwmon7U"
      },
      "source": [
        "**`Slicing arrays`**"
      ]
    },
    {
      "cell_type": "markdown",
      "metadata": {
        "id": "XgNI9iGzosTr"
      },
      "source": [
        " start:end:step"
      ]
    },
    {
      "cell_type": "code",
      "metadata": {
        "colab": {
          "base_uri": "https://localhost:8080/"
        },
        "id": "pgHIEBZjqKsu",
        "outputId": "e821345d-b1bd-48e1-e4aa-12b9ea1405e7"
      },
      "source": [
        "# get all items in the array from position 3 up to position 8 (but not inclusive)\n",
        "a1=np.arange(1,10)\n",
        "print(a1)\n",
        "a1[3:8]"
      ],
      "execution_count": 49,
      "outputs": [
        {
          "output_type": "stream",
          "name": "stdout",
          "text": [
            "[1 2 3 4 5 6 7 8 9]\n"
          ]
        },
        {
          "output_type": "execute_result",
          "data": {
            "text/plain": [
              "array([4, 5, 6, 7, 8])"
            ]
          },
          "metadata": {},
          "execution_count": 49
        }
      ]
    },
    {
      "cell_type": "code",
      "metadata": {
        "colab": {
          "base_uri": "https://localhost:8080/"
        },
        "id": "GLcHFAaGq08i",
        "outputId": "038c2e18-2d20-489d-b5e5-3d212082f316"
      },
      "source": [
        "# every other item\n",
        "a1[::2]"
      ],
      "execution_count": 50,
      "outputs": [
        {
          "output_type": "execute_result",
          "data": {
            "text/plain": [
              "array([1, 3, 5, 7, 9])"
            ]
          },
          "metadata": {},
          "execution_count": 50
        }
      ]
    },
    {
      "cell_type": "code",
      "metadata": {
        "colab": {
          "base_uri": "https://localhost:8080/"
        },
        "id": "IwCYWn3JrDjj",
        "outputId": "850132aa-2cc5-4f5e-c928-40011023ef18"
      },
      "source": [
        "# in reverse order\n",
        "a1[::-1]"
      ],
      "execution_count": 51,
      "outputs": [
        {
          "output_type": "execute_result",
          "data": {
            "text/plain": [
              "array([9, 8, 7, 6, 5, 4, 3, 2, 1])"
            ]
          },
          "metadata": {},
          "execution_count": 51
        }
      ]
    },
    {
      "cell_type": "code",
      "metadata": {
        "colab": {
          "base_uri": "https://localhost:8080/"
        },
        "id": "6htxAXG0rdIe",
        "outputId": "c1340e3d-6beb-4271-d3a3-d42a341e180b"
      },
      "source": [
        "  # that is, there is no 1 printed in this\n",
        "  a1[9:0:-1]"
      ],
      "execution_count": 52,
      "outputs": [
        {
          "output_type": "execute_result",
          "data": {
            "text/plain": [
              "array([9, 8, 7, 6, 5, 4, 3, 2])"
            ]
          },
          "metadata": {},
          "execution_count": 52
        }
      ]
    },
    {
      "cell_type": "code",
      "metadata": {
        "colab": {
          "base_uri": "https://localhost:8080/"
        },
        "id": "dn_xb8daIST7",
        "outputId": "9b9787f2-5cc1-4d4a-a16e-9a97d976abb7"
      },
      "source": [
        "# all items from position 5 onwards\n",
        "a1[5:]"
      ],
      "execution_count": 55,
      "outputs": [
        {
          "output_type": "execute_result",
          "data": {
            "text/plain": [
              "array([6, 7, 8, 9])"
            ]
          },
          "metadata": {},
          "execution_count": 55
        }
      ]
    },
    {
      "cell_type": "code",
      "metadata": {
        "colab": {
          "base_uri": "https://localhost:8080/"
        },
        "id": "mg9v5Xz5IiCF",
        "outputId": "b49ebb9e-25c7-4d25-bc03-f9aff84a24db"
      },
      "source": [
        "# the item in the first 5 positions\n",
        "a1[:5]"
      ],
      "execution_count": 56,
      "outputs": [
        {
          "output_type": "execute_result",
          "data": {
            "text/plain": [
              "array([1, 2, 3, 4, 5])"
            ]
          },
          "metadata": {},
          "execution_count": 56
        }
      ]
    },
    {
      "cell_type": "markdown",
      "metadata": {
        "id": "jIl_ob1BIqBC"
      },
      "source": [
        "Two-dimensional arrays can also be sliced"
      ]
    },
    {
      "cell_type": "code",
      "metadata": {
        "colab": {
          "base_uri": "https://localhost:8080/"
        },
        "id": "uhUb6AA-JODe",
        "outputId": "bc96987b-bc59-4312-b86b-ccd77c9d7e0c"
      },
      "source": [
        "# get items in column position 1, all row\n",
        "m[:,1]"
      ],
      "execution_count": 59,
      "outputs": [
        {
          "output_type": "execute_result",
          "data": {
            "text/plain": [
              "array([ 1,  5,  9, 13, 17])"
            ]
          },
          "metadata": {},
          "execution_count": 59
        }
      ]
    },
    {
      "cell_type": "code",
      "metadata": {
        "colab": {
          "base_uri": "https://localhost:8080/"
        },
        "id": "pzVc_fvHJP5e",
        "outputId": "73b5b3b5-c7b3-4d5e-bd1c-eaf535c27d95"
      },
      "source": [
        "# in all rows, but for all columns in positions 1 up to but not including 3\n",
        "m[:,1:3]"
      ],
      "execution_count": 58,
      "outputs": [
        {
          "output_type": "execute_result",
          "data": {
            "text/plain": [
              "array([[ 1,  2],\n",
              "       [ 5,  6],\n",
              "       [ 9, 10],\n",
              "       [13, 14],\n",
              "       [17, 18]])"
            ]
          },
          "metadata": {},
          "execution_count": 58
        }
      ]
    },
    {
      "cell_type": "code",
      "metadata": {
        "colab": {
          "base_uri": "https://localhost:8080/"
        },
        "id": "9EwM_vDoJgWV",
        "outputId": "43b13c22-2eb1-4e0a-e746-a79191f529a4"
      },
      "source": [
        "# row positions 3 up to but not including 5, all columns\n",
        "m[3:5,:]"
      ],
      "execution_count": 60,
      "outputs": [
        {
          "output_type": "execute_result",
          "data": {
            "text/plain": [
              "array([[12, 13, 14, 15],\n",
              "       [16, 17, 18, 19]])"
            ]
          },
          "metadata": {},
          "execution_count": 60
        }
      ]
    },
    {
      "cell_type": "code",
      "metadata": {
        "colab": {
          "base_uri": "https://localhost:8080/"
        },
        "id": "DrxCNappJ07B",
        "outputId": "0d11e72c-1e8a-4c9a-d9fb-e7dfb3224d91"
      },
      "source": [
        "m[3:5,]"
      ],
      "execution_count": 61,
      "outputs": [
        {
          "output_type": "execute_result",
          "data": {
            "text/plain": [
              "array([[12, 13, 14, 15],\n",
              "       [16, 17, 18, 19]])"
            ]
          },
          "metadata": {},
          "execution_count": 61
        }
      ]
    },
    {
      "cell_type": "markdown",
      "metadata": {
        "id": "BFKK32O2J419"
      },
      "source": [
        "Both columns and rows can be sliced at the same time:\n",
        " combined to pull out a sub matrix of the matrix"
      ]
    },
    {
      "cell_type": "code",
      "metadata": {
        "colab": {
          "base_uri": "https://localhost:8080/"
        },
        "id": "aImEFdhDKhJS",
        "outputId": "8146831d-48fa-4533-991f-4e656e2e7781"
      },
      "source": [
        "m[1:3,1:3]"
      ],
      "execution_count": 62,
      "outputs": [
        {
          "output_type": "execute_result",
          "data": {
            "text/plain": [
              "array([[ 5,  6],\n",
              "       [ 9, 10]])"
            ]
          },
          "metadata": {},
          "execution_count": 62
        }
      ]
    },
    {
      "cell_type": "markdown",
      "metadata": {
        "id": "p4Lqpk6LKlOL"
      },
      "source": [
        " using a python array, we can select\n",
        " non-contiguous rows or columns"
      ]
    },
    {
      "cell_type": "code",
      "metadata": {
        "colab": {
          "base_uri": "https://localhost:8080/"
        },
        "id": "MqnN-T96K1g8",
        "outputId": "eef6728a-47eb-4daa-d442-ebb4a9817ee9"
      },
      "source": [
        "m[[1,3,4],:]"
      ],
      "execution_count": 64,
      "outputs": [
        {
          "output_type": "execute_result",
          "data": {
            "text/plain": [
              "array([[ 4,  5,  6,  7],\n",
              "       [12, 13, 14, 15],\n",
              "       [16, 17, 18, 19]])"
            ]
          },
          "metadata": {},
          "execution_count": 64
        }
      ]
    },
    {
      "cell_type": "code",
      "metadata": {
        "id": "h5G10VM9K8FT"
      },
      "source": [
        ""
      ],
      "execution_count": null,
      "outputs": []
    }
  ]
}