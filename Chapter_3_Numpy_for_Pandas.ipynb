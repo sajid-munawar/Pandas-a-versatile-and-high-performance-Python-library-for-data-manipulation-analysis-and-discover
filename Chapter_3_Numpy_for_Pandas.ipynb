{
  "nbformat": 4,
  "nbformat_minor": 0,
  "metadata": {
    "colab": {
      "name": "Chapter_3_Numpy_for_Pandas.ipynb",
      "provenance": [],
      "authorship_tag": "ABX9TyNisVqpXA754eckh31x0diT",
      "include_colab_link": true
    },
    "kernelspec": {
      "name": "python3",
      "display_name": "Python 3"
    },
    "language_info": {
      "name": "python"
    }
  },
  "cells": [
    {
      "cell_type": "markdown",
      "metadata": {
        "id": "view-in-github",
        "colab_type": "text"
      },
      "source": [
        "<a href=\"https://colab.research.google.com/github/sajid-munawar/Pandas-a-versatile-and-high-performance-Python-library-for-data-manipulation-analysis-and-discover/blob/main/Chapter_3_Numpy_for_Pandas.ipynb\" target=\"_parent\"><img src=\"https://colab.research.google.com/assets/colab-badge.svg\" alt=\"Open In Colab\"/></a>"
      ]
    },
    {
      "cell_type": "markdown",
      "metadata": {
        "id": "tOsoH9FHDJAZ"
      },
      "source": [
        "##Chapter_3_Numpy_for_Pandas"
      ]
    },
    {
      "cell_type": "code",
      "metadata": {
        "id": "QqbLhn6gD_h0"
      },
      "source": [
        "#Importing numpy\n",
        "import numpy as np"
      ],
      "execution_count": 2,
      "outputs": []
    },
    {
      "cell_type": "markdown",
      "metadata": {
        "id": "A3GjarfuEp9k"
      },
      "source": [
        "Benefits and characteristics of Numpy arrays\n",
        "\n",
        "\n",
        "*   Contiguous allocation in memory\n",
        "*   Vectorized Operations\n",
        "*   Boolean Selection\n",
        "*   Sliceability\n",
        "\n"
      ]
    },
    {
      "cell_type": "code",
      "metadata": {
        "colab": {
          "base_uri": "https://localhost:8080/"
        },
        "id": "c6JN5j3jEmYh",
        "outputId": "b8685df0-3664-4a9a-ec26-9a067602813c"
      },
      "source": [
        "# A function that sequires all the values in a sequence\n",
        "def squares(values):\n",
        "  result=[]\n",
        "  for v in result:\n",
        "    result.append(v*v)\n",
        "  return result\n",
        "to_squares=range(100000)\n",
        "%timeit squares(to_squares)"
      ],
      "execution_count": 3,
      "outputs": [
        {
          "output_type": "stream",
          "name": "stdout",
          "text": [
            "The slowest run took 17.96 times longer than the fastest. This could mean that an intermediate result is being cached.\n",
            "1000000 loops, best of 5: 177 ns per loop\n"
          ]
        }
      ]
    },
    {
      "cell_type": "code",
      "metadata": {
        "colab": {
          "base_uri": "https://localhost:8080/"
        },
        "id": "J1NYFvIOGs0_",
        "outputId": "ecee89db-94a3-4ee7-d1e6-794980437c8d"
      },
      "source": [
        "# Using Numpy same function\n",
        "values_to_square=np.arange(0,100000)\n",
        "%timeit values_to_square**2"
      ],
      "execution_count": 4,
      "outputs": [
        {
          "output_type": "stream",
          "name": "stdout",
          "text": [
            "The slowest run took 35.29 times longer than the fastest. This could mean that an intermediate result is being cached.\n",
            "10000 loops, best of 5: 126 µs per loop\n"
          ]
        }
      ]
    },
    {
      "cell_type": "code",
      "metadata": {
        "id": "phCUzPF3HUwY"
      },
      "source": [
        "# Creating Numpy arrays and performing basic array operation"
      ],
      "execution_count": 5,
      "outputs": []
    },
    {
      "cell_type": "code",
      "metadata": {
        "colab": {
          "base_uri": "https://localhost:8080/"
        },
        "id": "3o1kn_QZIR3X",
        "outputId": "cd934812-56bb-4ece-affb-1d504623699e"
      },
      "source": [
        "# a simple array\n",
        "a1=np.array([1,2,3,4,5])\n",
        "a1"
      ],
      "execution_count": 6,
      "outputs": [
        {
          "output_type": "execute_result",
          "data": {
            "text/plain": [
              "array([1, 2, 3, 4, 5])"
            ]
          },
          "metadata": {},
          "execution_count": 6
        }
      ]
    },
    {
      "cell_type": "code",
      "metadata": {
        "colab": {
          "base_uri": "https://localhost:8080/"
        },
        "id": "qEqN6g-PIYzg",
        "outputId": "f3cae9e4-e0e8-43fd-cd40-bade73cf6fb8"
      },
      "source": [
        "type(a1)"
      ],
      "execution_count": 7,
      "outputs": [
        {
          "output_type": "execute_result",
          "data": {
            "text/plain": [
              "numpy.ndarray"
            ]
          },
          "metadata": {},
          "execution_count": 7
        }
      ]
    },
    {
      "cell_type": "code",
      "metadata": {
        "colab": {
          "base_uri": "https://localhost:8080/"
        },
        "id": "8mQmOCpbSdHF",
        "outputId": "34c039cc-151d-4ca5-d2c2-15e39c4c0f43"
      },
      "source": [
        "np.size(a1)"
      ],
      "execution_count": 8,
      "outputs": [
        {
          "output_type": "execute_result",
          "data": {
            "text/plain": [
              "5"
            ]
          },
          "metadata": {},
          "execution_count": 8
        }
      ]
    },
    {
      "cell_type": "code",
      "metadata": {
        "colab": {
          "base_uri": "https://localhost:8080/"
        },
        "id": "HNmCz_9WShrZ",
        "outputId": "4573501e-ac4c-4cf0-ce0c-5005313f830c"
      },
      "source": [
        "a1.dtype"
      ],
      "execution_count": 9,
      "outputs": [
        {
          "output_type": "execute_result",
          "data": {
            "text/plain": [
              "dtype('int64')"
            ]
          },
          "metadata": {},
          "execution_count": 9
        }
      ]
    },
    {
      "cell_type": "code",
      "metadata": {
        "colab": {
          "base_uri": "https://localhost:8080/"
        },
        "id": "_59HHqWKSpnP",
        "outputId": "044164d1-ffa1-4cb5-c4be-50ec8bcf67a8"
      },
      "source": [
        "# any one float value makes all array float\n",
        "a2=np.array([1,2,3,4,5.5])\n",
        "a2"
      ],
      "execution_count": 10,
      "outputs": [
        {
          "output_type": "execute_result",
          "data": {
            "text/plain": [
              "array([1. , 2. , 3. , 4. , 5.5])"
            ]
          },
          "metadata": {},
          "execution_count": 10
        }
      ]
    },
    {
      "cell_type": "code",
      "metadata": {
        "colab": {
          "base_uri": "https://localhost:8080/"
        },
        "id": "2mGZuJKNTiPE",
        "outputId": "f6f29c27-5d82-4fb5-ed4c-7e6454f0d98f"
      },
      "source": [
        "a2.dtype"
      ],
      "execution_count": 11,
      "outputs": [
        {
          "output_type": "execute_result",
          "data": {
            "text/plain": [
              "dtype('float64')"
            ]
          },
          "metadata": {},
          "execution_count": 11
        }
      ]
    },
    {
      "cell_type": "code",
      "metadata": {
        "id": "3GP8LU6rTkYy"
      },
      "source": [
        "a2=a2.astype('int64')"
      ],
      "execution_count": 12,
      "outputs": []
    },
    {
      "cell_type": "code",
      "metadata": {
        "colab": {
          "base_uri": "https://localhost:8080/"
        },
        "id": "s7SVQRukTtis",
        "outputId": "a11fee86-0483-443c-bcda-d9e75cbd32a0"
      },
      "source": [
        "a2"
      ],
      "execution_count": 13,
      "outputs": [
        {
          "output_type": "execute_result",
          "data": {
            "text/plain": [
              "array([1, 2, 3, 4, 5])"
            ]
          },
          "metadata": {},
          "execution_count": 13
        }
      ]
    },
    {
      "cell_type": "code",
      "metadata": {
        "colab": {
          "base_uri": "https://localhost:8080/"
        },
        "id": "roJSwSwATurm",
        "outputId": "e00fb70b-22c0-4d0d-fc3c-3a9e9f461fd0"
      },
      "source": [
        "# shortend to repeat a sequence of numbers\n",
        "a3=np.array([1]*10)\n",
        "a3"
      ],
      "execution_count": 14,
      "outputs": [
        {
          "output_type": "execute_result",
          "data": {
            "text/plain": [
              "array([1, 1, 1, 1, 1, 1, 1, 1, 1, 1])"
            ]
          },
          "metadata": {},
          "execution_count": 14
        }
      ]
    },
    {
      "cell_type": "code",
      "metadata": {
        "colab": {
          "base_uri": "https://localhost:8080/"
        },
        "id": "cu3KjNiBUn67",
        "outputId": "501c01d7-4d29-4d73-8bfe-18e4ba404176"
      },
      "source": [
        "# convert a python range to numpy array\n",
        "a4=np.array(range(10))\n",
        "a4"
      ],
      "execution_count": 15,
      "outputs": [
        {
          "output_type": "execute_result",
          "data": {
            "text/plain": [
              "array([0, 1, 2, 3, 4, 5, 6, 7, 8, 9])"
            ]
          },
          "metadata": {},
          "execution_count": 15
        }
      ]
    },
    {
      "cell_type": "code",
      "metadata": {
        "colab": {
          "base_uri": "https://localhost:8080/"
        },
        "id": "SukAXTmpVD0d",
        "outputId": "708e4545-7a8a-4ecb-ec6a-b118764c9b3f"
      },
      "source": [
        "# create an array of zeros\n",
        "np.zeros(10)"
      ],
      "execution_count": 16,
      "outputs": [
        {
          "output_type": "execute_result",
          "data": {
            "text/plain": [
              "array([0., 0., 0., 0., 0., 0., 0., 0., 0., 0.])"
            ]
          },
          "metadata": {},
          "execution_count": 16
        }
      ]
    },
    {
      "cell_type": "code",
      "metadata": {
        "colab": {
          "base_uri": "https://localhost:8080/"
        },
        "id": "F_SRXCGZVM3u",
        "outputId": "a41d9460-2f6e-49d4-90a3-427e24c0ddf4"
      },
      "source": [
        "# force it to be int instead of float\n",
        "np.zeros(10,dtype=\"int64\")"
      ],
      "execution_count": 17,
      "outputs": [
        {
          "output_type": "execute_result",
          "data": {
            "text/plain": [
              "array([0, 0, 0, 0, 0, 0, 0, 0, 0, 0])"
            ]
          },
          "metadata": {},
          "execution_count": 17
        }
      ]
    },
    {
      "cell_type": "code",
      "metadata": {
        "colab": {
          "base_uri": "https://localhost:8080/"
        },
        "id": "obWTr5ExVY2l",
        "outputId": "46aba1ca-db6c-4921-d5ee-499016e50078"
      },
      "source": [
        "# make a range starting at zero with 10\n",
        "np.arange(0,10)"
      ],
      "execution_count": 18,
      "outputs": [
        {
          "output_type": "execute_result",
          "data": {
            "text/plain": [
              "array([0, 1, 2, 3, 4, 5, 6, 7, 8, 9])"
            ]
          },
          "metadata": {},
          "execution_count": 18
        }
      ]
    },
    {
      "cell_type": "code",
      "metadata": {
        "colab": {
          "base_uri": "https://localhost:8080/"
        },
        "id": "gX1HTrW1VwSc",
        "outputId": "782c23f1-c389-48df-dd53-3c75d11daa9b"
      },
      "source": [
        "# generate of even numbers between 0 and 10\n",
        "np.arange(0,10,2)"
      ],
      "execution_count": 19,
      "outputs": [
        {
          "output_type": "execute_result",
          "data": {
            "text/plain": [
              "array([0, 2, 4, 6, 8])"
            ]
          },
          "metadata": {},
          "execution_count": 19
        }
      ]
    },
    {
      "cell_type": "code",
      "metadata": {
        "colab": {
          "base_uri": "https://localhost:8080/"
        },
        "id": "eZeSQdjcXpe2",
        "outputId": "7bc82c2b-453f-41c9-a588-0cf30da449ee"
      },
      "source": [
        "# counting down\n",
        "np.arange(10,0,-1)"
      ],
      "execution_count": 20,
      "outputs": [
        {
          "output_type": "execute_result",
          "data": {
            "text/plain": [
              "array([10,  9,  8,  7,  6,  5,  4,  3,  2,  1])"
            ]
          },
          "metadata": {},
          "execution_count": 20
        }
      ]
    },
    {
      "cell_type": "code",
      "metadata": {
        "colab": {
          "base_uri": "https://localhost:8080/"
        },
        "id": "5AFe3QYGX5nh",
        "outputId": "b89462a3-b034-4f5b-fabd-6eed7071b3e0"
      },
      "source": [
        "# evenly spaced values between two intervals\n",
        "np.linspace(0,10,11)"
      ],
      "execution_count": 21,
      "outputs": [
        {
          "output_type": "execute_result",
          "data": {
            "text/plain": [
              "array([ 0.,  1.,  2.,  3.,  4.,  5.,  6.,  7.,  8.,  9., 10.])"
            ]
          },
          "metadata": {},
          "execution_count": 21
        }
      ]
    },
    {
      "cell_type": "code",
      "metadata": {
        "colab": {
          "base_uri": "https://localhost:8080/"
        },
        "id": "73h4KbdVYKR2",
        "outputId": "793f40e5-b1f7-4672-cb06-0bb8c8011d4b"
      },
      "source": [
        "# multiple an array with 2\n",
        "a1=np.arange(10)\n",
        "print(a1)\n",
        "a1*2"
      ],
      "execution_count": 22,
      "outputs": [
        {
          "output_type": "stream",
          "name": "stdout",
          "text": [
            "[0 1 2 3 4 5 6 7 8 9]\n"
          ]
        },
        {
          "output_type": "execute_result",
          "data": {
            "text/plain": [
              "array([ 0,  2,  4,  6,  8, 10, 12, 14, 16, 18])"
            ]
          },
          "metadata": {},
          "execution_count": 22
        }
      ]
    },
    {
      "cell_type": "code",
      "metadata": {
        "colab": {
          "base_uri": "https://localhost:8080/"
        },
        "id": "pEDb6cfRYZ5D",
        "outputId": "4cee9fb1-cd7a-4679-ecae-5c4e19429868"
      },
      "source": [
        "# mathametical operation between two arrays\n",
        "a2=np.arange(10,20)\n",
        "a1+a2"
      ],
      "execution_count": 23,
      "outputs": [
        {
          "output_type": "execute_result",
          "data": {
            "text/plain": [
              "array([10, 12, 14, 16, 18, 20, 22, 24, 26, 28])"
            ]
          },
          "metadata": {},
          "execution_count": 23
        }
      ]
    },
    {
      "cell_type": "code",
      "metadata": {
        "colab": {
          "base_uri": "https://localhost:8080/"
        },
        "id": "qgcCAbNRYsPH",
        "outputId": "f396a6c6-09d7-4c1b-edc7-76d0732a8d07"
      },
      "source": [
        "# create a two dimensional array (2*2)\n",
        "a1=np.array([[1,2],[3,4]])\n",
        "a1"
      ],
      "execution_count": 24,
      "outputs": [
        {
          "output_type": "execute_result",
          "data": {
            "text/plain": [
              "array([[1, 2],\n",
              "       [3, 4]])"
            ]
          },
          "metadata": {},
          "execution_count": 24
        }
      ]
    },
    {
      "cell_type": "code",
      "metadata": {
        "id": "zebPuy3yY4yd"
      },
      "source": [
        "# a more efficient way to create or convert an array into two dimensional is np.reshape method\n",
        "m=np.arange(0,20).reshape(5,4)"
      ],
      "execution_count": 25,
      "outputs": []
    },
    {
      "cell_type": "code",
      "metadata": {
        "colab": {
          "base_uri": "https://localhost:8080/"
        },
        "id": "oauTlC6cZkqI",
        "outputId": "32c94251-6bce-456e-d00a-63b776d537c1"
      },
      "source": [
        "m"
      ],
      "execution_count": 26,
      "outputs": [
        {
          "output_type": "execute_result",
          "data": {
            "text/plain": [
              "array([[ 0,  1,  2,  3],\n",
              "       [ 4,  5,  6,  7],\n",
              "       [ 8,  9, 10, 11],\n",
              "       [12, 13, 14, 15],\n",
              "       [16, 17, 18, 19]])"
            ]
          },
          "metadata": {},
          "execution_count": 26
        }
      ]
    },
    {
      "cell_type": "code",
      "metadata": {
        "colab": {
          "base_uri": "https://localhost:8080/"
        },
        "id": "DD8OYIElZlPV",
        "outputId": "8bb905d1-f1bf-47f4-83c7-0ab7b81b595a"
      },
      "source": [
        "# size of any dimensional array is the number of elements\n",
        "np.size(m)"
      ],
      "execution_count": 27,
      "outputs": [
        {
          "output_type": "execute_result",
          "data": {
            "text/plain": [
              "20"
            ]
          },
          "metadata": {},
          "execution_count": 27
        }
      ]
    },
    {
      "cell_type": "code",
      "metadata": {
        "colab": {
          "base_uri": "https://localhost:8080/"
        },
        "id": "fN6vZqwCar6a",
        "outputId": "77f2cc45-5596-486f-8b15-3faeb684760d"
      },
      "source": [
        "# can ask size along a given axis (0 in rows)\n",
        "np.size(m,0)"
      ],
      "execution_count": 28,
      "outputs": [
        {
          "output_type": "execute_result",
          "data": {
            "text/plain": [
              "5"
            ]
          },
          "metadata": {},
          "execution_count": 28
        }
      ]
    },
    {
      "cell_type": "code",
      "metadata": {
        "colab": {
          "base_uri": "https://localhost:8080/"
        },
        "id": "2kD_JPFKbGQm",
        "outputId": "ec922fc3-e7a3-4d07-c680-fad94a2b45c7"
      },
      "source": [
        "np.size(m,1)"
      ],
      "execution_count": 29,
      "outputs": [
        {
          "output_type": "execute_result",
          "data": {
            "text/plain": [
              "4"
            ]
          },
          "metadata": {},
          "execution_count": 29
        }
      ]
    },
    {
      "cell_type": "markdown",
      "metadata": {
        "id": "6FT_LUy8bQbn"
      },
      "source": [
        "**Selecting array elements**"
      ]
    },
    {
      "cell_type": "code",
      "metadata": {
        "id": "NjBUh4wybIx6"
      },
      "source": [
        "a1=np.arange(10)"
      ],
      "execution_count": 30,
      "outputs": []
    },
    {
      "cell_type": "code",
      "metadata": {
        "colab": {
          "base_uri": "https://localhost:8080/"
        },
        "id": "L1Fm5_T_cuMr",
        "outputId": "a885ce1d-618a-459b-b017-202ae9555047"
      },
      "source": [
        "a1[0]"
      ],
      "execution_count": 31,
      "outputs": [
        {
          "output_type": "execute_result",
          "data": {
            "text/plain": [
              "0"
            ]
          },
          "metadata": {},
          "execution_count": 31
        }
      ]
    },
    {
      "cell_type": "code",
      "metadata": {
        "colab": {
          "base_uri": "https://localhost:8080/"
        },
        "id": "X8eDKG3ecyQv",
        "outputId": "804174ee-cc4a-4cee-d955-e585ebfe2a71"
      },
      "source": [
        "a1[0],a1[2]"
      ],
      "execution_count": 32,
      "outputs": [
        {
          "output_type": "execute_result",
          "data": {
            "text/plain": [
              "(0, 2)"
            ]
          },
          "metadata": {},
          "execution_count": 32
        }
      ]
    },
    {
      "cell_type": "code",
      "metadata": {
        "colab": {
          "base_uri": "https://localhost:8080/"
        },
        "id": "5TjU12Pqc726",
        "outputId": "d027c3c4-be53-4703-88b1-2b17c3eefa50"
      },
      "source": [
        "m"
      ],
      "execution_count": 33,
      "outputs": [
        {
          "output_type": "execute_result",
          "data": {
            "text/plain": [
              "array([[ 0,  1,  2,  3],\n",
              "       [ 4,  5,  6,  7],\n",
              "       [ 8,  9, 10, 11],\n",
              "       [12, 13, 14, 15],\n",
              "       [16, 17, 18, 19]])"
            ]
          },
          "metadata": {},
          "execution_count": 33
        }
      ]
    },
    {
      "cell_type": "code",
      "metadata": {
        "colab": {
          "base_uri": "https://localhost:8080/"
        },
        "id": "3idxEeAydyUL",
        "outputId": "805d18e2-ffd6-4131-ca26-92f503de068d"
      },
      "source": [
        "m[0]"
      ],
      "execution_count": 34,
      "outputs": [
        {
          "output_type": "execute_result",
          "data": {
            "text/plain": [
              "array([0, 1, 2, 3])"
            ]
          },
          "metadata": {},
          "execution_count": 34
        }
      ]
    },
    {
      "cell_type": "code",
      "metadata": {
        "colab": {
          "base_uri": "https://localhost:8080/"
        },
        "id": "-uslSj_ld0Rz",
        "outputId": "922f96c0-94a0-40a4-9515-a2a264508434"
      },
      "source": [
        "# select an elemnt at row 1 and column 2\n",
        "m[1,2]"
      ],
      "execution_count": 35,
      "outputs": [
        {
          "output_type": "execute_result",
          "data": {
            "text/plain": [
              "6"
            ]
          },
          "metadata": {},
          "execution_count": 35
        }
      ]
    },
    {
      "cell_type": "code",
      "metadata": {
        "colab": {
          "base_uri": "https://localhost:8080/"
        },
        "id": "gB5C7V3GeAFl",
        "outputId": "7d55f7bb-a62a-45db-b0dd-fea87f64dd08"
      },
      "source": [
        "# all items in a row\n",
        "m[0,]"
      ],
      "execution_count": 36,
      "outputs": [
        {
          "output_type": "execute_result",
          "data": {
            "text/plain": [
              "array([0, 1, 2, 3])"
            ]
          },
          "metadata": {},
          "execution_count": 36
        }
      ]
    },
    {
      "cell_type": "code",
      "metadata": {
        "colab": {
          "base_uri": "https://localhost:8080/"
        },
        "id": "wtR0XvvFifTE",
        "outputId": "5479380a-e6cc-4184-8084-77aa8e9c5f46"
      },
      "source": [
        "# all the items in column 2\n",
        "m[:,2]"
      ],
      "execution_count": 37,
      "outputs": [
        {
          "output_type": "execute_result",
          "data": {
            "text/plain": [
              "array([ 2,  6, 10, 14, 18])"
            ]
          },
          "metadata": {},
          "execution_count": 37
        }
      ]
    },
    {
      "cell_type": "markdown",
      "metadata": {
        "id": "TQQsiqrii8bu"
      },
      "source": [
        "**Logical operations on arrays**"
      ]
    },
    {
      "cell_type": "code",
      "metadata": {
        "colab": {
          "base_uri": "https://localhost:8080/"
        },
        "id": "CZDbxRfbimKi",
        "outputId": "1a225848-9623-40e6-a29e-fb8dc04dff9f"
      },
      "source": [
        "# which items are less than two\n",
        "a=np.arange(5)\n",
        "a<2"
      ],
      "execution_count": 38,
      "outputs": [
        {
          "output_type": "execute_result",
          "data": {
            "text/plain": [
              "array([ True,  True, False, False, False])"
            ]
          },
          "metadata": {},
          "execution_count": 38
        }
      ]
    },
    {
      "cell_type": "code",
      "metadata": {
        "id": "7RBtd0Vti-M_"
      },
      "source": [
        "# this is commented as it will cause an exception\n",
        "# print(a<2 or a>3)"
      ],
      "execution_count": 39,
      "outputs": []
    },
    {
      "cell_type": "code",
      "metadata": {
        "colab": {
          "base_uri": "https://localhost:8080/"
        },
        "id": "15cNawUCjqTt",
        "outputId": "c32d00aa-c169-4486-9669-fa53d8cdeedd"
      },
      "source": [
        "(a<2) | (a>3)"
      ],
      "execution_count": 40,
      "outputs": [
        {
          "output_type": "execute_result",
          "data": {
            "text/plain": [
              "array([ True,  True, False, False,  True])"
            ]
          },
          "metadata": {},
          "execution_count": 40
        }
      ]
    },
    {
      "cell_type": "code",
      "metadata": {
        "colab": {
          "base_uri": "https://localhost:8080/"
        },
        "id": "Q6gPwEfhjxBG",
        "outputId": "25004511-badc-4fa3-a168-438c8c225568"
      },
      "source": [
        "a"
      ],
      "execution_count": 41,
      "outputs": [
        {
          "output_type": "execute_result",
          "data": {
            "text/plain": [
              "array([0, 1, 2, 3, 4])"
            ]
          },
          "metadata": {},
          "execution_count": 41
        }
      ]
    },
    {
      "cell_type": "code",
      "metadata": {
        "id": "B-8w6cfRlYOI"
      },
      "source": [
        "def exp(x):\n",
        "  return x<3 or x>3"
      ],
      "execution_count": 42,
      "outputs": []
    },
    {
      "cell_type": "code",
      "metadata": {
        "colab": {
          "base_uri": "https://localhost:8080/"
        },
        "id": "4svuxzejljO0",
        "outputId": "bd5faf22-0a9f-452c-d293-9e3a202fd600"
      },
      "source": [
        "#  # np.vectorize applies the method to all items in an array\n",
        "np.vectorize(exp)(a)"
      ],
      "execution_count": 43,
      "outputs": [
        {
          "output_type": "execute_result",
          "data": {
            "text/plain": [
              "array([ True,  True,  True, False,  True])"
            ]
          },
          "metadata": {},
          "execution_count": 43
        }
      ]
    },
    {
      "cell_type": "markdown",
      "metadata": {
        "id": "A3g9H6SbmLf7"
      },
      "source": [
        "Boolean selection"
      ]
    },
    {
      "cell_type": "code",
      "metadata": {
        "colab": {
          "base_uri": "https://localhost:8080/"
        },
        "id": "9dzJNLYjlptv",
        "outputId": "dc592c45-ef65-4345-b427-d0cef92435e2"
      },
      "source": [
        "r=a<3\n",
        "print(r)\n",
        "a[r]"
      ],
      "execution_count": 44,
      "outputs": [
        {
          "output_type": "stream",
          "name": "stdout",
          "text": [
            "[ True  True  True False False]\n"
          ]
        },
        {
          "output_type": "execute_result",
          "data": {
            "text/plain": [
              "array([0, 1, 2])"
            ]
          },
          "metadata": {},
          "execution_count": 44
        }
      ]
    },
    {
      "cell_type": "code",
      "metadata": {
        "colab": {
          "base_uri": "https://localhost:8080/"
        },
        "id": "6QEjYJlImYFk",
        "outputId": "a49aae46-f4b3-46de-ddf1-8fe6a5fb95ba"
      },
      "source": [
        "# np.sum counts True as 1 and False as 0\n",
        "# so this is how many items are less than 3\n",
        "np.sum(a<3)"
      ],
      "execution_count": 45,
      "outputs": [
        {
          "output_type": "execute_result",
          "data": {
            "text/plain": [
              "3"
            ]
          },
          "metadata": {},
          "execution_count": 45
        }
      ]
    },
    {
      "cell_type": "code",
      "metadata": {
        "colab": {
          "base_uri": "https://localhost:8080/"
        },
        "id": "qo_d8yXwmjp4",
        "outputId": "0a80344a-49ce-45d4-9b1a-0482b0130bf8"
      },
      "source": [
        "# this can be apply across two arrays\n",
        "a1=np.arange(0,5)\n",
        "a2=np.arange(5,0,-1)\n",
        "a1<a2"
      ],
      "execution_count": 46,
      "outputs": [
        {
          "output_type": "execute_result",
          "data": {
            "text/plain": [
              "array([ True,  True,  True, False, False])"
            ]
          },
          "metadata": {},
          "execution_count": 46
        }
      ]
    },
    {
      "cell_type": "code",
      "metadata": {
        "colab": {
          "base_uri": "https://localhost:8080/"
        },
        "id": "UilLfmh6nBw4",
        "outputId": "357643d6-27f6-48ee-94c2-89121d492d72"
      },
      "source": [
        "# this also work as multidimensional arrays\n",
        "a1=np.arange(0,9).reshape(3,3)\n",
        "a2=np.arange(9,0,-1).reshape(3,3)\n",
        "\n",
        "a1<a2"
      ],
      "execution_count": 47,
      "outputs": [
        {
          "output_type": "execute_result",
          "data": {
            "text/plain": [
              "array([[ True,  True,  True],\n",
              "       [ True,  True, False],\n",
              "       [False, False, False]])"
            ]
          },
          "metadata": {},
          "execution_count": 47
        }
      ]
    },
    {
      "cell_type": "code",
      "metadata": {
        "id": "JJjZrm-CnZEb"
      },
      "source": [
        ""
      ],
      "execution_count": 47,
      "outputs": []
    },
    {
      "cell_type": "code",
      "metadata": {
        "id": "b8R-zchynZ7B"
      },
      "source": [
        ""
      ],
      "execution_count": 47,
      "outputs": []
    },
    {
      "cell_type": "markdown",
      "metadata": {
        "id": "u4GY3bwmon7U"
      },
      "source": [
        "**`Slicing arrays`**"
      ]
    },
    {
      "cell_type": "markdown",
      "metadata": {
        "id": "XgNI9iGzosTr"
      },
      "source": [
        " start:end:step"
      ]
    },
    {
      "cell_type": "code",
      "metadata": {
        "colab": {
          "base_uri": "https://localhost:8080/"
        },
        "id": "pgHIEBZjqKsu",
        "outputId": "5859859a-7660-44bd-aaa8-5852a28e7206"
      },
      "source": [
        "# get all items in the array from position 3 up to position 8 (but not inclusive)\n",
        "a1=np.arange(1,10)\n",
        "print(a1)\n",
        "a1[3:8]"
      ],
      "execution_count": 48,
      "outputs": [
        {
          "output_type": "stream",
          "name": "stdout",
          "text": [
            "[1 2 3 4 5 6 7 8 9]\n"
          ]
        },
        {
          "output_type": "execute_result",
          "data": {
            "text/plain": [
              "array([4, 5, 6, 7, 8])"
            ]
          },
          "metadata": {},
          "execution_count": 48
        }
      ]
    },
    {
      "cell_type": "code",
      "metadata": {
        "colab": {
          "base_uri": "https://localhost:8080/"
        },
        "id": "GLcHFAaGq08i",
        "outputId": "d5d530c0-2058-487a-f1c2-6b47d4eac2e1"
      },
      "source": [
        "# every other item\n",
        "a1[::2]"
      ],
      "execution_count": 49,
      "outputs": [
        {
          "output_type": "execute_result",
          "data": {
            "text/plain": [
              "array([1, 3, 5, 7, 9])"
            ]
          },
          "metadata": {},
          "execution_count": 49
        }
      ]
    },
    {
      "cell_type": "code",
      "metadata": {
        "colab": {
          "base_uri": "https://localhost:8080/"
        },
        "id": "IwCYWn3JrDjj",
        "outputId": "7bdebfbf-27fe-447d-f3de-8d44b730c8a0"
      },
      "source": [
        "# in reverse order\n",
        "a1[::-1]"
      ],
      "execution_count": 50,
      "outputs": [
        {
          "output_type": "execute_result",
          "data": {
            "text/plain": [
              "array([9, 8, 7, 6, 5, 4, 3, 2, 1])"
            ]
          },
          "metadata": {},
          "execution_count": 50
        }
      ]
    },
    {
      "cell_type": "code",
      "metadata": {
        "colab": {
          "base_uri": "https://localhost:8080/"
        },
        "id": "6htxAXG0rdIe",
        "outputId": "21bf5834-21ff-49fd-bb0e-a12ce15d4eb6"
      },
      "source": [
        "  # that is, there is no 1 printed in this\n",
        "  a1[9:0:-1]"
      ],
      "execution_count": 51,
      "outputs": [
        {
          "output_type": "execute_result",
          "data": {
            "text/plain": [
              "array([9, 8, 7, 6, 5, 4, 3, 2])"
            ]
          },
          "metadata": {},
          "execution_count": 51
        }
      ]
    },
    {
      "cell_type": "code",
      "metadata": {
        "colab": {
          "base_uri": "https://localhost:8080/"
        },
        "id": "dn_xb8daIST7",
        "outputId": "22f8a70c-a857-4a0e-c065-1a50354b8d85"
      },
      "source": [
        "# all items from position 5 onwards\n",
        "a1[5:]"
      ],
      "execution_count": 52,
      "outputs": [
        {
          "output_type": "execute_result",
          "data": {
            "text/plain": [
              "array([6, 7, 8, 9])"
            ]
          },
          "metadata": {},
          "execution_count": 52
        }
      ]
    },
    {
      "cell_type": "code",
      "metadata": {
        "colab": {
          "base_uri": "https://localhost:8080/"
        },
        "id": "mg9v5Xz5IiCF",
        "outputId": "4d552a0f-2015-49ff-e06f-34b831019771"
      },
      "source": [
        "# the item in the first 5 positions\n",
        "a1[:5]"
      ],
      "execution_count": 53,
      "outputs": [
        {
          "output_type": "execute_result",
          "data": {
            "text/plain": [
              "array([1, 2, 3, 4, 5])"
            ]
          },
          "metadata": {},
          "execution_count": 53
        }
      ]
    },
    {
      "cell_type": "markdown",
      "metadata": {
        "id": "jIl_ob1BIqBC"
      },
      "source": [
        "Two-dimensional arrays can also be sliced"
      ]
    },
    {
      "cell_type": "code",
      "metadata": {
        "colab": {
          "base_uri": "https://localhost:8080/"
        },
        "id": "uhUb6AA-JODe",
        "outputId": "6fd657f3-28b8-4fdf-f007-e9e7f39af4d4"
      },
      "source": [
        "# get items in column position 1, all row\n",
        "m[:,1]"
      ],
      "execution_count": 54,
      "outputs": [
        {
          "output_type": "execute_result",
          "data": {
            "text/plain": [
              "array([ 1,  5,  9, 13, 17])"
            ]
          },
          "metadata": {},
          "execution_count": 54
        }
      ]
    },
    {
      "cell_type": "code",
      "metadata": {
        "colab": {
          "base_uri": "https://localhost:8080/"
        },
        "id": "pzVc_fvHJP5e",
        "outputId": "a57024d0-0019-470e-b375-b2317d8a0580"
      },
      "source": [
        "# in all rows, but for all columns in positions 1 up to but not including 3\n",
        "m[:,1:3]"
      ],
      "execution_count": 55,
      "outputs": [
        {
          "output_type": "execute_result",
          "data": {
            "text/plain": [
              "array([[ 1,  2],\n",
              "       [ 5,  6],\n",
              "       [ 9, 10],\n",
              "       [13, 14],\n",
              "       [17, 18]])"
            ]
          },
          "metadata": {},
          "execution_count": 55
        }
      ]
    },
    {
      "cell_type": "code",
      "metadata": {
        "colab": {
          "base_uri": "https://localhost:8080/"
        },
        "id": "9EwM_vDoJgWV",
        "outputId": "3b22a1bd-1da0-4bd1-c966-facea850c075"
      },
      "source": [
        "# row positions 3 up to but not including 5, all columns\n",
        "m[3:5,:]"
      ],
      "execution_count": 56,
      "outputs": [
        {
          "output_type": "execute_result",
          "data": {
            "text/plain": [
              "array([[12, 13, 14, 15],\n",
              "       [16, 17, 18, 19]])"
            ]
          },
          "metadata": {},
          "execution_count": 56
        }
      ]
    },
    {
      "cell_type": "code",
      "metadata": {
        "colab": {
          "base_uri": "https://localhost:8080/"
        },
        "id": "DrxCNappJ07B",
        "outputId": "025cda35-da09-472a-b275-13e4dba9c5f3"
      },
      "source": [
        "m[3:5,]"
      ],
      "execution_count": 57,
      "outputs": [
        {
          "output_type": "execute_result",
          "data": {
            "text/plain": [
              "array([[12, 13, 14, 15],\n",
              "       [16, 17, 18, 19]])"
            ]
          },
          "metadata": {},
          "execution_count": 57
        }
      ]
    },
    {
      "cell_type": "markdown",
      "metadata": {
        "id": "BFKK32O2J419"
      },
      "source": [
        "Both columns and rows can be sliced at the same time:\n",
        " combined to pull out a sub matrix of the matrix"
      ]
    },
    {
      "cell_type": "code",
      "metadata": {
        "colab": {
          "base_uri": "https://localhost:8080/"
        },
        "id": "aImEFdhDKhJS",
        "outputId": "af74ed13-781b-428d-89d7-e840346ee257"
      },
      "source": [
        "m[1:3,1:3]"
      ],
      "execution_count": 58,
      "outputs": [
        {
          "output_type": "execute_result",
          "data": {
            "text/plain": [
              "array([[ 5,  6],\n",
              "       [ 9, 10]])"
            ]
          },
          "metadata": {},
          "execution_count": 58
        }
      ]
    },
    {
      "cell_type": "markdown",
      "metadata": {
        "id": "p4Lqpk6LKlOL"
      },
      "source": [
        " using a python array, we can select\n",
        " non-contiguous rows or columns"
      ]
    },
    {
      "cell_type": "code",
      "metadata": {
        "colab": {
          "base_uri": "https://localhost:8080/"
        },
        "id": "MqnN-T96K1g8",
        "outputId": "16b2439b-09f0-41b6-bcd4-f831a70f34ee"
      },
      "source": [
        "m[[1,3,4],:]"
      ],
      "execution_count": 59,
      "outputs": [
        {
          "output_type": "execute_result",
          "data": {
            "text/plain": [
              "array([[ 4,  5,  6,  7],\n",
              "       [12, 13, 14, 15],\n",
              "       [16, 17, 18, 19]])"
            ]
          },
          "metadata": {},
          "execution_count": 59
        }
      ]
    },
    {
      "cell_type": "markdown",
      "metadata": {
        "id": "h5G10VM9K8FT"
      },
      "source": [
        "#**Reshaping arrays**"
      ]
    },
    {
      "cell_type": "markdown",
      "metadata": {
        "id": "uUaxGNPQLSIo"
      },
      "source": [
        "create a 9 element array (1x9)"
      ]
    },
    {
      "cell_type": "code",
      "metadata": {
        "id": "epX8M6X4Mqne"
      },
      "source": [
        "a1=np.arange(0,9)"
      ],
      "execution_count": 60,
      "outputs": []
    },
    {
      "cell_type": "markdown",
      "metadata": {
        "id": "8RUfnbHVM55s"
      },
      "source": [
        "reshape to a 3x3 2-d array"
      ]
    },
    {
      "cell_type": "code",
      "metadata": {
        "colab": {
          "base_uri": "https://localhost:8080/"
        },
        "id": "j98pcE0-MwET",
        "outputId": "ae4f540e-2ea7-43b7-b659-93bb2e2e926d"
      },
      "source": [
        "m=a1.reshape(3,3)\n",
        "m"
      ],
      "execution_count": 61,
      "outputs": [
        {
          "output_type": "execute_result",
          "data": {
            "text/plain": [
              "array([[0, 1, 2],\n",
              "       [3, 4, 5],\n",
              "       [6, 7, 8]])"
            ]
          },
          "metadata": {},
          "execution_count": 61
        }
      ]
    },
    {
      "cell_type": "markdown",
      "metadata": {
        "id": "LPlc0u4XNAN8"
      },
      "source": [
        "we can reshape downward in dimensions too"
      ]
    },
    {
      "cell_type": "code",
      "metadata": {
        "colab": {
          "base_uri": "https://localhost:8080/"
        },
        "id": "FN7StZURNFEb",
        "outputId": "dde6aff4-be58-4801-b033-644794629cf0"
      },
      "source": [
        "m2=m.reshape(9)\n",
        "m2"
      ],
      "execution_count": 62,
      "outputs": [
        {
          "output_type": "execute_result",
          "data": {
            "text/plain": [
              "array([0, 1, 2, 3, 4, 5, 6, 7, 8])"
            ]
          },
          "metadata": {},
          "execution_count": 62
        }
      ]
    },
    {
      "cell_type": "markdown",
      "metadata": {
        "id": "eeb6qS3uNNwi"
      },
      "source": [
        ".ravel will generate array representing a flattened 2-d array"
      ]
    },
    {
      "cell_type": "code",
      "metadata": {
        "colab": {
          "base_uri": "https://localhost:8080/"
        },
        "id": "4W0Frcl7NU9R",
        "outputId": "06c391c9-b221-4429-ebbc-49b0258973f9"
      },
      "source": [
        "print(m)\n",
        "ravaled=m.ravel()\n",
        "ravaled"
      ],
      "execution_count": 63,
      "outputs": [
        {
          "output_type": "stream",
          "name": "stdout",
          "text": [
            "[[0 1 2]\n",
            " [3 4 5]\n",
            " [6 7 8]]\n"
          ]
        },
        {
          "output_type": "execute_result",
          "data": {
            "text/plain": [
              "array([0, 1, 2, 3, 4, 5, 6, 7, 8])"
            ]
          },
          "metadata": {},
          "execution_count": 63
        }
      ]
    },
    {
      "cell_type": "markdown",
      "metadata": {
        "id": "KzXx4WFRNZHC"
      },
      "source": [
        "it does not alter the shape of the source"
      ]
    },
    {
      "cell_type": "code",
      "metadata": {
        "colab": {
          "base_uri": "https://localhost:8080/"
        },
        "id": "xlnclj7NNkSf",
        "outputId": "00c7e97c-ef51-455b-d651-d5e179137eb1"
      },
      "source": [
        "m"
      ],
      "execution_count": 64,
      "outputs": [
        {
          "output_type": "execute_result",
          "data": {
            "text/plain": [
              "array([[0, 1, 2],\n",
              "       [3, 4, 5],\n",
              "       [6, 7, 8]])"
            ]
          },
          "metadata": {},
          "execution_count": 64
        }
      ]
    },
    {
      "cell_type": "markdown",
      "metadata": {
        "id": "343I05QkNk_P"
      },
      "source": [
        "Even though .reshape() and .ravel() do not change the shape of the original\n",
        "array or matrix, they do actually return a one-dimensional view into the specified\n",
        "array or matrix. If you change an element in this view, the value in the original array\n",
        "or matrix is changed. The following example demonstrates this ability to change\n",
        "items of the original matrix through the view:"
      ]
    },
    {
      "cell_type": "code",
      "metadata": {
        "colab": {
          "base_uri": "https://localhost:8080/"
        },
        "id": "NGiClvcpN-qx",
        "outputId": "5880e169-2912-4803-c445-f49ea6c23b46"
      },
      "source": [
        "reshaped=m.reshape(np.size(m))\n",
        "raveled=m.ravel()\n",
        "print(raveled,'\\n',reshaped)"
      ],
      "execution_count": 65,
      "outputs": [
        {
          "output_type": "stream",
          "name": "stdout",
          "text": [
            "[0 1 2 3 4 5 6 7 8] \n",
            " [0 1 2 3 4 5 6 7 8]\n"
          ]
        }
      ]
    },
    {
      "cell_type": "code",
      "metadata": {
        "colab": {
          "base_uri": "https://localhost:8080/"
        },
        "id": "NOrgeFykObyG",
        "outputId": "b725de9f-f11f-49d4-bb4e-f8b52448f067"
      },
      "source": [
        "reshaped[2]=1000\n",
        "raveled[5]=2000\n",
        "m"
      ],
      "execution_count": 66,
      "outputs": [
        {
          "output_type": "execute_result",
          "data": {
            "text/plain": [
              "array([[   0,    1, 1000],\n",
              "       [   3,    4, 2000],\n",
              "       [   6,    7,    8]])"
            ]
          },
          "metadata": {},
          "execution_count": 66
        }
      ]
    },
    {
      "cell_type": "markdown",
      "metadata": {
        "id": "xwbFnHb3Owmd"
      },
      "source": [
        "The .flatten() method functions similarly to .ravel() but instead returns a new\n",
        "array with copied data instead of a view. Changes to the result do not change the\n",
        "original matrix:"
      ]
    },
    {
      "cell_type": "code",
      "metadata": {
        "colab": {
          "base_uri": "https://localhost:8080/"
        },
        "id": "JwOjd-_rPMrI",
        "outputId": "3806af32-bb5c-40e0-895f-23d21952ddbc"
      },
      "source": [
        "flattened=m.flatten()\n",
        "flattened"
      ],
      "execution_count": 67,
      "outputs": [
        {
          "output_type": "execute_result",
          "data": {
            "text/plain": [
              "array([   0,    1, 1000,    3,    4, 2000,    6,    7,    8])"
            ]
          },
          "metadata": {},
          "execution_count": 67
        }
      ]
    },
    {
      "cell_type": "code",
      "metadata": {
        "id": "NSH_cXo2PT8f"
      },
      "source": [
        "flattened[0]='5000'"
      ],
      "execution_count": 68,
      "outputs": []
    },
    {
      "cell_type": "code",
      "metadata": {
        "colab": {
          "base_uri": "https://localhost:8080/"
        },
        "id": "8Ung71tQPbA6",
        "outputId": "b0e1e8f4-96d1-4292-ec7d-d5a8cffc755b"
      },
      "source": [
        "flattened"
      ],
      "execution_count": 69,
      "outputs": [
        {
          "output_type": "execute_result",
          "data": {
            "text/plain": [
              "array([5000,    1, 1000,    3,    4, 2000,    6,    7,    8])"
            ]
          },
          "metadata": {},
          "execution_count": 69
        }
      ]
    },
    {
      "cell_type": "code",
      "metadata": {
        "colab": {
          "base_uri": "https://localhost:8080/"
        },
        "id": "mLP3JSJhPcxg",
        "outputId": "56157208-a01f-4fa2-bb97-3cb0bfcf0f5b"
      },
      "source": [
        "m"
      ],
      "execution_count": 70,
      "outputs": [
        {
          "output_type": "execute_result",
          "data": {
            "text/plain": [
              "array([[   0,    1, 1000],\n",
              "       [   3,    4, 2000],\n",
              "       [   6,    7,    8]])"
            ]
          },
          "metadata": {},
          "execution_count": 70
        }
      ]
    },
    {
      "cell_type": "markdown",
      "metadata": {
        "id": "IOR2U7xIPjlJ"
      },
      "source": [
        "The .shape property returns a tuple representing the shape of the array:"
      ]
    },
    {
      "cell_type": "code",
      "metadata": {
        "colab": {
          "base_uri": "https://localhost:8080/"
        },
        "id": "AA3_jyvPP7Uo",
        "outputId": "723ae8f6-4b40-487b-ef3b-89e0d5a46dff"
      },
      "source": [
        "m.shape"
      ],
      "execution_count": 71,
      "outputs": [
        {
          "output_type": "execute_result",
          "data": {
            "text/plain": [
              "(3, 3)"
            ]
          },
          "metadata": {},
          "execution_count": 71
        }
      ]
    },
    {
      "cell_type": "code",
      "metadata": {
        "colab": {
          "base_uri": "https://localhost:8080/"
        },
        "id": "EON4qUcyP9at",
        "outputId": "a2240fa9-d7d6-4057-96ea-0b6011f4f273"
      },
      "source": [
        "flattened.shape"
      ],
      "execution_count": 72,
      "outputs": [
        {
          "output_type": "execute_result",
          "data": {
            "text/plain": [
              "(9,)"
            ]
          },
          "metadata": {},
          "execution_count": 72
        }
      ]
    },
    {
      "cell_type": "markdown",
      "metadata": {
        "id": "dJP8Vf-LP_3g"
      },
      "source": [
        "we can reshape by assigning a tuple to the .shape property  we start with this, which has one dimension"
      ]
    },
    {
      "cell_type": "code",
      "metadata": {
        "id": "ezybRP-iQIPU"
      },
      "source": [
        "flattened.shape=(3,3)"
      ],
      "execution_count": 73,
      "outputs": []
    },
    {
      "cell_type": "code",
      "metadata": {
        "colab": {
          "base_uri": "https://localhost:8080/"
        },
        "id": "PY22VYQPQMSC",
        "outputId": "46c6be5f-faed-4ebc-d39d-7628706baa49"
      },
      "source": [
        "flattened"
      ],
      "execution_count": 74,
      "outputs": [
        {
          "output_type": "execute_result",
          "data": {
            "text/plain": [
              "array([[5000,    1, 1000],\n",
              "       [   3,    4, 2000],\n",
              "       [   6,    7,    8]])"
            ]
          },
          "metadata": {},
          "execution_count": 74
        }
      ]
    },
    {
      "cell_type": "markdown",
      "metadata": {
        "id": "BTLGutlBQOwJ"
      },
      "source": [
        "transpose a matrix"
      ]
    },
    {
      "cell_type": "code",
      "metadata": {
        "colab": {
          "base_uri": "https://localhost:8080/"
        },
        "id": "6KxrIgn8QZwk",
        "outputId": "ba0f2bf4-2e41-4ee9-8171-d8e8b1a352dc"
      },
      "source": [
        "flattened.transpose()"
      ],
      "execution_count": 75,
      "outputs": [
        {
          "output_type": "execute_result",
          "data": {
            "text/plain": [
              "array([[5000,    3,    6],\n",
              "       [   1,    4,    7],\n",
              "       [1000, 2000,    8]])"
            ]
          },
          "metadata": {},
          "execution_count": 75
        }
      ]
    },
    {
      "cell_type": "code",
      "metadata": {
        "colab": {
          "base_uri": "https://localhost:8080/"
        },
        "id": "Ah7rdV08Qcg8",
        "outputId": "683ce872-de61-4b65-ccf4-383ecca21c05"
      },
      "source": [
        "flattened"
      ],
      "execution_count": 76,
      "outputs": [
        {
          "output_type": "execute_result",
          "data": {
            "text/plain": [
              "array([[5000,    1, 1000],\n",
              "       [   3,    4, 2000],\n",
              "       [   6,    7,    8]])"
            ]
          },
          "metadata": {},
          "execution_count": 76
        }
      ]
    },
    {
      "cell_type": "markdown",
      "metadata": {
        "id": "Y-OElM1aQjBd"
      },
      "source": [
        "can also use .T property to transpose"
      ]
    },
    {
      "cell_type": "code",
      "metadata": {
        "colab": {
          "base_uri": "https://localhost:8080/"
        },
        "id": "fgqQ4wJPQndA",
        "outputId": "573559de-58fb-40bc-ec46-41a08dd9cb4f"
      },
      "source": [
        "flattened.T"
      ],
      "execution_count": 77,
      "outputs": [
        {
          "output_type": "execute_result",
          "data": {
            "text/plain": [
              "array([[5000,    3,    6],\n",
              "       [   1,    4,    7],\n",
              "       [1000, 2000,    8]])"
            ]
          },
          "metadata": {},
          "execution_count": 77
        }
      ]
    },
    {
      "cell_type": "markdown",
      "metadata": {
        "id": "YyIkBQNgQrSO"
      },
      "source": [
        "The .resize() method functions similarly to the .reshape() method, except\n",
        "that while reshaping returns a new array with data copied into it, .resize()\n",
        "performs an in-place reshaping of the array.:"
      ]
    },
    {
      "cell_type": "code",
      "metadata": {
        "colab": {
          "base_uri": "https://localhost:8080/"
        },
        "id": "NpzKNhgYSEmz",
        "outputId": "865d2cf0-c183-4aff-8c80-a0bf4a2fd055"
      },
      "source": [
        "# we can also use .resize, which changes shape of an object in-place\n",
        "print(m)\n",
        "m.resize(1,9)\n",
        "m"
      ],
      "execution_count": 78,
      "outputs": [
        {
          "output_type": "stream",
          "name": "stdout",
          "text": [
            "[[   0    1 1000]\n",
            " [   3    4 2000]\n",
            " [   6    7    8]]\n"
          ]
        },
        {
          "output_type": "execute_result",
          "data": {
            "text/plain": [
              "array([[   0,    1, 1000,    3,    4, 2000,    6,    7,    8]])"
            ]
          },
          "metadata": {},
          "execution_count": 78
        }
      ]
    },
    {
      "cell_type": "markdown",
      "metadata": {
        "id": "-XS3RISrSLM0"
      },
      "source": [
        "shape has been changed"
      ]
    },
    {
      "cell_type": "markdown",
      "metadata": {
        "id": "OWUyele7gD0X"
      },
      "source": [
        "#**Combining arrays**"
      ]
    },
    {
      "cell_type": "markdown",
      "metadata": {
        "id": "CUqLSLVIgKtQ"
      },
      "source": [
        "creating two arrays for example"
      ]
    },
    {
      "cell_type": "code",
      "metadata": {
        "colab": {
          "base_uri": "https://localhost:8080/"
        },
        "id": "7Jfxnkf8hQKz",
        "outputId": "37b87aaf-82c3-4611-bcac-159437e9677b"
      },
      "source": [
        "a=np.arange(9).reshape(3,3)\n",
        "b=(a+1)*10\n",
        "print(a,'\\n\\n',b)"
      ],
      "execution_count": 79,
      "outputs": [
        {
          "output_type": "stream",
          "name": "stdout",
          "text": [
            "[[0 1 2]\n",
            " [3 4 5]\n",
            " [6 7 8]] \n",
            "\n",
            " [[10 20 30]\n",
            " [40 50 60]\n",
            " [70 80 90]]\n"
          ]
        }
      ]
    },
    {
      "cell_type": "markdown",
      "metadata": {
        "id": "qWhEvtHMhYD7"
      },
      "source": [
        "horizontal stacking"
      ]
    },
    {
      "cell_type": "code",
      "metadata": {
        "colab": {
          "base_uri": "https://localhost:8080/"
        },
        "id": "kExkSk4whui4",
        "outputId": "7188417c-b59f-4467-ad56-54b33d57c165"
      },
      "source": [
        "np.hstack((a,b))"
      ],
      "execution_count": 80,
      "outputs": [
        {
          "output_type": "execute_result",
          "data": {
            "text/plain": [
              "array([[ 0,  1,  2, 10, 20, 30],\n",
              "       [ 3,  4,  5, 40, 50, 60],\n",
              "       [ 6,  7,  8, 70, 80, 90]])"
            ]
          },
          "metadata": {},
          "execution_count": 80
        }
      ]
    },
    {
      "cell_type": "markdown",
      "metadata": {
        "id": "9q4vtD5mhyw-"
      },
      "source": [
        "This functionally is equivalent to using the np.concatenate() function while\n",
        "specifying axis = 1 :"
      ]
    },
    {
      "cell_type": "code",
      "metadata": {
        "colab": {
          "base_uri": "https://localhost:8080/"
        },
        "id": "Jr9jYzbKjEF4",
        "outputId": "f0e04c6d-9089-476d-93eb-b7871dd6e5c9"
      },
      "source": [
        "np.concatenate((a,b),axis=1)"
      ],
      "execution_count": 81,
      "outputs": [
        {
          "output_type": "execute_result",
          "data": {
            "text/plain": [
              "array([[ 0,  1,  2, 10, 20, 30],\n",
              "       [ 3,  4,  5, 40, 50, 60],\n",
              "       [ 6,  7,  8, 70, 80, 90]])"
            ]
          },
          "metadata": {},
          "execution_count": 81
        }
      ]
    },
    {
      "cell_type": "markdown",
      "metadata": {
        "id": "ZF-z5X5ljHab"
      },
      "source": [
        "vertical stacking"
      ]
    },
    {
      "cell_type": "code",
      "metadata": {
        "colab": {
          "base_uri": "https://localhost:8080/"
        },
        "id": "bOQ1PDfojRZR",
        "outputId": "c1f9d50d-1b3d-4847-dd96-974f9382296e"
      },
      "source": [
        "np.vstack((a,b))"
      ],
      "execution_count": 82,
      "outputs": [
        {
          "output_type": "execute_result",
          "data": {
            "text/plain": [
              "array([[ 0,  1,  2],\n",
              "       [ 3,  4,  5],\n",
              "       [ 6,  7,  8],\n",
              "       [10, 20, 30],\n",
              "       [40, 50, 60],\n",
              "       [70, 80, 90]])"
            ]
          },
          "metadata": {},
          "execution_count": 82
        }
      ]
    },
    {
      "cell_type": "markdown",
      "metadata": {
        "id": "jU5heQU7jVCg"
      },
      "source": [
        "Like np.hstack() , this is equivalent to using the concatenate function, except\n",
        "specifying axis=0 :"
      ]
    },
    {
      "cell_type": "code",
      "metadata": {
        "colab": {
          "base_uri": "https://localhost:8080/"
        },
        "id": "-eGZFqnMjlYE",
        "outputId": "52d36cba-8120-4ef2-ba62-2abf4f12a651"
      },
      "source": [
        "np.concatenate((a,b),axis=0)"
      ],
      "execution_count": 83,
      "outputs": [
        {
          "output_type": "execute_result",
          "data": {
            "text/plain": [
              "array([[ 0,  1,  2],\n",
              "       [ 3,  4,  5],\n",
              "       [ 6,  7,  8],\n",
              "       [10, 20, 30],\n",
              "       [40, 50, 60],\n",
              "       [70, 80, 90]])"
            ]
          },
          "metadata": {},
          "execution_count": 83
        }
      ]
    },
    {
      "cell_type": "markdown",
      "metadata": {
        "id": "Rkk0ckZMkcEB"
      },
      "source": [
        "Depth stacking"
      ]
    },
    {
      "cell_type": "markdown",
      "metadata": {
        "id": "63k_Ch4MlLo_"
      },
      "source": [
        "dstack stacks each independent column of a and b"
      ]
    },
    {
      "cell_type": "code",
      "metadata": {
        "colab": {
          "base_uri": "https://localhost:8080/"
        },
        "id": "RbJjMvmylRZN",
        "outputId": "43a06f20-bb62-4c74-f59a-35405e9d91f1"
      },
      "source": [
        "np.dstack((a,b))"
      ],
      "execution_count": 84,
      "outputs": [
        {
          "output_type": "execute_result",
          "data": {
            "text/plain": [
              "array([[[ 0, 10],\n",
              "        [ 1, 20],\n",
              "        [ 2, 30]],\n",
              "\n",
              "       [[ 3, 40],\n",
              "        [ 4, 50],\n",
              "        [ 5, 60]],\n",
              "\n",
              "       [[ 6, 70],\n",
              "        [ 7, 80],\n",
              "        [ 8, 90]]])"
            ]
          },
          "metadata": {},
          "execution_count": 84
        }
      ]
    },
    {
      "cell_type": "markdown",
      "metadata": {
        "id": "EB85POwplVED"
      },
      "source": [
        "Column stacking"
      ]
    },
    {
      "cell_type": "code",
      "metadata": {
        "colab": {
          "base_uri": "https://localhost:8080/"
        },
        "id": "eXGpSzl4ll1b",
        "outputId": "baf4d5dc-6bb1-4708-ce88-4e38e158a120"
      },
      "source": [
        "a=np.arange(5)\n",
        "b=np.arange(5,10)\n",
        "a.size==b.size"
      ],
      "execution_count": 85,
      "outputs": [
        {
          "output_type": "execute_result",
          "data": {
            "text/plain": [
              "True"
            ]
          },
          "metadata": {},
          "execution_count": 85
        }
      ]
    },
    {
      "cell_type": "code",
      "metadata": {
        "colab": {
          "base_uri": "https://localhost:8080/"
        },
        "id": "k6KGzqg7lvY1",
        "outputId": "368d99b9-80bb-4081-e27c-e9cef6942690"
      },
      "source": [
        "np.column_stack((a,b))"
      ],
      "execution_count": 86,
      "outputs": [
        {
          "output_type": "execute_result",
          "data": {
            "text/plain": [
              "array([[0, 5],\n",
              "       [1, 6],\n",
              "       [2, 7],\n",
              "       [3, 8],\n",
              "       [4, 9]])"
            ]
          },
          "metadata": {},
          "execution_count": 86
        }
      ]
    },
    {
      "cell_type": "markdown",
      "metadata": {
        "id": "RWndNHg1ly-t"
      },
      "source": [
        "Rows stack"
      ]
    },
    {
      "cell_type": "code",
      "metadata": {
        "colab": {
          "base_uri": "https://localhost:8080/"
        },
        "id": "atcEeRxMqHlw",
        "outputId": "4bbd0af9-63c5-4a03-f93e-6637df6f58fd"
      },
      "source": [
        "np.row_stack((a,b))"
      ],
      "execution_count": 87,
      "outputs": [
        {
          "output_type": "execute_result",
          "data": {
            "text/plain": [
              "array([[0, 1, 2, 3, 4],\n",
              "       [5, 6, 7, 8, 9]])"
            ]
          },
          "metadata": {},
          "execution_count": 87
        }
      ]
    },
    {
      "cell_type": "markdown",
      "metadata": {
        "id": "54oNUjtAqLE7"
      },
      "source": [
        "#**Splitting Arrays**"
      ]
    },
    {
      "cell_type": "markdown",
      "metadata": {
        "id": "U4tDdwyCuJli"
      },
      "source": [
        "Horizontal split "
      ]
    },
    {
      "cell_type": "code",
      "metadata": {
        "colab": {
          "base_uri": "https://localhost:8080/"
        },
        "id": "-Ao8-clrt7wJ",
        "outputId": "d2d28ba7-6059-4084-ea48-7b1e3074ddda"
      },
      "source": [
        "a=np.arange(12).reshape(3,4)\n",
        "a"
      ],
      "execution_count": 88,
      "outputs": [
        {
          "output_type": "execute_result",
          "data": {
            "text/plain": [
              "array([[ 0,  1,  2,  3],\n",
              "       [ 4,  5,  6,  7],\n",
              "       [ 8,  9, 10, 11]])"
            ]
          },
          "metadata": {},
          "execution_count": 88
        }
      ]
    },
    {
      "cell_type": "code",
      "metadata": {
        "colab": {
          "base_uri": "https://localhost:8080/"
        },
        "id": "7kKKLz2tuEbg",
        "outputId": "c1373961-d355-4a17-cb0f-49ebaa23ab18"
      },
      "source": [
        "np.hsplit(a,4)"
      ],
      "execution_count": 89,
      "outputs": [
        {
          "output_type": "execute_result",
          "data": {
            "text/plain": [
              "[array([[0],\n",
              "        [4],\n",
              "        [8]]), array([[1],\n",
              "        [5],\n",
              "        [9]]), array([[ 2],\n",
              "        [ 6],\n",
              "        [10]]), array([[ 3],\n",
              "        [ 7],\n",
              "        [11]])]"
            ]
          },
          "metadata": {},
          "execution_count": 89
        }
      ]
    },
    {
      "cell_type": "code",
      "metadata": {
        "colab": {
          "base_uri": "https://localhost:8080/"
        },
        "id": "nt3kbPKkuHbx",
        "outputId": "ed7bbff8-bbae-43e2-9eb6-fbc4df531ee9"
      },
      "source": [
        "np.hsplit(a,2)"
      ],
      "execution_count": 90,
      "outputs": [
        {
          "output_type": "execute_result",
          "data": {
            "text/plain": [
              "[array([[0, 1],\n",
              "        [4, 5],\n",
              "        [8, 9]]), array([[ 2,  3],\n",
              "        [ 6,  7],\n",
              "        [10, 11]])]"
            ]
          },
          "metadata": {},
          "execution_count": 90
        }
      ]
    },
    {
      "cell_type": "code",
      "metadata": {
        "colab": {
          "base_uri": "https://localhost:8080/"
        },
        "id": "drcWrIRVuacc",
        "outputId": "13bd54d7-8bb5-422c-843f-6b9425883da5"
      },
      "source": [
        "np.hsplit(a,[3])"
      ],
      "execution_count": 91,
      "outputs": [
        {
          "output_type": "execute_result",
          "data": {
            "text/plain": [
              "[array([[ 0,  1,  2],\n",
              "        [ 4,  5,  6],\n",
              "        [ 8,  9, 10]]), array([[ 3],\n",
              "        [ 7],\n",
              "        [11]])]"
            ]
          },
          "metadata": {},
          "execution_count": 91
        }
      ]
    },
    {
      "cell_type": "markdown",
      "metadata": {
        "id": "O1HInDq_u2VY"
      },
      "source": [
        "split at columns 1,3\n"
      ]
    },
    {
      "cell_type": "code",
      "metadata": {
        "colab": {
          "base_uri": "https://localhost:8080/"
        },
        "id": "mUS4UDzSvIYz",
        "outputId": "de081417-3a0d-4851-bce6-7b6a587a60c7"
      },
      "source": [
        "np.hsplit(a,[1,3])"
      ],
      "execution_count": 92,
      "outputs": [
        {
          "output_type": "execute_result",
          "data": {
            "text/plain": [
              "[array([[0],\n",
              "        [4],\n",
              "        [8]]), array([[ 1,  2],\n",
              "        [ 5,  6],\n",
              "        [ 9, 10]]), array([[ 3],\n",
              "        [ 7],\n",
              "        [11]])]"
            ]
          },
          "metadata": {},
          "execution_count": 92
        }
      ]
    },
    {
      "cell_type": "markdown",
      "metadata": {
        "id": "9rMWV99ovL2h"
      },
      "source": [
        "np.split()"
      ]
    },
    {
      "cell_type": "code",
      "metadata": {
        "colab": {
          "base_uri": "https://localhost:8080/"
        },
        "id": "hpFQW0qyvXbV",
        "outputId": "0c124998-3056-4765-b061-3c75feab93c3"
      },
      "source": [
        "a"
      ],
      "execution_count": 93,
      "outputs": [
        {
          "output_type": "execute_result",
          "data": {
            "text/plain": [
              "array([[ 0,  1,  2,  3],\n",
              "       [ 4,  5,  6,  7],\n",
              "       [ 8,  9, 10, 11]])"
            ]
          },
          "metadata": {},
          "execution_count": 93
        }
      ]
    },
    {
      "cell_type": "code",
      "metadata": {
        "colab": {
          "base_uri": "https://localhost:8080/"
        },
        "id": "C6bNu3_IvYKM",
        "outputId": "686f6b1e-b362-4bd3-85d9-a030ce0198ed"
      },
      "source": [
        "np.split(a,2,axis=1)"
      ],
      "execution_count": 94,
      "outputs": [
        {
          "output_type": "execute_result",
          "data": {
            "text/plain": [
              "[array([[0, 1],\n",
              "        [4, 5],\n",
              "        [8, 9]]), array([[ 2,  3],\n",
              "        [ 6,  7],\n",
              "        [10, 11]])]"
            ]
          },
          "metadata": {},
          "execution_count": 94
        }
      ]
    },
    {
      "cell_type": "code",
      "metadata": {
        "colab": {
          "base_uri": "https://localhost:8080/"
        },
        "id": "8OMmxs-1vcPu",
        "outputId": "0be0b3a7-6ada-4ac0-9001-70f675651d2a"
      },
      "source": [
        "np.split(a,3,axis=0)"
      ],
      "execution_count": 95,
      "outputs": [
        {
          "output_type": "execute_result",
          "data": {
            "text/plain": [
              "[array([[0, 1, 2, 3]]), array([[4, 5, 6, 7]]), array([[ 8,  9, 10, 11]])]"
            ]
          },
          "metadata": {},
          "execution_count": 95
        }
      ]
    },
    {
      "cell_type": "markdown",
      "metadata": {
        "id": "U9_HDCDQvxCf"
      },
      "source": [
        "Vertical split"
      ]
    },
    {
      "cell_type": "code",
      "metadata": {
        "colab": {
          "base_uri": "https://localhost:8080/"
        },
        "id": "vGwMJdfswCl7",
        "outputId": "b2236f4d-6c1c-4fbf-e87c-4d8a47c514d1"
      },
      "source": [
        "a"
      ],
      "execution_count": 96,
      "outputs": [
        {
          "output_type": "execute_result",
          "data": {
            "text/plain": [
              "array([[ 0,  1,  2,  3],\n",
              "       [ 4,  5,  6,  7],\n",
              "       [ 8,  9, 10, 11]])"
            ]
          },
          "metadata": {},
          "execution_count": 96
        }
      ]
    },
    {
      "cell_type": "code",
      "metadata": {
        "colab": {
          "base_uri": "https://localhost:8080/"
        },
        "id": "AvS2nKaDwDd4",
        "outputId": "31c01ae7-c4dc-4e48-9b4d-c71a961cdb32"
      },
      "source": [
        "np.vsplit(a,3)"
      ],
      "execution_count": 97,
      "outputs": [
        {
          "output_type": "execute_result",
          "data": {
            "text/plain": [
              "[array([[0, 1, 2, 3]]), array([[4, 5, 6, 7]]), array([[ 8,  9, 10, 11]])]"
            ]
          },
          "metadata": {},
          "execution_count": 97
        }
      ]
    },
    {
      "cell_type": "code",
      "metadata": {
        "colab": {
          "base_uri": "https://localhost:8080/"
        },
        "id": "XAFsZDQQwG-Q",
        "outputId": "7aba04ef-df57-42d3-955e-7582757ca2c2"
      },
      "source": [
        "np.vsplit(a,[0,2])"
      ],
      "execution_count": 98,
      "outputs": [
        {
          "output_type": "execute_result",
          "data": {
            "text/plain": [
              "[array([], shape=(0, 4), dtype=int64), array([[0, 1, 2, 3],\n",
              "        [4, 5, 6, 7]]), array([[ 8,  9, 10, 11]])]"
            ]
          },
          "metadata": {},
          "execution_count": 98
        }
      ]
    },
    {
      "cell_type": "code",
      "metadata": {
        "colab": {
          "base_uri": "https://localhost:8080/"
        },
        "id": "KglB_05gwrZL",
        "outputId": "34031cda-8aa0-4a82-b4d2-2c496892d772"
      },
      "source": [
        "# 3-d array\n",
        "c=np.arange(27).reshape(3,3,3)\n",
        "c"
      ],
      "execution_count": 100,
      "outputs": [
        {
          "output_type": "execute_result",
          "data": {
            "text/plain": [
              "array([[[ 0,  1,  2],\n",
              "        [ 3,  4,  5],\n",
              "        [ 6,  7,  8]],\n",
              "\n",
              "       [[ 9, 10, 11],\n",
              "        [12, 13, 14],\n",
              "        [15, 16, 17]],\n",
              "\n",
              "       [[18, 19, 20],\n",
              "        [21, 22, 23],\n",
              "        [24, 25, 26]]])"
            ]
          },
          "metadata": {},
          "execution_count": 100
        }
      ]
    },
    {
      "cell_type": "markdown",
      "metadata": {
        "id": "zuMYOxbuZBJk"
      },
      "source": [
        "split into 3"
      ]
    },
    {
      "cell_type": "code",
      "metadata": {
        "colab": {
          "base_uri": "https://localhost:8080/"
        },
        "id": "rxwRiLxNZXeJ",
        "outputId": "b23f5eca-b12b-427e-ad63-69aab0131cfd"
      },
      "source": [
        "np.dsplit(c,3)"
      ],
      "execution_count": 101,
      "outputs": [
        {
          "output_type": "execute_result",
          "data": {
            "text/plain": [
              "[array([[[ 0],\n",
              "         [ 3],\n",
              "         [ 6]],\n",
              " \n",
              "        [[ 9],\n",
              "         [12],\n",
              "         [15]],\n",
              " \n",
              "        [[18],\n",
              "         [21],\n",
              "         [24]]]), array([[[ 1],\n",
              "         [ 4],\n",
              "         [ 7]],\n",
              " \n",
              "        [[10],\n",
              "         [13],\n",
              "         [16]],\n",
              " \n",
              "        [[19],\n",
              "         [22],\n",
              "         [25]]]), array([[[ 2],\n",
              "         [ 5],\n",
              "         [ 8]],\n",
              " \n",
              "        [[11],\n",
              "         [14],\n",
              "         [17]],\n",
              " \n",
              "        [[20],\n",
              "         [23],\n",
              "         [26]]])]"
            ]
          },
          "metadata": {},
          "execution_count": 101
        }
      ]
    },
    {
      "cell_type": "markdown",
      "metadata": {
        "id": "FE8YhrdUZbWp"
      },
      "source": [
        "#**Useful numerical methods of NumPy arrays**"
      ]
    },
    {
      "cell_type": "markdown",
      "metadata": {
        "id": "HdJIcCcubf9V"
      },
      "source": [
        "demonstrate some of the properties of NumPy arrays\n"
      ]
    },
    {
      "cell_type": "code",
      "metadata": {
        "colab": {
          "base_uri": "https://localhost:8080/"
        },
        "id": "mqpfBPlTbcWV",
        "outputId": "3460014d-cb55-4717-ba4f-1ab3b0bce82a"
      },
      "source": [
        "m = np.arange(10, 19).reshape(3, 3)\n",
        "print (m)\n",
        "print (\"{0} min of the entire matrix\".format(m.min()))\n",
        "print (\"{0} max of entire matrix\".format(m.max()))\n",
        "print (\"{0} position of the min value\".format(m.argmin()))\n",
        "print (\"{0} position of the max value\".format(m.argmax()))\n",
        "print (\"{0} mins down each column\".format(m.min(axis = 0)))\n",
        "print (\"{0} mins across each row\".format(m.min(axis = 1)))\n",
        "print (\"{0} maxs down each column\".format(m.max(axis = 0)))\n",
        "print (\"{0} maxs across each row\".format(m.max(axis = 1)))"
      ],
      "execution_count": 105,
      "outputs": [
        {
          "output_type": "stream",
          "name": "stdout",
          "text": [
            "[[10 11 12]\n",
            " [13 14 15]\n",
            " [16 17 18]]\n",
            "10 min of the entire matrix\n",
            "18 max of entire matrix\n",
            "0 position of the min value\n",
            "8 position of the max value\n",
            "[10 11 12] mins down each column\n",
            "[10 13 16] mins across each row\n",
            "[16 17 18] maxs down each column\n",
            "[12 15 18] maxs across each row\n"
          ]
        }
      ]
    },
    {
      "cell_type": "markdown",
      "metadata": {
        "id": "MaeXvZKUbpvy"
      },
      "source": [
        "The .mean() , .std() , and .var() methods compute the mathematical mean,\n",
        "standard deviation, and variance of the values in an array:"
      ]
    },
    {
      "cell_type": "code",
      "metadata": {
        "id": "5pznMdW8dWD6"
      },
      "source": [
        "# demonstrate included statistical methods"
      ],
      "execution_count": 106,
      "outputs": []
    },
    {
      "cell_type": "code",
      "metadata": {
        "colab": {
          "base_uri": "https://localhost:8080/"
        },
        "id": "cOaLEbnydZwh",
        "outputId": "e9d9afa7-3b52-4d59-f63e-44dccca7019b"
      },
      "source": [
        "a=np.arange(10)\n",
        "a"
      ],
      "execution_count": 107,
      "outputs": [
        {
          "output_type": "execute_result",
          "data": {
            "text/plain": [
              "array([0, 1, 2, 3, 4, 5, 6, 7, 8, 9])"
            ]
          },
          "metadata": {},
          "execution_count": 107
        }
      ]
    },
    {
      "cell_type": "code",
      "metadata": {
        "colab": {
          "base_uri": "https://localhost:8080/"
        },
        "id": "5YF1_KzAdeYr",
        "outputId": "7d0ae358-e2ae-4f6c-a000-ff3ccfea3e69"
      },
      "source": [
        "a.mean(),a.std(),a.var()"
      ],
      "execution_count": 108,
      "outputs": [
        {
          "output_type": "execute_result",
          "data": {
            "text/plain": [
              "(4.5, 2.8722813232690143, 8.25)"
            ]
          },
          "metadata": {},
          "execution_count": 108
        }
      ]
    },
    {
      "cell_type": "markdown",
      "metadata": {
        "id": "zuJcYnhSdizK"
      },
      "source": [
        "demonstrate sum and prod"
      ]
    },
    {
      "cell_type": "code",
      "metadata": {
        "colab": {
          "base_uri": "https://localhost:8080/"
        },
        "id": "nUqUPw4ado5c",
        "outputId": "f1f0094b-f2d1-41c4-cb19-8c3b7db91a61"
      },
      "source": [
        "a=np.arange(1,5)\n",
        "a"
      ],
      "execution_count": 111,
      "outputs": [
        {
          "output_type": "execute_result",
          "data": {
            "text/plain": [
              "array([1, 2, 3, 4])"
            ]
          },
          "metadata": {},
          "execution_count": 111
        }
      ]
    },
    {
      "cell_type": "code",
      "metadata": {
        "colab": {
          "base_uri": "https://localhost:8080/"
        },
        "id": "wEpcbp2ydu-N",
        "outputId": "1aedbe02-fba3-485a-c42b-79fe4cedd76f"
      },
      "source": [
        "a.sum(),a.prod()"
      ],
      "execution_count": 112,
      "outputs": [
        {
          "output_type": "execute_result",
          "data": {
            "text/plain": [
              "(10, 24)"
            ]
          },
          "metadata": {},
          "execution_count": 112
        }
      ]
    },
    {
      "cell_type": "code",
      "metadata": {
        "colab": {
          "base_uri": "https://localhost:8080/"
        },
        "id": "l4j6jGtHdyD9",
        "outputId": "c15a1ef0-038e-4bdc-aa4b-7afa210f4229"
      },
      "source": [
        "a # and cumulative sum and prod"
      ],
      "execution_count": 113,
      "outputs": [
        {
          "output_type": "execute_result",
          "data": {
            "text/plain": [
              "array([1, 2, 3, 4])"
            ]
          },
          "metadata": {},
          "execution_count": 113
        }
      ]
    },
    {
      "cell_type": "code",
      "metadata": {
        "colab": {
          "base_uri": "https://localhost:8080/"
        },
        "id": "XbfXXQexd57s",
        "outputId": "a11dd63c-e9d8-43c8-8471-cd007a54f128"
      },
      "source": [
        "a.cumsum(),a.cumprod()"
      ],
      "execution_count": 114,
      "outputs": [
        {
          "output_type": "execute_result",
          "data": {
            "text/plain": [
              "(array([ 1,  3,  6, 10]), array([ 1,  2,  6, 24]))"
            ]
          },
          "metadata": {},
          "execution_count": 114
        }
      ]
    },
    {
      "cell_type": "markdown",
      "metadata": {
        "id": "ult3jbdkd_KA"
      },
      "source": [
        "applying logical operators"
      ]
    },
    {
      "cell_type": "code",
      "metadata": {
        "colab": {
          "base_uri": "https://localhost:8080/"
        },
        "id": "6IWYyCXKeHCl",
        "outputId": "0b84e296-9c29-40e2-a313-2c5d4e727907"
      },
      "source": [
        "a=np.arange(10)\n",
        "a"
      ],
      "execution_count": 115,
      "outputs": [
        {
          "output_type": "execute_result",
          "data": {
            "text/plain": [
              "array([0, 1, 2, 3, 4, 5, 6, 7, 8, 9])"
            ]
          },
          "metadata": {},
          "execution_count": 115
        }
      ]
    },
    {
      "cell_type": "code",
      "metadata": {
        "colab": {
          "base_uri": "https://localhost:8080/"
        },
        "id": "kPT7MTz4eKwV",
        "outputId": "3f8eb77f-85f0-44c3-c22a-b86f30874518"
      },
      "source": [
        "(a<5).any() # any < 5?"
      ],
      "execution_count": 117,
      "outputs": [
        {
          "output_type": "execute_result",
          "data": {
            "text/plain": [
              "True"
            ]
          },
          "metadata": {},
          "execution_count": 117
        }
      ]
    },
    {
      "cell_type": "code",
      "metadata": {
        "colab": {
          "base_uri": "https://localhost:8080/"
        },
        "id": "NdDbqtLcePW0",
        "outputId": "ce0076ca-643d-444d-b58b-9886dacf41cb"
      },
      "source": [
        "(a<5).all() # all < 5? (a < 5).any() # any < 5?  "
      ],
      "execution_count": 118,
      "outputs": [
        {
          "output_type": "execute_result",
          "data": {
            "text/plain": [
              "False"
            ]
          },
          "metadata": {},
          "execution_count": 118
        }
      ]
    },
    {
      "cell_type": "markdown",
      "metadata": {
        "id": "88LBxQiwedom"
      },
      "source": [
        "size is always the total number of elements"
      ]
    },
    {
      "cell_type": "code",
      "metadata": {
        "colab": {
          "base_uri": "https://localhost:8080/"
        },
        "id": "ggBRr-yyeljB",
        "outputId": "404bf6bb-2b89-4705-ee12-9e46a040d699"
      },
      "source": [
        "np.arange(10).reshape(2,5).size"
      ],
      "execution_count": 119,
      "outputs": [
        {
          "output_type": "execute_result",
          "data": {
            "text/plain": [
              "10"
            ]
          },
          "metadata": {},
          "execution_count": 119
        }
      ]
    },
    {
      "cell_type": "markdown",
      "metadata": {
        "id": "m9AzDUHAesh4"
      },
      "source": [
        ".ndim will give you the total # of dimensions"
      ]
    },
    {
      "cell_type": "code",
      "metadata": {
        "colab": {
          "base_uri": "https://localhost:8080/"
        },
        "id": "MhzHg-Fhexrp",
        "outputId": "9413fc8a-ce18-4ffa-e798-0d25d71d657a"
      },
      "source": [
        "np.arange(10).reshape(2,5).ndim"
      ],
      "execution_count": 120,
      "outputs": [
        {
          "output_type": "execute_result",
          "data": {
            "text/plain": [
              "2"
            ]
          },
          "metadata": {},
          "execution_count": 120
        }
      ]
    },
    {
      "cell_type": "code",
      "metadata": {
        "id": "UYa5CXf1e2ch"
      },
      "source": [
        ""
      ],
      "execution_count": null,
      "outputs": []
    }
  ]
}