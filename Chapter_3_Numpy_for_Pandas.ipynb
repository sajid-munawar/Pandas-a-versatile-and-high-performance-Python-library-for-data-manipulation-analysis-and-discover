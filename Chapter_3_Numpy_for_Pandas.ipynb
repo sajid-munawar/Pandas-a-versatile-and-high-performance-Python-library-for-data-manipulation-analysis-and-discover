{
  "nbformat": 4,
  "nbformat_minor": 0,
  "metadata": {
    "colab": {
      "name": "Chapter_3_Numpy_for_Pandas.ipynb",
      "provenance": [],
      "authorship_tag": "ABX9TyPSbqHchPzCYxXDCjRzZBhJ",
      "include_colab_link": true
    },
    "kernelspec": {
      "name": "python3",
      "display_name": "Python 3"
    },
    "language_info": {
      "name": "python"
    }
  },
  "cells": [
    {
      "cell_type": "markdown",
      "metadata": {
        "id": "view-in-github",
        "colab_type": "text"
      },
      "source": [
        "<a href=\"https://colab.research.google.com/github/sajid-munawar/Pandas-a-versatile-and-high-performance-Python-library-for-data-manipulation-analysis-and-discover/blob/main/Chapter_3_Numpy_for_Pandas.ipynb\" target=\"_parent\"><img src=\"https://colab.research.google.com/assets/colab-badge.svg\" alt=\"Open In Colab\"/></a>"
      ]
    },
    {
      "cell_type": "markdown",
      "metadata": {
        "id": "tOsoH9FHDJAZ"
      },
      "source": [
        "##Chapter_3_Numpy_for_Pandas"
      ]
    },
    {
      "cell_type": "code",
      "metadata": {
        "id": "QqbLhn6gD_h0"
      },
      "source": [
        "#Importing numpy\n",
        "import numpy as np"
      ],
      "execution_count": 236,
      "outputs": []
    },
    {
      "cell_type": "markdown",
      "metadata": {
        "id": "A3GjarfuEp9k"
      },
      "source": [
        "Benefits and characteristics of Numpy arrays\n",
        "\n",
        "\n",
        "*   Contiguous allocation in memory\n",
        "*   Vectorized Operations\n",
        "*   Boolean Selection\n",
        "*   Sliceability\n",
        "\n"
      ]
    },
    {
      "cell_type": "code",
      "metadata": {
        "colab": {
          "base_uri": "https://localhost:8080/"
        },
        "id": "c6JN5j3jEmYh",
        "outputId": "94df89cd-c699-4cef-9ff8-8a3a915a6e5c"
      },
      "source": [
        "# A function that sequires all the values in a sequence\n",
        "def squares(values):\n",
        "  result=[]\n",
        "  for v in result:\n",
        "    result.append(v*v)\n",
        "  return result\n",
        "to_squares=range(100000)\n",
        "%timeit squares(to_squares)"
      ],
      "execution_count": 237,
      "outputs": [
        {
          "output_type": "stream",
          "name": "stdout",
          "text": [
            "The slowest run took 16.70 times longer than the fastest. This could mean that an intermediate result is being cached.\n",
            "10000000 loops, best of 5: 179 ns per loop\n"
          ]
        }
      ]
    },
    {
      "cell_type": "code",
      "metadata": {
        "colab": {
          "base_uri": "https://localhost:8080/"
        },
        "id": "J1NYFvIOGs0_",
        "outputId": "8deffea2-4ad1-47c9-8cc9-f5f363b85ba6"
      },
      "source": [
        "# Using Numpy same function\n",
        "values_to_square=np.arange(0,100000)\n",
        "%timeit values_to_square**2"
      ],
      "execution_count": 238,
      "outputs": [
        {
          "output_type": "stream",
          "name": "stdout",
          "text": [
            "10000 loops, best of 5: 139 µs per loop\n"
          ]
        }
      ]
    },
    {
      "cell_type": "code",
      "metadata": {
        "id": "phCUzPF3HUwY"
      },
      "source": [
        "# Creating Numpy arrays and performing basic array operation"
      ],
      "execution_count": 239,
      "outputs": []
    },
    {
      "cell_type": "code",
      "metadata": {
        "colab": {
          "base_uri": "https://localhost:8080/"
        },
        "id": "3o1kn_QZIR3X",
        "outputId": "2212e9fa-d18c-4e21-f7e6-9ca06f954a05"
      },
      "source": [
        "# a simple array\n",
        "a1=np.array([1,2,3,4,5])\n",
        "a1"
      ],
      "execution_count": 240,
      "outputs": [
        {
          "output_type": "execute_result",
          "data": {
            "text/plain": [
              "array([1, 2, 3, 4, 5])"
            ]
          },
          "metadata": {},
          "execution_count": 240
        }
      ]
    },
    {
      "cell_type": "code",
      "metadata": {
        "colab": {
          "base_uri": "https://localhost:8080/"
        },
        "id": "qEqN6g-PIYzg",
        "outputId": "0b403aa5-5cfd-49fa-c8b6-bfe6f595e918"
      },
      "source": [
        "type(a1)"
      ],
      "execution_count": 241,
      "outputs": [
        {
          "output_type": "execute_result",
          "data": {
            "text/plain": [
              "numpy.ndarray"
            ]
          },
          "metadata": {},
          "execution_count": 241
        }
      ]
    },
    {
      "cell_type": "code",
      "metadata": {
        "colab": {
          "base_uri": "https://localhost:8080/"
        },
        "id": "8mQmOCpbSdHF",
        "outputId": "e8d7456c-2bba-4660-c803-c9aa1d9be566"
      },
      "source": [
        "np.size(a1)"
      ],
      "execution_count": 242,
      "outputs": [
        {
          "output_type": "execute_result",
          "data": {
            "text/plain": [
              "5"
            ]
          },
          "metadata": {},
          "execution_count": 242
        }
      ]
    },
    {
      "cell_type": "code",
      "metadata": {
        "colab": {
          "base_uri": "https://localhost:8080/"
        },
        "id": "HNmCz_9WShrZ",
        "outputId": "d2c205b8-b1e7-4c87-b3e1-ccfb12699042"
      },
      "source": [
        "a1.dtype"
      ],
      "execution_count": 243,
      "outputs": [
        {
          "output_type": "execute_result",
          "data": {
            "text/plain": [
              "dtype('int64')"
            ]
          },
          "metadata": {},
          "execution_count": 243
        }
      ]
    },
    {
      "cell_type": "code",
      "metadata": {
        "colab": {
          "base_uri": "https://localhost:8080/"
        },
        "id": "_59HHqWKSpnP",
        "outputId": "78b8a37e-8c1f-48ca-9722-184cb6dc80e7"
      },
      "source": [
        "# any one float value makes all array float\n",
        "a2=np.array([1,2,3,4,5.5])\n",
        "a2"
      ],
      "execution_count": 244,
      "outputs": [
        {
          "output_type": "execute_result",
          "data": {
            "text/plain": [
              "array([1. , 2. , 3. , 4. , 5.5])"
            ]
          },
          "metadata": {},
          "execution_count": 244
        }
      ]
    },
    {
      "cell_type": "code",
      "metadata": {
        "colab": {
          "base_uri": "https://localhost:8080/"
        },
        "id": "2mGZuJKNTiPE",
        "outputId": "7713597f-f5e8-4bae-d218-6e03a59d49ec"
      },
      "source": [
        "a2.dtype"
      ],
      "execution_count": 245,
      "outputs": [
        {
          "output_type": "execute_result",
          "data": {
            "text/plain": [
              "dtype('float64')"
            ]
          },
          "metadata": {},
          "execution_count": 245
        }
      ]
    },
    {
      "cell_type": "code",
      "metadata": {
        "id": "3GP8LU6rTkYy"
      },
      "source": [
        "a2=a2.astype('int64')"
      ],
      "execution_count": 246,
      "outputs": []
    },
    {
      "cell_type": "code",
      "metadata": {
        "colab": {
          "base_uri": "https://localhost:8080/"
        },
        "id": "s7SVQRukTtis",
        "outputId": "19a981c5-a221-4efb-9c31-d0c88645d758"
      },
      "source": [
        "a2"
      ],
      "execution_count": 247,
      "outputs": [
        {
          "output_type": "execute_result",
          "data": {
            "text/plain": [
              "array([1, 2, 3, 4, 5])"
            ]
          },
          "metadata": {},
          "execution_count": 247
        }
      ]
    },
    {
      "cell_type": "code",
      "metadata": {
        "colab": {
          "base_uri": "https://localhost:8080/"
        },
        "id": "roJSwSwATurm",
        "outputId": "3193e70e-32ec-4807-c04b-0960525eb5ee"
      },
      "source": [
        "# shortend to repeat a sequence of numbers\n",
        "a3=np.array([1]*10)\n",
        "a3"
      ],
      "execution_count": 248,
      "outputs": [
        {
          "output_type": "execute_result",
          "data": {
            "text/plain": [
              "array([1, 1, 1, 1, 1, 1, 1, 1, 1, 1])"
            ]
          },
          "metadata": {},
          "execution_count": 248
        }
      ]
    },
    {
      "cell_type": "code",
      "metadata": {
        "colab": {
          "base_uri": "https://localhost:8080/"
        },
        "id": "cu3KjNiBUn67",
        "outputId": "ae8eb9a5-53ec-4284-c2e5-4329a0dc4f95"
      },
      "source": [
        "# convert a python range to numpy array\n",
        "a4=np.array(range(10))\n",
        "a4"
      ],
      "execution_count": 249,
      "outputs": [
        {
          "output_type": "execute_result",
          "data": {
            "text/plain": [
              "array([0, 1, 2, 3, 4, 5, 6, 7, 8, 9])"
            ]
          },
          "metadata": {},
          "execution_count": 249
        }
      ]
    },
    {
      "cell_type": "code",
      "metadata": {
        "colab": {
          "base_uri": "https://localhost:8080/"
        },
        "id": "SukAXTmpVD0d",
        "outputId": "2a5fa150-a0a5-407c-eabe-e7ce8dfa0c75"
      },
      "source": [
        "# create an array of zeros\n",
        "np.zeros(10)"
      ],
      "execution_count": 250,
      "outputs": [
        {
          "output_type": "execute_result",
          "data": {
            "text/plain": [
              "array([0., 0., 0., 0., 0., 0., 0., 0., 0., 0.])"
            ]
          },
          "metadata": {},
          "execution_count": 250
        }
      ]
    },
    {
      "cell_type": "code",
      "metadata": {
        "colab": {
          "base_uri": "https://localhost:8080/"
        },
        "id": "F_SRXCGZVM3u",
        "outputId": "a34302da-aaa9-4378-f2f3-f7f7f0f837df"
      },
      "source": [
        "# force it to be int instead of float\n",
        "np.zeros(10,dtype=\"int64\")"
      ],
      "execution_count": 251,
      "outputs": [
        {
          "output_type": "execute_result",
          "data": {
            "text/plain": [
              "array([0, 0, 0, 0, 0, 0, 0, 0, 0, 0])"
            ]
          },
          "metadata": {},
          "execution_count": 251
        }
      ]
    },
    {
      "cell_type": "code",
      "metadata": {
        "colab": {
          "base_uri": "https://localhost:8080/"
        },
        "id": "obWTr5ExVY2l",
        "outputId": "1fc3802d-697d-4f95-c3c5-ee3d38e311f9"
      },
      "source": [
        "# make a range starting at zero with 10\n",
        "np.arange(0,10)"
      ],
      "execution_count": 252,
      "outputs": [
        {
          "output_type": "execute_result",
          "data": {
            "text/plain": [
              "array([0, 1, 2, 3, 4, 5, 6, 7, 8, 9])"
            ]
          },
          "metadata": {},
          "execution_count": 252
        }
      ]
    },
    {
      "cell_type": "code",
      "metadata": {
        "colab": {
          "base_uri": "https://localhost:8080/"
        },
        "id": "gX1HTrW1VwSc",
        "outputId": "bf12b940-3a7e-4f44-dd4b-7e5da0c41a2c"
      },
      "source": [
        "# generate of even numbers between 0 and 10\n",
        "np.arange(0,10,2)"
      ],
      "execution_count": 253,
      "outputs": [
        {
          "output_type": "execute_result",
          "data": {
            "text/plain": [
              "array([0, 2, 4, 6, 8])"
            ]
          },
          "metadata": {},
          "execution_count": 253
        }
      ]
    },
    {
      "cell_type": "code",
      "metadata": {
        "colab": {
          "base_uri": "https://localhost:8080/"
        },
        "id": "eZeSQdjcXpe2",
        "outputId": "f14879b9-2578-407c-c7ea-b7e2d300754b"
      },
      "source": [
        "# counting down\n",
        "np.arange(10,0,-1)"
      ],
      "execution_count": 254,
      "outputs": [
        {
          "output_type": "execute_result",
          "data": {
            "text/plain": [
              "array([10,  9,  8,  7,  6,  5,  4,  3,  2,  1])"
            ]
          },
          "metadata": {},
          "execution_count": 254
        }
      ]
    },
    {
      "cell_type": "code",
      "metadata": {
        "colab": {
          "base_uri": "https://localhost:8080/"
        },
        "id": "5AFe3QYGX5nh",
        "outputId": "719cc200-39b0-4df9-f313-dd34d4b4a669"
      },
      "source": [
        "# evenly spaced values between two intervals\n",
        "np.linspace(0,10,11)"
      ],
      "execution_count": 255,
      "outputs": [
        {
          "output_type": "execute_result",
          "data": {
            "text/plain": [
              "array([ 0.,  1.,  2.,  3.,  4.,  5.,  6.,  7.,  8.,  9., 10.])"
            ]
          },
          "metadata": {},
          "execution_count": 255
        }
      ]
    },
    {
      "cell_type": "code",
      "metadata": {
        "colab": {
          "base_uri": "https://localhost:8080/"
        },
        "id": "73h4KbdVYKR2",
        "outputId": "b88e0adf-7cba-4ee7-c6e0-d5ed2ddbc2a5"
      },
      "source": [
        "# multiple an array with 2\n",
        "a1=np.arange(10)\n",
        "print(a1)\n",
        "a1*2"
      ],
      "execution_count": 256,
      "outputs": [
        {
          "output_type": "stream",
          "name": "stdout",
          "text": [
            "[0 1 2 3 4 5 6 7 8 9]\n"
          ]
        },
        {
          "output_type": "execute_result",
          "data": {
            "text/plain": [
              "array([ 0,  2,  4,  6,  8, 10, 12, 14, 16, 18])"
            ]
          },
          "metadata": {},
          "execution_count": 256
        }
      ]
    },
    {
      "cell_type": "code",
      "metadata": {
        "colab": {
          "base_uri": "https://localhost:8080/"
        },
        "id": "pEDb6cfRYZ5D",
        "outputId": "fda1eaa2-b40d-49ca-b1f5-0a44cde2a4d0"
      },
      "source": [
        "# mathametical operation between two arrays\n",
        "a2=np.arange(10,20)\n",
        "a1+a2"
      ],
      "execution_count": 257,
      "outputs": [
        {
          "output_type": "execute_result",
          "data": {
            "text/plain": [
              "array([10, 12, 14, 16, 18, 20, 22, 24, 26, 28])"
            ]
          },
          "metadata": {},
          "execution_count": 257
        }
      ]
    },
    {
      "cell_type": "code",
      "metadata": {
        "colab": {
          "base_uri": "https://localhost:8080/"
        },
        "id": "qgcCAbNRYsPH",
        "outputId": "057c52f7-8683-4b05-a844-da9b883c64e3"
      },
      "source": [
        "# create a two dimensional array (2*2)\n",
        "a1=np.array([[1,2],[3,4]])\n",
        "a1"
      ],
      "execution_count": 258,
      "outputs": [
        {
          "output_type": "execute_result",
          "data": {
            "text/plain": [
              "array([[1, 2],\n",
              "       [3, 4]])"
            ]
          },
          "metadata": {},
          "execution_count": 258
        }
      ]
    },
    {
      "cell_type": "code",
      "metadata": {
        "id": "zebPuy3yY4yd"
      },
      "source": [
        "# a more efficient way to create or convert an array into two dimensional is np.reshape method\n",
        "m=np.arange(0,20).reshape(5,4)"
      ],
      "execution_count": 259,
      "outputs": []
    },
    {
      "cell_type": "code",
      "metadata": {
        "colab": {
          "base_uri": "https://localhost:8080/"
        },
        "id": "oauTlC6cZkqI",
        "outputId": "18c5233e-bcb6-40f9-d88f-b11f62a8a16f"
      },
      "source": [
        "m"
      ],
      "execution_count": 260,
      "outputs": [
        {
          "output_type": "execute_result",
          "data": {
            "text/plain": [
              "array([[ 0,  1,  2,  3],\n",
              "       [ 4,  5,  6,  7],\n",
              "       [ 8,  9, 10, 11],\n",
              "       [12, 13, 14, 15],\n",
              "       [16, 17, 18, 19]])"
            ]
          },
          "metadata": {},
          "execution_count": 260
        }
      ]
    },
    {
      "cell_type": "code",
      "metadata": {
        "colab": {
          "base_uri": "https://localhost:8080/"
        },
        "id": "DD8OYIElZlPV",
        "outputId": "bbdab40c-3265-4b92-c77a-8121e3e8da91"
      },
      "source": [
        "# size of any dimensional array is the number of elements\n",
        "np.size(m)"
      ],
      "execution_count": 261,
      "outputs": [
        {
          "output_type": "execute_result",
          "data": {
            "text/plain": [
              "20"
            ]
          },
          "metadata": {},
          "execution_count": 261
        }
      ]
    },
    {
      "cell_type": "code",
      "metadata": {
        "colab": {
          "base_uri": "https://localhost:8080/"
        },
        "id": "fN6vZqwCar6a",
        "outputId": "b2199dde-8cfc-400f-fb34-aa0a9a7c7271"
      },
      "source": [
        "# can ask size along a given axis (0 in rows)\n",
        "np.size(m,0)"
      ],
      "execution_count": 262,
      "outputs": [
        {
          "output_type": "execute_result",
          "data": {
            "text/plain": [
              "5"
            ]
          },
          "metadata": {},
          "execution_count": 262
        }
      ]
    },
    {
      "cell_type": "code",
      "metadata": {
        "colab": {
          "base_uri": "https://localhost:8080/"
        },
        "id": "2kD_JPFKbGQm",
        "outputId": "4398a496-ece8-4920-acc4-3475f2874a99"
      },
      "source": [
        "np.size(m,1)"
      ],
      "execution_count": 263,
      "outputs": [
        {
          "output_type": "execute_result",
          "data": {
            "text/plain": [
              "4"
            ]
          },
          "metadata": {},
          "execution_count": 263
        }
      ]
    },
    {
      "cell_type": "markdown",
      "metadata": {
        "id": "6FT_LUy8bQbn"
      },
      "source": [
        "**Selecting array elements**"
      ]
    },
    {
      "cell_type": "code",
      "metadata": {
        "id": "NjBUh4wybIx6"
      },
      "source": [
        "a1=np.arange(10)"
      ],
      "execution_count": 264,
      "outputs": []
    },
    {
      "cell_type": "code",
      "metadata": {
        "colab": {
          "base_uri": "https://localhost:8080/"
        },
        "id": "L1Fm5_T_cuMr",
        "outputId": "3e04334a-0585-475e-edee-a79194b02848"
      },
      "source": [
        "a1[0]"
      ],
      "execution_count": 265,
      "outputs": [
        {
          "output_type": "execute_result",
          "data": {
            "text/plain": [
              "0"
            ]
          },
          "metadata": {},
          "execution_count": 265
        }
      ]
    },
    {
      "cell_type": "code",
      "metadata": {
        "colab": {
          "base_uri": "https://localhost:8080/"
        },
        "id": "X8eDKG3ecyQv",
        "outputId": "dadb4a91-16af-435c-8e58-0e5156946f66"
      },
      "source": [
        "a1[0],a1[2]"
      ],
      "execution_count": 266,
      "outputs": [
        {
          "output_type": "execute_result",
          "data": {
            "text/plain": [
              "(0, 2)"
            ]
          },
          "metadata": {},
          "execution_count": 266
        }
      ]
    },
    {
      "cell_type": "code",
      "metadata": {
        "colab": {
          "base_uri": "https://localhost:8080/"
        },
        "id": "5TjU12Pqc726",
        "outputId": "9a9ebb7e-d263-4b6c-fd93-950949fbc9a2"
      },
      "source": [
        "m"
      ],
      "execution_count": 267,
      "outputs": [
        {
          "output_type": "execute_result",
          "data": {
            "text/plain": [
              "array([[ 0,  1,  2,  3],\n",
              "       [ 4,  5,  6,  7],\n",
              "       [ 8,  9, 10, 11],\n",
              "       [12, 13, 14, 15],\n",
              "       [16, 17, 18, 19]])"
            ]
          },
          "metadata": {},
          "execution_count": 267
        }
      ]
    },
    {
      "cell_type": "code",
      "metadata": {
        "colab": {
          "base_uri": "https://localhost:8080/"
        },
        "id": "3idxEeAydyUL",
        "outputId": "75332494-8191-4d2a-cce0-888e41a14e01"
      },
      "source": [
        "m[0]"
      ],
      "execution_count": 268,
      "outputs": [
        {
          "output_type": "execute_result",
          "data": {
            "text/plain": [
              "array([0, 1, 2, 3])"
            ]
          },
          "metadata": {},
          "execution_count": 268
        }
      ]
    },
    {
      "cell_type": "code",
      "metadata": {
        "colab": {
          "base_uri": "https://localhost:8080/"
        },
        "id": "-uslSj_ld0Rz",
        "outputId": "d33e3af9-ff16-4d4e-fe3d-3e1fdb431146"
      },
      "source": [
        "# select an elemnt at row 1 and column 2\n",
        "m[1,2]"
      ],
      "execution_count": 269,
      "outputs": [
        {
          "output_type": "execute_result",
          "data": {
            "text/plain": [
              "6"
            ]
          },
          "metadata": {},
          "execution_count": 269
        }
      ]
    },
    {
      "cell_type": "code",
      "metadata": {
        "colab": {
          "base_uri": "https://localhost:8080/"
        },
        "id": "gB5C7V3GeAFl",
        "outputId": "a76bac72-9c74-4fd9-ab25-852c81e23cce"
      },
      "source": [
        "# all items in a row\n",
        "m[0,]"
      ],
      "execution_count": 270,
      "outputs": [
        {
          "output_type": "execute_result",
          "data": {
            "text/plain": [
              "array([0, 1, 2, 3])"
            ]
          },
          "metadata": {},
          "execution_count": 270
        }
      ]
    },
    {
      "cell_type": "code",
      "metadata": {
        "colab": {
          "base_uri": "https://localhost:8080/"
        },
        "id": "wtR0XvvFifTE",
        "outputId": "0150af0c-eaf6-4f5d-eecf-8186f4b5ceee"
      },
      "source": [
        "# all the items in column 2\n",
        "m[:,2]"
      ],
      "execution_count": 271,
      "outputs": [
        {
          "output_type": "execute_result",
          "data": {
            "text/plain": [
              "array([ 2,  6, 10, 14, 18])"
            ]
          },
          "metadata": {},
          "execution_count": 271
        }
      ]
    },
    {
      "cell_type": "markdown",
      "metadata": {
        "id": "TQQsiqrii8bu"
      },
      "source": [
        "**Logical operations on arrays**"
      ]
    },
    {
      "cell_type": "code",
      "metadata": {
        "colab": {
          "base_uri": "https://localhost:8080/"
        },
        "id": "CZDbxRfbimKi",
        "outputId": "89e07db8-aa6d-4cf6-e5da-02b6967d9502"
      },
      "source": [
        "# which items are less than two\n",
        "a=np.arange(5)\n",
        "a<2"
      ],
      "execution_count": 272,
      "outputs": [
        {
          "output_type": "execute_result",
          "data": {
            "text/plain": [
              "array([ True,  True, False, False, False])"
            ]
          },
          "metadata": {},
          "execution_count": 272
        }
      ]
    },
    {
      "cell_type": "code",
      "metadata": {
        "id": "7RBtd0Vti-M_"
      },
      "source": [
        "# this is commented as it will cause an exception\n",
        "# print(a<2 or a>3)"
      ],
      "execution_count": 273,
      "outputs": []
    },
    {
      "cell_type": "code",
      "metadata": {
        "colab": {
          "base_uri": "https://localhost:8080/"
        },
        "id": "15cNawUCjqTt",
        "outputId": "c54dc0de-88e7-4e53-ec07-68209e84ee71"
      },
      "source": [
        "(a<2) | (a>3)"
      ],
      "execution_count": 274,
      "outputs": [
        {
          "output_type": "execute_result",
          "data": {
            "text/plain": [
              "array([ True,  True, False, False,  True])"
            ]
          },
          "metadata": {},
          "execution_count": 274
        }
      ]
    },
    {
      "cell_type": "code",
      "metadata": {
        "colab": {
          "base_uri": "https://localhost:8080/"
        },
        "id": "Q6gPwEfhjxBG",
        "outputId": "8a753fda-387b-40b5-91c1-a134f948714f"
      },
      "source": [
        "a"
      ],
      "execution_count": 275,
      "outputs": [
        {
          "output_type": "execute_result",
          "data": {
            "text/plain": [
              "array([0, 1, 2, 3, 4])"
            ]
          },
          "metadata": {},
          "execution_count": 275
        }
      ]
    },
    {
      "cell_type": "code",
      "metadata": {
        "id": "B-8w6cfRlYOI"
      },
      "source": [
        "def exp(x):\n",
        "  return x<3 or x>3"
      ],
      "execution_count": 276,
      "outputs": []
    },
    {
      "cell_type": "code",
      "metadata": {
        "colab": {
          "base_uri": "https://localhost:8080/"
        },
        "id": "4svuxzejljO0",
        "outputId": "d16aeba6-a9c0-44e5-d4fd-255eb9f245e7"
      },
      "source": [
        "#  # np.vectorize applies the method to all items in an array\n",
        "np.vectorize(exp)(a)"
      ],
      "execution_count": 277,
      "outputs": [
        {
          "output_type": "execute_result",
          "data": {
            "text/plain": [
              "array([ True,  True,  True, False,  True])"
            ]
          },
          "metadata": {},
          "execution_count": 277
        }
      ]
    },
    {
      "cell_type": "markdown",
      "metadata": {
        "id": "A3g9H6SbmLf7"
      },
      "source": [
        "Boolean selection"
      ]
    },
    {
      "cell_type": "code",
      "metadata": {
        "colab": {
          "base_uri": "https://localhost:8080/"
        },
        "id": "9dzJNLYjlptv",
        "outputId": "a67dd589-997c-4299-b8e2-626385798127"
      },
      "source": [
        "r=a<3\n",
        "print(r)\n",
        "a[r]"
      ],
      "execution_count": 278,
      "outputs": [
        {
          "output_type": "stream",
          "name": "stdout",
          "text": [
            "[ True  True  True False False]\n"
          ]
        },
        {
          "output_type": "execute_result",
          "data": {
            "text/plain": [
              "array([0, 1, 2])"
            ]
          },
          "metadata": {},
          "execution_count": 278
        }
      ]
    },
    {
      "cell_type": "code",
      "metadata": {
        "colab": {
          "base_uri": "https://localhost:8080/"
        },
        "id": "6QEjYJlImYFk",
        "outputId": "3ed1a124-7356-44f3-e9f5-d2b52f602681"
      },
      "source": [
        "# np.sum counts True as 1 and False as 0\n",
        "# so this is how many items are less than 3\n",
        "np.sum(a<3)"
      ],
      "execution_count": 279,
      "outputs": [
        {
          "output_type": "execute_result",
          "data": {
            "text/plain": [
              "3"
            ]
          },
          "metadata": {},
          "execution_count": 279
        }
      ]
    },
    {
      "cell_type": "code",
      "metadata": {
        "colab": {
          "base_uri": "https://localhost:8080/"
        },
        "id": "qo_d8yXwmjp4",
        "outputId": "8300e4e2-a9a5-4d08-b657-2c40c2ba7f54"
      },
      "source": [
        "# this can be apply across two arrays\n",
        "a1=np.arange(0,5)\n",
        "a2=np.arange(5,0,-1)\n",
        "a1<a2"
      ],
      "execution_count": 280,
      "outputs": [
        {
          "output_type": "execute_result",
          "data": {
            "text/plain": [
              "array([ True,  True,  True, False, False])"
            ]
          },
          "metadata": {},
          "execution_count": 280
        }
      ]
    },
    {
      "cell_type": "code",
      "metadata": {
        "colab": {
          "base_uri": "https://localhost:8080/"
        },
        "id": "UilLfmh6nBw4",
        "outputId": "3f98ecac-8b79-41f8-d960-bb4f5dd93c24"
      },
      "source": [
        "# this also work as multidimensional arrays\n",
        "a1=np.arange(0,9).reshape(3,3)\n",
        "a2=np.arange(9,0,-1).reshape(3,3)\n",
        "\n",
        "a1<a2"
      ],
      "execution_count": 281,
      "outputs": [
        {
          "output_type": "execute_result",
          "data": {
            "text/plain": [
              "array([[ True,  True,  True],\n",
              "       [ True,  True, False],\n",
              "       [False, False, False]])"
            ]
          },
          "metadata": {},
          "execution_count": 281
        }
      ]
    },
    {
      "cell_type": "code",
      "metadata": {
        "id": "JJjZrm-CnZEb"
      },
      "source": [
        ""
      ],
      "execution_count": 281,
      "outputs": []
    },
    {
      "cell_type": "code",
      "metadata": {
        "id": "b8R-zchynZ7B"
      },
      "source": [
        ""
      ],
      "execution_count": 281,
      "outputs": []
    },
    {
      "cell_type": "markdown",
      "metadata": {
        "id": "u4GY3bwmon7U"
      },
      "source": [
        "**`Slicing arrays`**"
      ]
    },
    {
      "cell_type": "markdown",
      "metadata": {
        "id": "XgNI9iGzosTr"
      },
      "source": [
        " start:end:step"
      ]
    },
    {
      "cell_type": "code",
      "metadata": {
        "colab": {
          "base_uri": "https://localhost:8080/"
        },
        "id": "pgHIEBZjqKsu",
        "outputId": "bf17f46a-41be-4d4b-dc28-c8567b8f0ce9"
      },
      "source": [
        "# get all items in the array from position 3 up to position 8 (but not inclusive)\n",
        "a1=np.arange(1,10)\n",
        "print(a1)\n",
        "a1[3:8]"
      ],
      "execution_count": 282,
      "outputs": [
        {
          "output_type": "stream",
          "name": "stdout",
          "text": [
            "[1 2 3 4 5 6 7 8 9]\n"
          ]
        },
        {
          "output_type": "execute_result",
          "data": {
            "text/plain": [
              "array([4, 5, 6, 7, 8])"
            ]
          },
          "metadata": {},
          "execution_count": 282
        }
      ]
    },
    {
      "cell_type": "code",
      "metadata": {
        "colab": {
          "base_uri": "https://localhost:8080/"
        },
        "id": "GLcHFAaGq08i",
        "outputId": "b971b627-77c4-40a7-cbd2-e70993bf9ec5"
      },
      "source": [
        "# every other item\n",
        "a1[::2]"
      ],
      "execution_count": 283,
      "outputs": [
        {
          "output_type": "execute_result",
          "data": {
            "text/plain": [
              "array([1, 3, 5, 7, 9])"
            ]
          },
          "metadata": {},
          "execution_count": 283
        }
      ]
    },
    {
      "cell_type": "code",
      "metadata": {
        "colab": {
          "base_uri": "https://localhost:8080/"
        },
        "id": "IwCYWn3JrDjj",
        "outputId": "a20d792f-d1b1-4ef9-d1c3-ab37f06a5150"
      },
      "source": [
        "# in reverse order\n",
        "a1[::-1]"
      ],
      "execution_count": 284,
      "outputs": [
        {
          "output_type": "execute_result",
          "data": {
            "text/plain": [
              "array([9, 8, 7, 6, 5, 4, 3, 2, 1])"
            ]
          },
          "metadata": {},
          "execution_count": 284
        }
      ]
    },
    {
      "cell_type": "code",
      "metadata": {
        "colab": {
          "base_uri": "https://localhost:8080/"
        },
        "id": "6htxAXG0rdIe",
        "outputId": "4dbb98f9-b734-4b4f-921c-869c53c8a4ca"
      },
      "source": [
        "  # that is, there is no 1 printed in this\n",
        "  a1[9:0:-1]"
      ],
      "execution_count": 285,
      "outputs": [
        {
          "output_type": "execute_result",
          "data": {
            "text/plain": [
              "array([9, 8, 7, 6, 5, 4, 3, 2])"
            ]
          },
          "metadata": {},
          "execution_count": 285
        }
      ]
    },
    {
      "cell_type": "code",
      "metadata": {
        "colab": {
          "base_uri": "https://localhost:8080/"
        },
        "id": "dn_xb8daIST7",
        "outputId": "c6f1126f-5127-438f-9e89-fca59afb3663"
      },
      "source": [
        "# all items from position 5 onwards\n",
        "a1[5:]"
      ],
      "execution_count": 286,
      "outputs": [
        {
          "output_type": "execute_result",
          "data": {
            "text/plain": [
              "array([6, 7, 8, 9])"
            ]
          },
          "metadata": {},
          "execution_count": 286
        }
      ]
    },
    {
      "cell_type": "code",
      "metadata": {
        "colab": {
          "base_uri": "https://localhost:8080/"
        },
        "id": "mg9v5Xz5IiCF",
        "outputId": "1d11adf7-29f0-4619-a550-1f475398d977"
      },
      "source": [
        "# the item in the first 5 positions\n",
        "a1[:5]"
      ],
      "execution_count": 287,
      "outputs": [
        {
          "output_type": "execute_result",
          "data": {
            "text/plain": [
              "array([1, 2, 3, 4, 5])"
            ]
          },
          "metadata": {},
          "execution_count": 287
        }
      ]
    },
    {
      "cell_type": "markdown",
      "metadata": {
        "id": "jIl_ob1BIqBC"
      },
      "source": [
        "Two-dimensional arrays can also be sliced"
      ]
    },
    {
      "cell_type": "code",
      "metadata": {
        "colab": {
          "base_uri": "https://localhost:8080/"
        },
        "id": "uhUb6AA-JODe",
        "outputId": "e296a4ef-eadd-4020-b6da-a39752068b9c"
      },
      "source": [
        "# get items in column position 1, all row\n",
        "m[:,1]"
      ],
      "execution_count": 288,
      "outputs": [
        {
          "output_type": "execute_result",
          "data": {
            "text/plain": [
              "array([ 1,  5,  9, 13, 17])"
            ]
          },
          "metadata": {},
          "execution_count": 288
        }
      ]
    },
    {
      "cell_type": "code",
      "metadata": {
        "colab": {
          "base_uri": "https://localhost:8080/"
        },
        "id": "pzVc_fvHJP5e",
        "outputId": "33a46f6c-c0e7-4e0c-9e27-94523c272ab8"
      },
      "source": [
        "# in all rows, but for all columns in positions 1 up to but not including 3\n",
        "m[:,1:3]"
      ],
      "execution_count": 289,
      "outputs": [
        {
          "output_type": "execute_result",
          "data": {
            "text/plain": [
              "array([[ 1,  2],\n",
              "       [ 5,  6],\n",
              "       [ 9, 10],\n",
              "       [13, 14],\n",
              "       [17, 18]])"
            ]
          },
          "metadata": {},
          "execution_count": 289
        }
      ]
    },
    {
      "cell_type": "code",
      "metadata": {
        "colab": {
          "base_uri": "https://localhost:8080/"
        },
        "id": "9EwM_vDoJgWV",
        "outputId": "6f2a144a-0628-47fa-e7c5-42382a201ee0"
      },
      "source": [
        "# row positions 3 up to but not including 5, all columns\n",
        "m[3:5,:]"
      ],
      "execution_count": 290,
      "outputs": [
        {
          "output_type": "execute_result",
          "data": {
            "text/plain": [
              "array([[12, 13, 14, 15],\n",
              "       [16, 17, 18, 19]])"
            ]
          },
          "metadata": {},
          "execution_count": 290
        }
      ]
    },
    {
      "cell_type": "code",
      "metadata": {
        "colab": {
          "base_uri": "https://localhost:8080/"
        },
        "id": "DrxCNappJ07B",
        "outputId": "7180d7a5-7da6-42f8-9a3e-1e1fcabae626"
      },
      "source": [
        "m[3:5,]"
      ],
      "execution_count": 291,
      "outputs": [
        {
          "output_type": "execute_result",
          "data": {
            "text/plain": [
              "array([[12, 13, 14, 15],\n",
              "       [16, 17, 18, 19]])"
            ]
          },
          "metadata": {},
          "execution_count": 291
        }
      ]
    },
    {
      "cell_type": "markdown",
      "metadata": {
        "id": "BFKK32O2J419"
      },
      "source": [
        "Both columns and rows can be sliced at the same time:\n",
        " combined to pull out a sub matrix of the matrix"
      ]
    },
    {
      "cell_type": "code",
      "metadata": {
        "colab": {
          "base_uri": "https://localhost:8080/"
        },
        "id": "aImEFdhDKhJS",
        "outputId": "c6721f92-44f3-4791-accc-4e815e70c03f"
      },
      "source": [
        "m[1:3,1:3]"
      ],
      "execution_count": 292,
      "outputs": [
        {
          "output_type": "execute_result",
          "data": {
            "text/plain": [
              "array([[ 5,  6],\n",
              "       [ 9, 10]])"
            ]
          },
          "metadata": {},
          "execution_count": 292
        }
      ]
    },
    {
      "cell_type": "markdown",
      "metadata": {
        "id": "p4Lqpk6LKlOL"
      },
      "source": [
        " using a python array, we can select\n",
        " non-contiguous rows or columns"
      ]
    },
    {
      "cell_type": "code",
      "metadata": {
        "colab": {
          "base_uri": "https://localhost:8080/"
        },
        "id": "MqnN-T96K1g8",
        "outputId": "36e1d7bb-3c8c-423c-cba4-52d2f5112eae"
      },
      "source": [
        "m[[1,3,4],:]"
      ],
      "execution_count": 293,
      "outputs": [
        {
          "output_type": "execute_result",
          "data": {
            "text/plain": [
              "array([[ 4,  5,  6,  7],\n",
              "       [12, 13, 14, 15],\n",
              "       [16, 17, 18, 19]])"
            ]
          },
          "metadata": {},
          "execution_count": 293
        }
      ]
    },
    {
      "cell_type": "markdown",
      "metadata": {
        "id": "h5G10VM9K8FT"
      },
      "source": [
        "#**Reshaping arrays**"
      ]
    },
    {
      "cell_type": "markdown",
      "metadata": {
        "id": "uUaxGNPQLSIo"
      },
      "source": [
        "create a 9 element array (1x9)"
      ]
    },
    {
      "cell_type": "code",
      "metadata": {
        "id": "epX8M6X4Mqne"
      },
      "source": [
        "a1=np.arange(0,9)"
      ],
      "execution_count": 294,
      "outputs": []
    },
    {
      "cell_type": "markdown",
      "metadata": {
        "id": "8RUfnbHVM55s"
      },
      "source": [
        "reshape to a 3x3 2-d array"
      ]
    },
    {
      "cell_type": "code",
      "metadata": {
        "colab": {
          "base_uri": "https://localhost:8080/"
        },
        "id": "j98pcE0-MwET",
        "outputId": "260a6c7f-bb18-4296-ae37-dbf55e96761b"
      },
      "source": [
        "m=a1.reshape(3,3)\n",
        "m"
      ],
      "execution_count": 295,
      "outputs": [
        {
          "output_type": "execute_result",
          "data": {
            "text/plain": [
              "array([[0, 1, 2],\n",
              "       [3, 4, 5],\n",
              "       [6, 7, 8]])"
            ]
          },
          "metadata": {},
          "execution_count": 295
        }
      ]
    },
    {
      "cell_type": "markdown",
      "metadata": {
        "id": "LPlc0u4XNAN8"
      },
      "source": [
        "we can reshape downward in dimensions too"
      ]
    },
    {
      "cell_type": "code",
      "metadata": {
        "colab": {
          "base_uri": "https://localhost:8080/"
        },
        "id": "FN7StZURNFEb",
        "outputId": "432900ba-47aa-4472-a70a-3a6c7c8196b4"
      },
      "source": [
        "m2=m.reshape(9)\n",
        "m2"
      ],
      "execution_count": 296,
      "outputs": [
        {
          "output_type": "execute_result",
          "data": {
            "text/plain": [
              "array([0, 1, 2, 3, 4, 5, 6, 7, 8])"
            ]
          },
          "metadata": {},
          "execution_count": 296
        }
      ]
    },
    {
      "cell_type": "markdown",
      "metadata": {
        "id": "eeb6qS3uNNwi"
      },
      "source": [
        ".ravel will generate array representing a flattened 2-d array"
      ]
    },
    {
      "cell_type": "code",
      "metadata": {
        "colab": {
          "base_uri": "https://localhost:8080/"
        },
        "id": "4W0Frcl7NU9R",
        "outputId": "76866ebe-d75f-42a5-bea2-9d39c59760eb"
      },
      "source": [
        "print(m)\n",
        "ravaled=m.ravel()\n",
        "ravaled"
      ],
      "execution_count": 297,
      "outputs": [
        {
          "output_type": "stream",
          "name": "stdout",
          "text": [
            "[[0 1 2]\n",
            " [3 4 5]\n",
            " [6 7 8]]\n"
          ]
        },
        {
          "output_type": "execute_result",
          "data": {
            "text/plain": [
              "array([0, 1, 2, 3, 4, 5, 6, 7, 8])"
            ]
          },
          "metadata": {},
          "execution_count": 297
        }
      ]
    },
    {
      "cell_type": "markdown",
      "metadata": {
        "id": "KzXx4WFRNZHC"
      },
      "source": [
        "it does not alter the shape of the source"
      ]
    },
    {
      "cell_type": "code",
      "metadata": {
        "colab": {
          "base_uri": "https://localhost:8080/"
        },
        "id": "xlnclj7NNkSf",
        "outputId": "3f2607e4-a274-47ce-edff-f541bc2bf769"
      },
      "source": [
        "m"
      ],
      "execution_count": 298,
      "outputs": [
        {
          "output_type": "execute_result",
          "data": {
            "text/plain": [
              "array([[0, 1, 2],\n",
              "       [3, 4, 5],\n",
              "       [6, 7, 8]])"
            ]
          },
          "metadata": {},
          "execution_count": 298
        }
      ]
    },
    {
      "cell_type": "markdown",
      "metadata": {
        "id": "343I05QkNk_P"
      },
      "source": [
        "Even though .reshape() and .ravel() do not change the shape of the original\n",
        "array or matrix, they do actually return a one-dimensional view into the specified\n",
        "array or matrix. If you change an element in this view, the value in the original array\n",
        "or matrix is changed. The following example demonstrates this ability to change\n",
        "items of the original matrix through the view:"
      ]
    },
    {
      "cell_type": "code",
      "metadata": {
        "colab": {
          "base_uri": "https://localhost:8080/"
        },
        "id": "NGiClvcpN-qx",
        "outputId": "d760b1e6-b5cc-4d2a-feb0-98f824177e8d"
      },
      "source": [
        "reshaped=m.reshape(np.size(m))\n",
        "raveled=m.ravel()\n",
        "print(raveled,'\\n',reshaped)"
      ],
      "execution_count": 299,
      "outputs": [
        {
          "output_type": "stream",
          "name": "stdout",
          "text": [
            "[0 1 2 3 4 5 6 7 8] \n",
            " [0 1 2 3 4 5 6 7 8]\n"
          ]
        }
      ]
    },
    {
      "cell_type": "code",
      "metadata": {
        "colab": {
          "base_uri": "https://localhost:8080/"
        },
        "id": "NOrgeFykObyG",
        "outputId": "c0e7094e-d161-499b-f673-06c151c0b1d0"
      },
      "source": [
        "reshaped[2]=1000\n",
        "raveled[5]=2000\n",
        "m"
      ],
      "execution_count": 300,
      "outputs": [
        {
          "output_type": "execute_result",
          "data": {
            "text/plain": [
              "array([[   0,    1, 1000],\n",
              "       [   3,    4, 2000],\n",
              "       [   6,    7,    8]])"
            ]
          },
          "metadata": {},
          "execution_count": 300
        }
      ]
    },
    {
      "cell_type": "markdown",
      "metadata": {
        "id": "xwbFnHb3Owmd"
      },
      "source": [
        "The .flatten() method functions similarly to .ravel() but instead returns a new\n",
        "array with copied data instead of a view. Changes to the result do not change the\n",
        "original matrix:"
      ]
    },
    {
      "cell_type": "code",
      "metadata": {
        "colab": {
          "base_uri": "https://localhost:8080/"
        },
        "id": "JwOjd-_rPMrI",
        "outputId": "94a44f64-49c7-4867-b066-bd9fc029a651"
      },
      "source": [
        "flattened=m.flatten()\n",
        "flattened"
      ],
      "execution_count": 301,
      "outputs": [
        {
          "output_type": "execute_result",
          "data": {
            "text/plain": [
              "array([   0,    1, 1000,    3,    4, 2000,    6,    7,    8])"
            ]
          },
          "metadata": {},
          "execution_count": 301
        }
      ]
    },
    {
      "cell_type": "code",
      "metadata": {
        "id": "NSH_cXo2PT8f"
      },
      "source": [
        "flattened[0]='5000'"
      ],
      "execution_count": 302,
      "outputs": []
    },
    {
      "cell_type": "code",
      "metadata": {
        "colab": {
          "base_uri": "https://localhost:8080/"
        },
        "id": "8Ung71tQPbA6",
        "outputId": "d28bc668-69da-4268-9df1-aeba5ff279b1"
      },
      "source": [
        "flattened"
      ],
      "execution_count": 303,
      "outputs": [
        {
          "output_type": "execute_result",
          "data": {
            "text/plain": [
              "array([5000,    1, 1000,    3,    4, 2000,    6,    7,    8])"
            ]
          },
          "metadata": {},
          "execution_count": 303
        }
      ]
    },
    {
      "cell_type": "code",
      "metadata": {
        "colab": {
          "base_uri": "https://localhost:8080/"
        },
        "id": "mLP3JSJhPcxg",
        "outputId": "e9cbc855-a637-4cf9-8d85-6ceaf4a9238f"
      },
      "source": [
        "m"
      ],
      "execution_count": 304,
      "outputs": [
        {
          "output_type": "execute_result",
          "data": {
            "text/plain": [
              "array([[   0,    1, 1000],\n",
              "       [   3,    4, 2000],\n",
              "       [   6,    7,    8]])"
            ]
          },
          "metadata": {},
          "execution_count": 304
        }
      ]
    },
    {
      "cell_type": "markdown",
      "metadata": {
        "id": "IOR2U7xIPjlJ"
      },
      "source": [
        "The .shape property returns a tuple representing the shape of the array:"
      ]
    },
    {
      "cell_type": "code",
      "metadata": {
        "colab": {
          "base_uri": "https://localhost:8080/"
        },
        "id": "AA3_jyvPP7Uo",
        "outputId": "9ae2d473-b7f4-4ce8-dbe9-39babde4e76c"
      },
      "source": [
        "m.shape"
      ],
      "execution_count": 305,
      "outputs": [
        {
          "output_type": "execute_result",
          "data": {
            "text/plain": [
              "(3, 3)"
            ]
          },
          "metadata": {},
          "execution_count": 305
        }
      ]
    },
    {
      "cell_type": "code",
      "metadata": {
        "colab": {
          "base_uri": "https://localhost:8080/"
        },
        "id": "EON4qUcyP9at",
        "outputId": "7af56137-0d4b-46ea-fe6c-06f24d337fdd"
      },
      "source": [
        "flattened.shape"
      ],
      "execution_count": 306,
      "outputs": [
        {
          "output_type": "execute_result",
          "data": {
            "text/plain": [
              "(9,)"
            ]
          },
          "metadata": {},
          "execution_count": 306
        }
      ]
    },
    {
      "cell_type": "markdown",
      "metadata": {
        "id": "dJP8Vf-LP_3g"
      },
      "source": [
        "we can reshape by assigning a tuple to the .shape property  we start with this, which has one dimension"
      ]
    },
    {
      "cell_type": "code",
      "metadata": {
        "id": "ezybRP-iQIPU"
      },
      "source": [
        "flattened.shape=(3,3)"
      ],
      "execution_count": 307,
      "outputs": []
    },
    {
      "cell_type": "code",
      "metadata": {
        "colab": {
          "base_uri": "https://localhost:8080/"
        },
        "id": "PY22VYQPQMSC",
        "outputId": "fc32f4c3-cd01-4f60-902c-b409e0ae421e"
      },
      "source": [
        "flattened"
      ],
      "execution_count": 308,
      "outputs": [
        {
          "output_type": "execute_result",
          "data": {
            "text/plain": [
              "array([[5000,    1, 1000],\n",
              "       [   3,    4, 2000],\n",
              "       [   6,    7,    8]])"
            ]
          },
          "metadata": {},
          "execution_count": 308
        }
      ]
    },
    {
      "cell_type": "markdown",
      "metadata": {
        "id": "BTLGutlBQOwJ"
      },
      "source": [
        "transpose a matrix"
      ]
    },
    {
      "cell_type": "code",
      "metadata": {
        "colab": {
          "base_uri": "https://localhost:8080/"
        },
        "id": "6KxrIgn8QZwk",
        "outputId": "fbdbb51d-7159-4bef-bfef-e263bf4acb26"
      },
      "source": [
        "flattened.transpose()"
      ],
      "execution_count": 309,
      "outputs": [
        {
          "output_type": "execute_result",
          "data": {
            "text/plain": [
              "array([[5000,    3,    6],\n",
              "       [   1,    4,    7],\n",
              "       [1000, 2000,    8]])"
            ]
          },
          "metadata": {},
          "execution_count": 309
        }
      ]
    },
    {
      "cell_type": "code",
      "metadata": {
        "colab": {
          "base_uri": "https://localhost:8080/"
        },
        "id": "Ah7rdV08Qcg8",
        "outputId": "de74f329-8edd-4bfe-d535-45b861d46c29"
      },
      "source": [
        "flattened"
      ],
      "execution_count": 310,
      "outputs": [
        {
          "output_type": "execute_result",
          "data": {
            "text/plain": [
              "array([[5000,    1, 1000],\n",
              "       [   3,    4, 2000],\n",
              "       [   6,    7,    8]])"
            ]
          },
          "metadata": {},
          "execution_count": 310
        }
      ]
    },
    {
      "cell_type": "markdown",
      "metadata": {
        "id": "Y-OElM1aQjBd"
      },
      "source": [
        "can also use .T property to transpose"
      ]
    },
    {
      "cell_type": "code",
      "metadata": {
        "colab": {
          "base_uri": "https://localhost:8080/"
        },
        "id": "fgqQ4wJPQndA",
        "outputId": "3b25202b-b370-4bdd-b091-6811c5c21500"
      },
      "source": [
        "flattened.T"
      ],
      "execution_count": 311,
      "outputs": [
        {
          "output_type": "execute_result",
          "data": {
            "text/plain": [
              "array([[5000,    3,    6],\n",
              "       [   1,    4,    7],\n",
              "       [1000, 2000,    8]])"
            ]
          },
          "metadata": {},
          "execution_count": 311
        }
      ]
    },
    {
      "cell_type": "markdown",
      "metadata": {
        "id": "YyIkBQNgQrSO"
      },
      "source": [
        "The .resize() method functions similarly to the .reshape() method, except\n",
        "that while reshaping returns a new array with data copied into it, .resize()\n",
        "performs an in-place reshaping of the array.:"
      ]
    },
    {
      "cell_type": "code",
      "metadata": {
        "colab": {
          "base_uri": "https://localhost:8080/"
        },
        "id": "NpzKNhgYSEmz",
        "outputId": "35790f5b-ec8b-4454-a1d9-e34a4399e5b8"
      },
      "source": [
        "# we can also use .resize, which changes shape of an object in-place\n",
        "print(m)\n",
        "m.resize(1,9)\n",
        "m"
      ],
      "execution_count": 312,
      "outputs": [
        {
          "output_type": "stream",
          "name": "stdout",
          "text": [
            "[[   0    1 1000]\n",
            " [   3    4 2000]\n",
            " [   6    7    8]]\n"
          ]
        },
        {
          "output_type": "execute_result",
          "data": {
            "text/plain": [
              "array([[   0,    1, 1000,    3,    4, 2000,    6,    7,    8]])"
            ]
          },
          "metadata": {},
          "execution_count": 312
        }
      ]
    },
    {
      "cell_type": "markdown",
      "metadata": {
        "id": "-XS3RISrSLM0"
      },
      "source": [
        "shape has been changed"
      ]
    },
    {
      "cell_type": "markdown",
      "metadata": {
        "id": "OWUyele7gD0X"
      },
      "source": [
        "#**Combining arrays**"
      ]
    },
    {
      "cell_type": "markdown",
      "metadata": {
        "id": "CUqLSLVIgKtQ"
      },
      "source": [
        "creating two arrays for example"
      ]
    },
    {
      "cell_type": "code",
      "metadata": {
        "colab": {
          "base_uri": "https://localhost:8080/"
        },
        "id": "7Jfxnkf8hQKz",
        "outputId": "5fa380fb-457f-48a9-a52d-a8046de34428"
      },
      "source": [
        "a=np.arange(9).reshape(3,3)\n",
        "b=(a+1)*10\n",
        "print(a,'\\n\\n',b)"
      ],
      "execution_count": 317,
      "outputs": [
        {
          "output_type": "stream",
          "name": "stdout",
          "text": [
            "[[0 1 2]\n",
            " [3 4 5]\n",
            " [6 7 8]] \n",
            "\n",
            " [[10 20 30]\n",
            " [40 50 60]\n",
            " [70 80 90]]\n"
          ]
        }
      ]
    },
    {
      "cell_type": "markdown",
      "metadata": {
        "id": "qWhEvtHMhYD7"
      },
      "source": [
        "horizontal stacking"
      ]
    },
    {
      "cell_type": "code",
      "metadata": {
        "colab": {
          "base_uri": "https://localhost:8080/"
        },
        "id": "kExkSk4whui4",
        "outputId": "ba723280-41a3-4b66-d508-b601d5a97ad7"
      },
      "source": [
        "np.hstack((a,b))"
      ],
      "execution_count": 319,
      "outputs": [
        {
          "output_type": "execute_result",
          "data": {
            "text/plain": [
              "array([[ 0,  1,  2, 10, 20, 30],\n",
              "       [ 3,  4,  5, 40, 50, 60],\n",
              "       [ 6,  7,  8, 70, 80, 90]])"
            ]
          },
          "metadata": {},
          "execution_count": 319
        }
      ]
    },
    {
      "cell_type": "markdown",
      "metadata": {
        "id": "9q4vtD5mhyw-"
      },
      "source": [
        "This functionally is equivalent to using the np.concatenate() function while\n",
        "specifying axis = 1 :"
      ]
    },
    {
      "cell_type": "code",
      "metadata": {
        "colab": {
          "base_uri": "https://localhost:8080/"
        },
        "id": "Jr9jYzbKjEF4",
        "outputId": "2ba5ec5c-8d05-4c85-f755-3c79ce16d2f7"
      },
      "source": [
        "np.concatenate((a,b),axis=1)"
      ],
      "execution_count": 322,
      "outputs": [
        {
          "output_type": "execute_result",
          "data": {
            "text/plain": [
              "array([[ 0,  1,  2, 10, 20, 30],\n",
              "       [ 3,  4,  5, 40, 50, 60],\n",
              "       [ 6,  7,  8, 70, 80, 90]])"
            ]
          },
          "metadata": {},
          "execution_count": 322
        }
      ]
    },
    {
      "cell_type": "markdown",
      "metadata": {
        "id": "ZF-z5X5ljHab"
      },
      "source": [
        "vertical stacking"
      ]
    },
    {
      "cell_type": "code",
      "metadata": {
        "colab": {
          "base_uri": "https://localhost:8080/"
        },
        "id": "bOQ1PDfojRZR",
        "outputId": "6ba7a75e-bff2-4af3-91bd-55ff7b7192c5"
      },
      "source": [
        "np.vstack((a,b))"
      ],
      "execution_count": 323,
      "outputs": [
        {
          "output_type": "execute_result",
          "data": {
            "text/plain": [
              "array([[ 0,  1,  2],\n",
              "       [ 3,  4,  5],\n",
              "       [ 6,  7,  8],\n",
              "       [10, 20, 30],\n",
              "       [40, 50, 60],\n",
              "       [70, 80, 90]])"
            ]
          },
          "metadata": {},
          "execution_count": 323
        }
      ]
    },
    {
      "cell_type": "markdown",
      "metadata": {
        "id": "jU5heQU7jVCg"
      },
      "source": [
        "Like np.hstack() , this is equivalent to using the concatenate function, except\n",
        "specifying axis=0 :"
      ]
    },
    {
      "cell_type": "code",
      "metadata": {
        "colab": {
          "base_uri": "https://localhost:8080/"
        },
        "id": "-eGZFqnMjlYE",
        "outputId": "2e367304-8957-450d-b77c-6381126670f1"
      },
      "source": [
        "np.concatenate((a,b),axis=0)"
      ],
      "execution_count": 324,
      "outputs": [
        {
          "output_type": "execute_result",
          "data": {
            "text/plain": [
              "array([[ 0,  1,  2],\n",
              "       [ 3,  4,  5],\n",
              "       [ 6,  7,  8],\n",
              "       [10, 20, 30],\n",
              "       [40, 50, 60],\n",
              "       [70, 80, 90]])"
            ]
          },
          "metadata": {},
          "execution_count": 324
        }
      ]
    },
    {
      "cell_type": "markdown",
      "metadata": {
        "id": "Rkk0ckZMkcEB"
      },
      "source": [
        "Depth stacking"
      ]
    },
    {
      "cell_type": "markdown",
      "metadata": {
        "id": "63k_Ch4MlLo_"
      },
      "source": [
        "dstack stacks each independent column of a and b"
      ]
    },
    {
      "cell_type": "code",
      "metadata": {
        "colab": {
          "base_uri": "https://localhost:8080/"
        },
        "id": "RbJjMvmylRZN",
        "outputId": "2116187a-c1f8-4322-9afd-5f03de74bfd2"
      },
      "source": [
        "np.dstack((a,b))"
      ],
      "execution_count": 325,
      "outputs": [
        {
          "output_type": "execute_result",
          "data": {
            "text/plain": [
              "array([[[ 0, 10],\n",
              "        [ 1, 20],\n",
              "        [ 2, 30]],\n",
              "\n",
              "       [[ 3, 40],\n",
              "        [ 4, 50],\n",
              "        [ 5, 60]],\n",
              "\n",
              "       [[ 6, 70],\n",
              "        [ 7, 80],\n",
              "        [ 8, 90]]])"
            ]
          },
          "metadata": {},
          "execution_count": 325
        }
      ]
    },
    {
      "cell_type": "markdown",
      "metadata": {
        "id": "EB85POwplVED"
      },
      "source": [
        "Column stacking"
      ]
    },
    {
      "cell_type": "code",
      "metadata": {
        "colab": {
          "base_uri": "https://localhost:8080/"
        },
        "id": "eXGpSzl4ll1b",
        "outputId": "4392a8bc-8e25-4ebd-bc42-b3596e668efd"
      },
      "source": [
        "a=np.arange(5)\n",
        "b=np.arange(5,10)\n",
        "a.size==b.size"
      ],
      "execution_count": 326,
      "outputs": [
        {
          "output_type": "execute_result",
          "data": {
            "text/plain": [
              "True"
            ]
          },
          "metadata": {},
          "execution_count": 326
        }
      ]
    },
    {
      "cell_type": "code",
      "metadata": {
        "colab": {
          "base_uri": "https://localhost:8080/"
        },
        "id": "k6KGzqg7lvY1",
        "outputId": "815e55d0-6911-4ee6-bd35-6ab822ebb95f"
      },
      "source": [
        "np.column_stack((a,b))"
      ],
      "execution_count": 328,
      "outputs": [
        {
          "output_type": "execute_result",
          "data": {
            "text/plain": [
              "array([[0, 5],\n",
              "       [1, 6],\n",
              "       [2, 7],\n",
              "       [3, 8],\n",
              "       [4, 9]])"
            ]
          },
          "metadata": {},
          "execution_count": 328
        }
      ]
    },
    {
      "cell_type": "markdown",
      "metadata": {
        "id": "RWndNHg1ly-t"
      },
      "source": [
        "Rows stack"
      ]
    },
    {
      "cell_type": "code",
      "metadata": {
        "colab": {
          "base_uri": "https://localhost:8080/"
        },
        "id": "atcEeRxMqHlw",
        "outputId": "2f7d7929-494b-4308-9f6c-6ca49aee38d7"
      },
      "source": [
        "np.row_stack((a,b))"
      ],
      "execution_count": 329,
      "outputs": [
        {
          "output_type": "execute_result",
          "data": {
            "text/plain": [
              "array([[0, 1, 2, 3, 4],\n",
              "       [5, 6, 7, 8, 9]])"
            ]
          },
          "metadata": {},
          "execution_count": 329
        }
      ]
    },
    {
      "cell_type": "code",
      "metadata": {
        "id": "54oNUjtAqLE7"
      },
      "source": [
        ""
      ],
      "execution_count": null,
      "outputs": []
    }
  ]
}