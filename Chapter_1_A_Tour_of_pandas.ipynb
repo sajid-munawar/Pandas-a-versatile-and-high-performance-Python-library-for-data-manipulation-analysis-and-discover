{
  "nbformat": 4,
  "nbformat_minor": 0,
  "metadata": {
    "colab": {
      "name": "Chapter 1: A Tour of pandas",
      "provenance": [],
      "authorship_tag": "ABX9TyP08l7o66T6HzyEOQUpZd8k",
      "include_colab_link": true
    },
    "kernelspec": {
      "name": "python3",
      "display_name": "Python 3"
    },
    "language_info": {
      "name": "python"
    }
  },
  "cells": [
    {
      "cell_type": "markdown",
      "metadata": {
        "id": "view-in-github",
        "colab_type": "text"
      },
      "source": [
        "<a href=\"https://colab.research.google.com/github/sajid-munawar/Pandas-a-versatile-and-high-performance-Python-library-for-data-manipulation-analysis-and-discover/blob/main/Chapter_1_A_Tour_of_pandas.ipynb\" target=\"_parent\"><img src=\"https://colab.research.google.com/assets/colab-badge.svg\" alt=\"Open In Colab\"/></a>"
      ]
    },
    {
      "cell_type": "markdown",
      "metadata": {
        "id": "AJ72z2mpTsV5"
      },
      "source": [
        "**pandas—a versatile\n",
        "and high-performance Python library for\n",
        "data manipulation, analysis, and discovery**"
      ]
    },
    {
      "cell_type": "code",
      "metadata": {
        "id": "oVkBJzowT9DV"
      },
      "source": [
        "# import numpy and pandas, and DataFrame / Series\n",
        "import numpy as np\n",
        "import pandas as pd\n",
        "from pandas import DataFrame, Series"
      ],
      "execution_count": 1,
      "outputs": []
    },
    {
      "cell_type": "code",
      "metadata": {
        "id": "bK6KXuUam75z"
      },
      "source": [
        "# set some pandas options\n",
        "pd.set_option('display.notebook_repr_html',False)\n",
        "pd.set_option('display.max_columns',10)\n",
        "pd.set_option('display.max_rows',10)"
      ],
      "execution_count": 2,
      "outputs": []
    },
    {
      "cell_type": "code",
      "metadata": {
        "id": "6K3ABTrinwAJ"
      },
      "source": [
        "# Some items for matplotlib\n",
        "%matplotlib inline\n",
        "import matplotlib.pyplot as plt\n",
        "# pd.options.display.mpl_style='default'\n",
        "# pd.options.display.mpl_style = 'default'"
      ],
      "execution_count": 3,
      "outputs": []
    },
    {
      "cell_type": "markdown",
      "metadata": {
        "id": "p6RNX9Xoqm02"
      },
      "source": [
        "**The pandas Series object**"
      ]
    },
    {
      "cell_type": "code",
      "metadata": {
        "colab": {
          "base_uri": "https://localhost:8080/"
        },
        "id": "gJXzgz9cqqie",
        "outputId": "cd8c5213-6fd1-462f-edd7-aeb7a3f5b06f"
      },
      "source": [
        "#  Create a four item DataFrame\n",
        "s=Series([1,2,3,4])\n",
        "s"
      ],
      "execution_count": 4,
      "outputs": [
        {
          "output_type": "execute_result",
          "data": {
            "text/plain": [
              "0    1\n",
              "1    2\n",
              "2    3\n",
              "3    4\n",
              "dtype: int64"
            ]
          },
          "metadata": {},
          "execution_count": 4
        }
      ]
    },
    {
      "cell_type": "code",
      "metadata": {
        "colab": {
          "base_uri": "https://localhost:8080/"
        },
        "id": "ZtLeN38srDjp",
        "outputId": "ee33aeca-97c1-4a85-a381-257435ed81d2"
      },
      "source": [
        "#  Return a Series with the rows with labels 1, 3\n",
        "s[[1,3]]"
      ],
      "execution_count": 5,
      "outputs": [
        {
          "output_type": "execute_result",
          "data": {
            "text/plain": [
              "1    2\n",
              "3    4\n",
              "dtype: int64"
            ]
          },
          "metadata": {},
          "execution_count": 5
        }
      ]
    },
    {
      "cell_type": "markdown",
      "metadata": {
        "id": "_IWQbtiWr8PI"
      },
      "source": [
        "It is important to note that the lookup here is not by zero-based\n",
        "positions 1 and 3 like an array, but by the values in the index."
      ]
    },
    {
      "cell_type": "code",
      "metadata": {
        "colab": {
          "base_uri": "https://localhost:8080/"
        },
        "id": "cI7879HMrm6c",
        "outputId": "8e5125ee-1cfd-44c9-c545-fae03df86709"
      },
      "source": [
        "#create a series using an explicit index\n",
        "s=Series([1,2,3,4], index=['a','b','c','d'])\n",
        "s"
      ],
      "execution_count": 6,
      "outputs": [
        {
          "output_type": "execute_result",
          "data": {
            "text/plain": [
              "a    1\n",
              "b    2\n",
              "c    3\n",
              "d    4\n",
              "dtype: int64"
            ]
          },
          "metadata": {},
          "execution_count": 6
        }
      ]
    },
    {
      "cell_type": "code",
      "metadata": {
        "colab": {
          "base_uri": "https://localhost:8080/"
        },
        "id": "nWWs0HYnsYwR",
        "outputId": "e3072983-02dc-436a-b758-03479a931dd7"
      },
      "source": [
        "# look up items in the series having alphanumeric index 'a' and 'd'\\\n",
        "s[['a','d']]"
      ],
      "execution_count": 7,
      "outputs": [
        {
          "output_type": "execute_result",
          "data": {
            "text/plain": [
              "a    1\n",
              "d    4\n",
              "dtype: int64"
            ]
          },
          "metadata": {},
          "execution_count": 7
        }
      ]
    },
    {
      "cell_type": "code",
      "metadata": {
        "colab": {
          "base_uri": "https://localhost:8080/"
        },
        "id": "bwW_kxRotGy_",
        "outputId": "1c6f7d80-9d6e-45ca-ac35-2f87ce3ae07b"
      },
      "source": [
        "# It is still possible to refer to the elements of the Series object by their numerical position.\n",
        "s[[1,3]]"
      ],
      "execution_count": 8,
      "outputs": [
        {
          "output_type": "execute_result",
          "data": {
            "text/plain": [
              "b    2\n",
              "d    4\n",
              "dtype: int64"
            ]
          },
          "metadata": {},
          "execution_count": 8
        }
      ]
    },
    {
      "cell_type": "code",
      "metadata": {
        "colab": {
          "base_uri": "https://localhost:8080/"
        },
        "id": "L4Ku1xFktaGn",
        "outputId": "f42a7181-28b3-4220-e5bf-5bb08ea06d53"
      },
      "source": [
        "# getting only index\n",
        "s.index"
      ],
      "execution_count": 9,
      "outputs": [
        {
          "output_type": "execute_result",
          "data": {
            "text/plain": [
              "Index(['a', 'b', 'c', 'd'], dtype='object')"
            ]
          },
          "metadata": {},
          "execution_count": 9
        }
      ]
    },
    {
      "cell_type": "code",
      "metadata": {
        "colab": {
          "base_uri": "https://localhost:8080/"
        },
        "id": "szFYVzTgwYxe",
        "outputId": "93395557-004a-45ff-bccf-9f79b15952a8"
      },
      "source": [
        "  # create a series who's index is a series of dates between the two specified dates\n",
        "  dates=pd.date_range('2015-08-01','2015-08-06')\n",
        "  dates"
      ],
      "execution_count": 10,
      "outputs": [
        {
          "output_type": "execute_result",
          "data": {
            "text/plain": [
              "DatetimeIndex(['2015-08-01', '2015-08-02', '2015-08-03', '2015-08-04',\n",
              "               '2015-08-05', '2015-08-06'],\n",
              "              dtype='datetime64[ns]', freq='D')"
            ]
          },
          "metadata": {},
          "execution_count": 10
        }
      ]
    },
    {
      "cell_type": "code",
      "metadata": {
        "id": "-QmBeBvmxbyY"
      },
      "source": [
        "temp1=Series([23,24,21,25,22,26],index=dates)"
      ],
      "execution_count": 11,
      "outputs": []
    },
    {
      "cell_type": "code",
      "metadata": {
        "colab": {
          "base_uri": "https://localhost:8080/"
        },
        "id": "kUN8fmGOx_RP",
        "outputId": "55d43918-105a-420b-b15c-07243d5f6723"
      },
      "source": [
        "temp1"
      ],
      "execution_count": 12,
      "outputs": [
        {
          "output_type": "execute_result",
          "data": {
            "text/plain": [
              "2015-08-01    23\n",
              "2015-08-02    24\n",
              "2015-08-03    21\n",
              "2015-08-04    25\n",
              "2015-08-05    22\n",
              "2015-08-06    26\n",
              "Freq: D, dtype: int64"
            ]
          },
          "metadata": {},
          "execution_count": 12
        }
      ]
    },
    {
      "cell_type": "code",
      "metadata": {
        "colab": {
          "base_uri": "https://localhost:8080/"
        },
        "id": "KvUnr7VnyAi8",
        "outputId": "3cc3794b-39b7-4705-fcc8-15ebc7a2d0ec"
      },
      "source": [
        "# calculate the mean of the series\n",
        "temp1.mean()"
      ],
      "execution_count": 13,
      "outputs": [
        {
          "output_type": "execute_result",
          "data": {
            "text/plain": [
              "23.5"
            ]
          },
          "metadata": {},
          "execution_count": 13
        }
      ]
    },
    {
      "cell_type": "markdown",
      "metadata": {
        "id": "p4I8fh6myrHC"
      },
      "source": [
        "Two Series objects can be applied to each other with an arithmetic operation.\n",
        "The following code calculates the difference in temperature between two Series ."
      ]
    },
    {
      "cell_type": "code",
      "metadata": {
        "colab": {
          "base_uri": "https://localhost:8080/"
        },
        "id": "wKTE7LcmysNH",
        "outputId": "9c75615b-0ca1-4f2d-951f-7f7a63a16663"
      },
      "source": [
        "# create a series with the same index\n",
        "temp2=Series([22,27,24,21,25,20],index=dates)\n",
        "temp2"
      ],
      "execution_count": 14,
      "outputs": [
        {
          "output_type": "execute_result",
          "data": {
            "text/plain": [
              "2015-08-01    22\n",
              "2015-08-02    27\n",
              "2015-08-03    24\n",
              "2015-08-04    21\n",
              "2015-08-05    25\n",
              "2015-08-06    20\n",
              "Freq: D, dtype: int64"
            ]
          },
          "metadata": {},
          "execution_count": 14
        }
      ]
    },
    {
      "cell_type": "code",
      "metadata": {
        "colab": {
          "base_uri": "https://localhost:8080/"
        },
        "id": "akgd8-UtzI-O",
        "outputId": "9f191358-05e5-4981-b9ce-d73121642f14"
      },
      "source": [
        "temp_diff=temp2-temp1\n",
        "temp_diff"
      ],
      "execution_count": 15,
      "outputs": [
        {
          "output_type": "execute_result",
          "data": {
            "text/plain": [
              "2015-08-01   -1\n",
              "2015-08-02    3\n",
              "2015-08-03    3\n",
              "2015-08-04   -4\n",
              "2015-08-05    3\n",
              "2015-08-06   -6\n",
              "Freq: D, dtype: int64"
            ]
          },
          "metadata": {},
          "execution_count": 15
        }
      ]
    },
    {
      "cell_type": "code",
      "metadata": {
        "colab": {
          "base_uri": "https://localhost:8080/"
        },
        "id": "t47BENvgzRqh",
        "outputId": "24553d62-03af-40e3-913c-70a0d86897e2"
      },
      "source": [
        "# look up a value by dates using index \n",
        "temp_diff['2015-08-03']"
      ],
      "execution_count": 16,
      "outputs": [
        {
          "output_type": "execute_result",
          "data": {
            "text/plain": [
              "3"
            ]
          },
          "metadata": {},
          "execution_count": 16
        }
      ]
    },
    {
      "cell_type": "code",
      "metadata": {
        "colab": {
          "base_uri": "https://localhost:8080/"
        },
        "id": "9GdsaymEzzs7",
        "outputId": "20514ce0-61f4-4261-e44f-5288bc4cae15"
      },
      "source": [
        "# also possible with an integer option\n",
        "temp_diff[2]"
      ],
      "execution_count": 17,
      "outputs": [
        {
          "output_type": "execute_result",
          "data": {
            "text/plain": [
              "3"
            ]
          },
          "metadata": {},
          "execution_count": 17
        }
      ]
    },
    {
      "cell_type": "markdown",
      "metadata": {
        "id": "8gMLi1e-0FR0"
      },
      "source": [
        "**The pandas DataFrame object**"
      ]
    },
    {
      "cell_type": "code",
      "metadata": {
        "colab": {
          "base_uri": "https://localhost:8080/"
        },
        "id": "TSmAWedN0JIa",
        "outputId": "654b2a91-54e2-41b1-8c8e-9d061083aa9d"
      },
      "source": [
        "# Create a DataFrame from two series object\n",
        "temps_dif=DataFrame({'Lahore':temp1,\"karachi\":temp2})\n",
        "temps_dif"
      ],
      "execution_count": 18,
      "outputs": [
        {
          "output_type": "execute_result",
          "data": {
            "text/plain": [
              "            Lahore  karachi\n",
              "2015-08-01      23       22\n",
              "2015-08-02      24       27\n",
              "2015-08-03      21       24\n",
              "2015-08-04      25       21\n",
              "2015-08-05      22       25\n",
              "2015-08-06      26       20"
            ]
          },
          "metadata": {},
          "execution_count": 18
        }
      ]
    },
    {
      "cell_type": "code",
      "metadata": {
        "colab": {
          "base_uri": "https://localhost:8080/"
        },
        "id": "QfbpsJlL2ARm",
        "outputId": "adb4a682-6f73-49b0-a42f-b0d590f3105f"
      },
      "source": [
        "# get the column with the name Lahore\n",
        "temps_dif['Lahore']"
      ],
      "execution_count": 19,
      "outputs": [
        {
          "output_type": "execute_result",
          "data": {
            "text/plain": [
              "2015-08-01    23\n",
              "2015-08-02    24\n",
              "2015-08-03    21\n",
              "2015-08-04    25\n",
              "2015-08-05    22\n",
              "2015-08-06    26\n",
              "Freq: D, Name: Lahore, dtype: int64"
            ]
          },
          "metadata": {},
          "execution_count": 19
        }
      ]
    },
    {
      "cell_type": "code",
      "metadata": {
        "colab": {
          "base_uri": "https://localhost:8080/"
        },
        "id": "emvLO2o12sxZ",
        "outputId": "422d67ae-8691-4460-868a-4af36f2f3377"
      },
      "source": [
        "temps_dif['karachi']"
      ],
      "execution_count": 20,
      "outputs": [
        {
          "output_type": "execute_result",
          "data": {
            "text/plain": [
              "2015-08-01    22\n",
              "2015-08-02    27\n",
              "2015-08-03    24\n",
              "2015-08-04    21\n",
              "2015-08-05    25\n",
              "2015-08-06    20\n",
              "Freq: D, Name: karachi, dtype: int64"
            ]
          },
          "metadata": {},
          "execution_count": 20
        }
      ]
    },
    {
      "cell_type": "code",
      "metadata": {
        "colab": {
          "base_uri": "https://localhost:8080/"
        },
        "id": "Y8ModPrC23lE",
        "outputId": "47789884-d6b2-4d2f-90e0-4949122d6836"
      },
      "source": [
        "temps_dif[['karachi','Lahore']]"
      ],
      "execution_count": 21,
      "outputs": [
        {
          "output_type": "execute_result",
          "data": {
            "text/plain": [
              "            karachi  Lahore\n",
              "2015-08-01       22      23\n",
              "2015-08-02       27      24\n",
              "2015-08-03       24      21\n",
              "2015-08-04       21      25\n",
              "2015-08-05       25      22\n",
              "2015-08-06       20      26"
            ]
          },
          "metadata": {},
          "execution_count": 21
        }
      ]
    },
    {
      "cell_type": "code",
      "metadata": {
        "colab": {
          "base_uri": "https://localhost:8080/"
        },
        "id": "bGhh5TTJ3Fd9",
        "outputId": "4caca41c-eb26-4591-92a7-9951a0f23ee5"
      },
      "source": [
        "# retrive the Lahore column through the property syntax\n",
        "temps_dif.Lahore"
      ],
      "execution_count": 22,
      "outputs": [
        {
          "output_type": "execute_result",
          "data": {
            "text/plain": [
              "2015-08-01    23\n",
              "2015-08-02    24\n",
              "2015-08-03    21\n",
              "2015-08-04    25\n",
              "2015-08-05    22\n",
              "2015-08-06    26\n",
              "Freq: D, Name: Lahore, dtype: int64"
            ]
          },
          "metadata": {},
          "execution_count": 22
        }
      ]
    },
    {
      "cell_type": "code",
      "metadata": {
        "colab": {
          "base_uri": "https://localhost:8080/"
        },
        "id": "XAj88rD93b8Y",
        "outputId": "67db42e5-8f8d-4ba4-df95-d305ecc5eeb9"
      },
      "source": [
        "# Calculate the temperature diffrence using proprety syntax\n",
        "temp_dif_cities=temps_dif.karachi-temps_dif.Lahore\n",
        "temp_dif_cities"
      ],
      "execution_count": 23,
      "outputs": [
        {
          "output_type": "execute_result",
          "data": {
            "text/plain": [
              "2015-08-01   -1\n",
              "2015-08-02    3\n",
              "2015-08-03    3\n",
              "2015-08-04   -4\n",
              "2015-08-05    3\n",
              "2015-08-06   -6\n",
              "Freq: D, dtype: int64"
            ]
          },
          "metadata": {},
          "execution_count": 23
        }
      ]
    },
    {
      "cell_type": "code",
      "metadata": {
        "colab": {
          "base_uri": "https://localhost:8080/"
        },
        "id": "n4tioetV34sW",
        "outputId": "137deb5b-8b8c-4e10-c938-ddf9b0890f2e"
      },
      "source": [
        "# add a column to temp dif that contains temprature diffrence\n",
        "temps_dif['Difference']=temp_dif_cities\n",
        "temps_dif"
      ],
      "execution_count": 24,
      "outputs": [
        {
          "output_type": "execute_result",
          "data": {
            "text/plain": [
              "            Lahore  karachi  Difference\n",
              "2015-08-01      23       22          -1\n",
              "2015-08-02      24       27           3\n",
              "2015-08-03      21       24           3\n",
              "2015-08-04      25       21          -4\n",
              "2015-08-05      22       25           3\n",
              "2015-08-06      26       20          -6"
            ]
          },
          "metadata": {},
          "execution_count": 24
        }
      ]
    },
    {
      "cell_type": "code",
      "metadata": {
        "colab": {
          "base_uri": "https://localhost:8080/"
        },
        "id": "mdSonbAS4g-a",
        "outputId": "e0e6e958-8b62-4d98-c43b-ecbbc6a2be07"
      },
      "source": [
        "# get the columns which is also an index object\n",
        "temps_dif.columns"
      ],
      "execution_count": 25,
      "outputs": [
        {
          "output_type": "execute_result",
          "data": {
            "text/plain": [
              "Index(['Lahore', 'karachi', 'Difference'], dtype='object')"
            ]
          },
          "metadata": {},
          "execution_count": 25
        }
      ]
    },
    {
      "cell_type": "code",
      "metadata": {
        "colab": {
          "base_uri": "https://localhost:8080/"
        },
        "id": "9KRR_XpQ479T",
        "outputId": "5081e744-3651-4f25-accb-beb5c3b1c902"
      },
      "source": [
        "# slice the temperature diffrence rows from 1 to 4\n",
        "temps_dif.Difference[1:4]"
      ],
      "execution_count": 26,
      "outputs": [
        {
          "output_type": "execute_result",
          "data": {
            "text/plain": [
              "2015-08-02    3\n",
              "2015-08-03    3\n",
              "2015-08-04   -4\n",
              "Freq: D, Name: Difference, dtype: int64"
            ]
          },
          "metadata": {},
          "execution_count": 26
        }
      ]
    },
    {
      "cell_type": "code",
      "metadata": {
        "colab": {
          "base_uri": "https://localhost:8080/"
        },
        "id": "XGZuuBnF5RrD",
        "outputId": "d6e55336-f1f3-469c-f383-763142ef9b4c"
      },
      "source": [
        "# get the rows at array position 1\n",
        "temps_dif.iloc[1]"
      ],
      "execution_count": 27,
      "outputs": [
        {
          "output_type": "execute_result",
          "data": {
            "text/plain": [
              "Lahore        24\n",
              "karachi       27\n",
              "Difference     3\n",
              "Name: 2015-08-02 00:00:00, dtype: int64"
            ]
          },
          "metadata": {},
          "execution_count": 27
        }
      ]
    },
    {
      "cell_type": "markdown",
      "metadata": {
        "id": "OHaxqaqU6b_O"
      },
      "source": [
        "This has converted the row into a Series , with the column names of the DataFrame\n",
        "pivoted into the index labels of the resulting Series"
      ]
    },
    {
      "cell_type": "code",
      "metadata": {
        "colab": {
          "base_uri": "https://localhost:8080/"
        },
        "id": "vsFZ2-7n5vck",
        "outputId": "e3da08ad-5f0e-4c9c-90de-da5f50de4a0b"
      },
      "source": [
        "temps_dif.iloc[1].index"
      ],
      "execution_count": 28,
      "outputs": [
        {
          "output_type": "execute_result",
          "data": {
            "text/plain": [
              "Index(['Lahore', 'karachi', 'Difference'], dtype='object')"
            ]
          },
          "metadata": {},
          "execution_count": 28
        }
      ]
    },
    {
      "cell_type": "markdown",
      "metadata": {
        "id": "p6Y62ylr63Qs"
      },
      "source": [
        "Rows can be explicitly accessed via index label using the .loc property"
      ]
    },
    {
      "cell_type": "code",
      "metadata": {
        "colab": {
          "base_uri": "https://localhost:8080/"
        },
        "id": "HadCmf426H_w",
        "outputId": "3c0583b3-fe03-4146-ab83-328385c805c9"
      },
      "source": [
        "temps_dif.loc['2015-08-03']"
      ],
      "execution_count": 29,
      "outputs": [
        {
          "output_type": "execute_result",
          "data": {
            "text/plain": [
              "Lahore        21\n",
              "karachi       24\n",
              "Difference     3\n",
              "Name: 2015-08-03 00:00:00, dtype: int64"
            ]
          },
          "metadata": {},
          "execution_count": 29
        }
      ]
    },
    {
      "cell_type": "code",
      "metadata": {
        "colab": {
          "base_uri": "https://localhost:8080/"
        },
        "id": "KZtU4Gj76v7o",
        "outputId": "61c73471-420f-4843-f6a0-8f54b74b1d16"
      },
      "source": [
        "# get the values in the Differences column in rows 1, 3, and 5 using 0-based location\n",
        "temps_dif.iloc[[1,3,5]].Difference"
      ],
      "execution_count": 30,
      "outputs": [
        {
          "output_type": "execute_result",
          "data": {
            "text/plain": [
              "2015-08-02    3\n",
              "2015-08-04   -4\n",
              "2015-08-06   -6\n",
              "Freq: 2D, Name: Difference, dtype: int64"
            ]
          },
          "metadata": {},
          "execution_count": 30
        }
      ]
    },
    {
      "cell_type": "code",
      "metadata": {
        "colab": {
          "base_uri": "https://localhost:8080/"
        },
        "id": "fZWvEcW17UBb",
        "outputId": "b709f827-e11b-4bb9-8d8d-10a363edda19"
      },
      "source": [
        "temps_dif.Lahore>22"
      ],
      "execution_count": 31,
      "outputs": [
        {
          "output_type": "execute_result",
          "data": {
            "text/plain": [
              "2015-08-01     True\n",
              "2015-08-02     True\n",
              "2015-08-03    False\n",
              "2015-08-04     True\n",
              "2015-08-05    False\n",
              "2015-08-06     True\n",
              "Freq: D, Name: Lahore, dtype: bool"
            ]
          },
          "metadata": {},
          "execution_count": 31
        }
      ]
    },
    {
      "cell_type": "code",
      "metadata": {
        "colab": {
          "base_uri": "https://localhost:8080/"
        },
        "id": "gUnuMqT87iBS",
        "outputId": "1063d6ec-5e98-496b-fed9-f8098bb9ea5e"
      },
      "source": [
        "temps_dif[temps_dif.Lahore>22]"
      ],
      "execution_count": 32,
      "outputs": [
        {
          "output_type": "execute_result",
          "data": {
            "text/plain": [
              "            Lahore  karachi  Difference\n",
              "2015-08-01      23       22          -1\n",
              "2015-08-02      24       27           3\n",
              "2015-08-04      25       21          -4\n",
              "2015-08-06      26       20          -6"
            ]
          },
          "metadata": {},
          "execution_count": 32
        }
      ]
    },
    {
      "cell_type": "markdown",
      "metadata": {
        "id": "32ASMzMa8eMj"
      },
      "source": [
        "**Loading data from files and the Web**"
      ]
    },
    {
      "cell_type": "markdown",
      "metadata": {
        "id": "CGscLD4IIwZi"
      },
      "source": [
        "Loading CSV data from files"
      ]
    },
    {
      "cell_type": "code",
      "metadata": {
        "colab": {
          "base_uri": "https://localhost:8080/"
        },
        "id": "uxaBb01HIr2u",
        "outputId": "1eae5ebc-d350-49e2-e62d-42f64a89dded"
      },
      "source": [
        "!cat data/test1.csv"
      ],
      "execution_count": 33,
      "outputs": [
        {
          "output_type": "stream",
          "name": "stdout",
          "text": [
            "cat: data/test1.csv: No such file or directory\n"
          ]
        }
      ]
    },
    {
      "cell_type": "code",
      "metadata": {
        "id": "8dekAB66JWHl",
        "colab": {
          "base_uri": "https://localhost:8080/"
        },
        "outputId": "92264475-bc8d-423a-e855-720c7024b20b"
      },
      "source": [
        "! cat home/sajid/1/H10_xray.csv"
      ],
      "execution_count": 34,
      "outputs": [
        {
          "output_type": "stream",
          "name": "stdout",
          "text": [
            "cat: home/sajid/1/H10_xray.csv: No such file or directory\n"
          ]
        }
      ]
    },
    {
      "cell_type": "code",
      "metadata": {
        "id": "iol2D6LFD6dj"
      },
      "source": [
        "data=pd.read_csv('https://raw.githubusercontent.com/sajid-munawar/Quarter_2/master/Pandas/Learn%20from%20portal/examples/csv_mindex.csv')"
      ],
      "execution_count": 35,
      "outputs": []
    },
    {
      "cell_type": "code",
      "metadata": {
        "colab": {
          "base_uri": "https://localhost:8080/"
        },
        "id": "AIx_57NnIgaT",
        "outputId": "ea238f40-bfc6-46c8-a815-178981545624"
      },
      "source": [
        "data"
      ],
      "execution_count": 36,
      "outputs": [
        {
          "output_type": "execute_result",
          "data": {
            "text/plain": [
              "  key1 key2  value1  value2\n",
              "0  one    a       1       2\n",
              "1  one    b       3       4\n",
              "2  one    c       5       6\n",
              "3  one    d       7       8\n",
              "4  two    a       9      10\n",
              "5  two    b      11      12\n",
              "6  two    c      13      14\n",
              "7  two    d      15      16"
            ]
          },
          "metadata": {},
          "execution_count": 36
        }
      ]
    },
    {
      "cell_type": "code",
      "metadata": {
        "colab": {
          "base_uri": "https://localhost:8080/"
        },
        "id": "U35md4wwIhqb",
        "outputId": "ae52d14c-a939-4ebf-8f67-335a3b54e2e6"
      },
      "source": [
        "data.index"
      ],
      "execution_count": 37,
      "outputs": [
        {
          "output_type": "execute_result",
          "data": {
            "text/plain": [
              "RangeIndex(start=0, stop=8, step=1)"
            ]
          },
          "metadata": {},
          "execution_count": 37
        }
      ]
    },
    {
      "cell_type": "code",
      "metadata": {
        "colab": {
          "resources": {
            "http://localhost:8080/nbextensions/google.colab/files.js": {
              "data": "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",
              "ok": true,
              "headers": [
                [
                  "content-type",
                  "application/javascript"
                ]
              ],
              "status": 200,
              "status_text": ""
            }
          },
          "base_uri": "https://localhost:8080/",
          "height": 73
        },
        "id": "I4NtZnnqO4py",
        "outputId": "c6cb1394-2976-484e-cec8-3cda29c87daa"
      },
      "source": [
        "from google.colab import files\n",
        "uploaded=files.upload()"
      ],
      "execution_count": 38,
      "outputs": [
        {
          "output_type": "display_data",
          "data": {
            "text/html": [
              "\n",
              "     <input type=\"file\" id=\"files-fdb6fe57-a38c-4b16-aa6b-953f762d3c6a\" name=\"files[]\" multiple disabled\n",
              "        style=\"border:none\" />\n",
              "     <output id=\"result-fdb6fe57-a38c-4b16-aa6b-953f762d3c6a\">\n",
              "      Upload widget is only available when the cell has been executed in the\n",
              "      current browser session. Please rerun this cell to enable.\n",
              "      </output>\n",
              "      <script src=\"/nbextensions/google.colab/files.js\"></script> "
            ],
            "text/plain": [
              "<IPython.core.display.HTML object>"
            ]
          },
          "metadata": {}
        },
        {
          "output_type": "stream",
          "name": "stdout",
          "text": [
            "Saving ex2.csv to ex2.csv\n"
          ]
        }
      ]
    },
    {
      "cell_type": "code",
      "metadata": {
        "colab": {
          "base_uri": "https://localhost:8080/"
        },
        "id": "Z7FMMZYAQe1D",
        "outputId": "e4cf31c9-5860-431e-ccf1-8f21127932ad"
      },
      "source": [
        "type(uploaded)"
      ],
      "execution_count": 39,
      "outputs": [
        {
          "output_type": "execute_result",
          "data": {
            "text/plain": [
              "dict"
            ]
          },
          "metadata": {},
          "execution_count": 39
        }
      ]
    },
    {
      "cell_type": "code",
      "metadata": {
        "id": "S6ykakFJQmkK"
      },
      "source": [
        "# pd.read_csv(uploaded)"
      ],
      "execution_count": 41,
      "outputs": []
    },
    {
      "cell_type": "code",
      "metadata": {
        "id": "XAgwG7AOQrh6",
        "colab": {
          "base_uri": "https://localhost:8080/"
        },
        "outputId": "3428f5ef-ffc0-4572-f1f0-8b6de927e0a5"
      },
      "source": [
        "date=pd.date_range('05-01-2021','05-05-2021')\n",
        "date2=pd.date_range('2021-10-01','2021-10-05')\n",
        "date2"
      ],
      "execution_count": 51,
      "outputs": [
        {
          "output_type": "execute_result",
          "data": {
            "text/plain": [
              "DatetimeIndex(['2021-10-01', '2021-10-02', '2021-10-03', '2021-10-04',\n",
              "               '2021-10-05'],\n",
              "              dtype='datetime64[ns]', freq='D')"
            ]
          },
          "metadata": {},
          "execution_count": 51
        }
      ]
    },
    {
      "cell_type": "code",
      "metadata": {
        "colab": {
          "base_uri": "https://localhost:8080/"
        },
        "id": "HfbZ0o6QuXWY",
        "outputId": "b6781f12-db14-4cea-f9d9-b588ff45b43e"
      },
      "source": [
        "date"
      ],
      "execution_count": 52,
      "outputs": [
        {
          "output_type": "execute_result",
          "data": {
            "text/plain": [
              "DatetimeIndex(['2021-05-01', '2021-05-02', '2021-05-03', '2021-05-04',\n",
              "               '2021-05-05'],\n",
              "              dtype='datetime64[ns]', freq='D')"
            ]
          },
          "metadata": {},
          "execution_count": 52
        }
      ]
    },
    {
      "cell_type": "code",
      "metadata": {
        "id": "IyVxxvUzuYn5"
      },
      "source": [
        "date2=pd.date_range('2021-10-01','2021-10-05')\n",
        "nums=np.random.randint(1,100,5)\n",
        "df3=DataFrame({'date':date2, 'Class one':nums})\n"
      ],
      "execution_count": 59,
      "outputs": []
    },
    {
      "cell_type": "code",
      "metadata": {
        "colab": {
          "base_uri": "https://localhost:8080/"
        },
        "id": "RHHd5wSYujop",
        "outputId": "b743cfd8-2375-496f-b210-566d01eab054"
      },
      "source": [
        "nums"
      ],
      "execution_count": 60,
      "outputs": [
        {
          "output_type": "execute_result",
          "data": {
            "text/plain": [
              "array([90, 14, 30,  1, 11])"
            ]
          },
          "metadata": {},
          "execution_count": 60
        }
      ]
    },
    {
      "cell_type": "code",
      "metadata": {
        "id": "LWUlKNTuukqj"
      },
      "source": [
        "df1=DataFrame(nums,index=date2)"
      ],
      "execution_count": 61,
      "outputs": []
    },
    {
      "cell_type": "code",
      "metadata": {
        "colab": {
          "base_uri": "https://localhost:8080/"
        },
        "id": "ASyFg1nYvTuP",
        "outputId": "57253626-a3b1-4c4d-d1ce-00ca9c8a3911"
      },
      "source": [
        "df1"
      ],
      "execution_count": 62,
      "outputs": [
        {
          "output_type": "execute_result",
          "data": {
            "text/plain": [
              "             0\n",
              "2021-10-01  90\n",
              "2021-10-02  14\n",
              "2021-10-03  30\n",
              "2021-10-04   1\n",
              "2021-10-05  11"
            ]
          },
          "metadata": {},
          "execution_count": 62
        }
      ]
    },
    {
      "cell_type": "code",
      "metadata": {
        "id": "Hp32bansvUgM"
      },
      "source": [
        "df2=DataFrame({'Class one' :nums},index=date2)"
      ],
      "execution_count": 63,
      "outputs": []
    },
    {
      "cell_type": "code",
      "metadata": {
        "colab": {
          "base_uri": "https://localhost:8080/"
        },
        "id": "uURHBiRjvmr3",
        "outputId": "60796cf9-118a-45e3-985d-53ab438daf5a"
      },
      "source": [
        "df2"
      ],
      "execution_count": 64,
      "outputs": [
        {
          "output_type": "execute_result",
          "data": {
            "text/plain": [
              "            Class one\n",
              "2021-10-01         90\n",
              "2021-10-02         14\n",
              "2021-10-03         30\n",
              "2021-10-04          1\n",
              "2021-10-05         11"
            ]
          },
          "metadata": {},
          "execution_count": 64
        }
      ]
    },
    {
      "cell_type": "code",
      "metadata": {
        "colab": {
          "base_uri": "https://localhost:8080/",
          "height": 35
        },
        "id": "qNvytKK0xeeo",
        "outputId": "71d288fc-3526-4915-ef20-9722d4280069"
      },
      "source": [
        "df3=DataFrame({'date':date2, 'Class one':nums})\n",
        "df3.to_csv()"
      ],
      "execution_count": 71,
      "outputs": [
        {
          "output_type": "execute_result",
          "data": {
            "application/vnd.google.colaboratory.intrinsic+json": {
              "type": "string"
            },
            "text/plain": [
              "',date,Class one\\n0,2021-10-01,90\\n1,2021-10-02,14\\n2,2021-10-03,30\\n3,2021-10-04,1\\n4,2021-10-05,11\\n'"
            ]
          },
          "metadata": {},
          "execution_count": 71
        }
      ]
    },
    {
      "cell_type": "markdown",
      "metadata": {
        "id": "36jDL4M65Ksy"
      },
      "source": [
        "**Loading Data from the web**"
      ]
    },
    {
      "cell_type": "code",
      "metadata": {
        "id": "9eeL8wW-xDP1"
      },
      "source": [
        "# from pandas.io.data import DataReader\n",
        "# from pandas.io.data import DataReader\n",
        "from datetime import date\n",
        "from dateutil.relativedelta import relativedelta"
      ],
      "execution_count": 76,
      "outputs": []
    },
    {
      "cell_type": "markdown",
      "metadata": {
        "id": "bGglJszs_IB7"
      },
      "source": [
        "goog = DataReader(\"GOOG\",\n",
        "\"yahoo\",\n",
        "date.today() +\n",
        "relativedelta(months=-3))"
      ]
    },
    {
      "cell_type": "code",
      "metadata": {
        "id": "WKPT7vGy_I6F"
      },
      "source": [
        ""
      ],
      "execution_count": null,
      "outputs": []
    }
  ]
}