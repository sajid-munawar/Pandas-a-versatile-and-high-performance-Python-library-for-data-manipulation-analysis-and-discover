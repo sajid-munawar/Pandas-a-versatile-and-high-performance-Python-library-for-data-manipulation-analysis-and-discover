{
  "nbformat": 4,
  "nbformat_minor": 0,
  "metadata": {
    "colab": {
      "name": "Chapter 1: A Tour of pandas",
      "provenance": [],
      "authorship_tag": "ABX9TyMLIgwQcG4DTWX/5r0fT+vQ",
      "include_colab_link": true
    },
    "kernelspec": {
      "name": "python3",
      "display_name": "Python 3"
    },
    "language_info": {
      "name": "python"
    }
  },
  "cells": [
    {
      "cell_type": "markdown",
      "metadata": {
        "id": "view-in-github",
        "colab_type": "text"
      },
      "source": [
        "<a href=\"https://colab.research.google.com/github/sajid-munawar/Pandas-a-versatile-and-high-performance-Python-library-for-data-manipulation-analysis-and-discover/blob/main/Chapter_1_A_Tour_of_pandas.ipynb\" target=\"_parent\"><img src=\"https://colab.research.google.com/assets/colab-badge.svg\" alt=\"Open In Colab\"/></a>"
      ]
    },
    {
      "cell_type": "markdown",
      "metadata": {
        "id": "AJ72z2mpTsV5"
      },
      "source": [
        "**pandas—a versatile\n",
        "and high-performance Python library for\n",
        "data manipulation, analysis, and discovery**"
      ]
    },
    {
      "cell_type": "code",
      "metadata": {
        "id": "oVkBJzowT9DV"
      },
      "source": [
        "# import numpy and pandas, and DataFrame / Series\n",
        "import numpy as np\n",
        "import pandas as pd\n",
        "from pandas import DataFrame, Series"
      ],
      "execution_count": 1,
      "outputs": []
    },
    {
      "cell_type": "code",
      "metadata": {
        "id": "bK6KXuUam75z"
      },
      "source": [
        "# set some pandas options\n",
        "pd.set_option('display.notebook_repr_html',False)\n",
        "pd.set_option('display.max_columns',10)\n",
        "pd.set_option('display.max_rows',10)"
      ],
      "execution_count": 4,
      "outputs": []
    },
    {
      "cell_type": "code",
      "metadata": {
        "id": "6K3ABTrinwAJ"
      },
      "source": [
        "# Some items for matplotlib\n",
        "%matplotlib inline\n",
        "import matplotlib.pyplot as plt\n",
        "# pd.options.display.mpl_style='default'\n",
        "# pd.options.display.mpl_style = 'default'"
      ],
      "execution_count": 7,
      "outputs": []
    },
    {
      "cell_type": "markdown",
      "metadata": {
        "id": "p6RNX9Xoqm02"
      },
      "source": [
        "**The pandas Series object**"
      ]
    },
    {
      "cell_type": "code",
      "metadata": {
        "colab": {
          "base_uri": "https://localhost:8080/"
        },
        "id": "gJXzgz9cqqie",
        "outputId": "4b926abc-885c-44c7-bbf2-4a439e42f1ed"
      },
      "source": [
        "#  Create a four item DataFrame\n",
        "s=Series([1,2,3,4])\n",
        "s"
      ],
      "execution_count": 10,
      "outputs": [
        {
          "output_type": "execute_result",
          "data": {
            "text/plain": [
              "0    1\n",
              "1    2\n",
              "2    3\n",
              "3    4\n",
              "dtype: int64"
            ]
          },
          "metadata": {},
          "execution_count": 10
        }
      ]
    },
    {
      "cell_type": "code",
      "metadata": {
        "colab": {
          "base_uri": "https://localhost:8080/"
        },
        "id": "ZtLeN38srDjp",
        "outputId": "e1f4da93-c907-44e8-9db0-ee29a2a6f3ac"
      },
      "source": [
        "#  Return a Series with the rows with labels 1, 3\n",
        "s[[1,3]]"
      ],
      "execution_count": 12,
      "outputs": [
        {
          "output_type": "execute_result",
          "data": {
            "text/plain": [
              "1    2\n",
              "3    4\n",
              "dtype: int64"
            ]
          },
          "metadata": {},
          "execution_count": 12
        }
      ]
    },
    {
      "cell_type": "markdown",
      "metadata": {
        "id": "_IWQbtiWr8PI"
      },
      "source": [
        "It is important to note that the lookup here is not by zero-based\n",
        "positions 1 and 3 like an array, but by the values in the index."
      ]
    },
    {
      "cell_type": "code",
      "metadata": {
        "colab": {
          "base_uri": "https://localhost:8080/"
        },
        "id": "cI7879HMrm6c",
        "outputId": "f400487f-8c02-44d5-884e-b4eb42ffbef8"
      },
      "source": [
        "#create a series using an explicit index\n",
        "s=Series([1,2,3,4], index=['a','b','c','d'])\n",
        "s"
      ],
      "execution_count": 13,
      "outputs": [
        {
          "output_type": "execute_result",
          "data": {
            "text/plain": [
              "a    1\n",
              "b    2\n",
              "c    3\n",
              "d    4\n",
              "dtype: int64"
            ]
          },
          "metadata": {},
          "execution_count": 13
        }
      ]
    },
    {
      "cell_type": "code",
      "metadata": {
        "id": "nWWs0HYnsYwR"
      },
      "source": [
        ""
      ],
      "execution_count": null,
      "outputs": []
    }
  ]
}