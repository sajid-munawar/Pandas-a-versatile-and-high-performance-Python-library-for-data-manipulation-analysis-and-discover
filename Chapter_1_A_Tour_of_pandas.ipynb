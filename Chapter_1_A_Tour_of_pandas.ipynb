{
  "nbformat": 4,
  "nbformat_minor": 0,
  "metadata": {
    "colab": {
      "name": "Chapter 1: A Tour of pandas",
      "provenance": [],
      "authorship_tag": "ABX9TyOmnTZJWqhE20Tm9L9mPfRN",
      "include_colab_link": true
    },
    "kernelspec": {
      "name": "python3",
      "display_name": "Python 3"
    },
    "language_info": {
      "name": "python"
    }
  },
  "cells": [
    {
      "cell_type": "markdown",
      "metadata": {
        "id": "view-in-github",
        "colab_type": "text"
      },
      "source": [
        "<a href=\"https://colab.research.google.com/github/sajid-munawar/Pandas-a-versatile-and-high-performance-Python-library-for-data-manipulation-analysis-and-discover/blob/main/Chapter_1_A_Tour_of_pandas.ipynb\" target=\"_parent\"><img src=\"https://colab.research.google.com/assets/colab-badge.svg\" alt=\"Open In Colab\"/></a>"
      ]
    },
    {
      "cell_type": "markdown",
      "metadata": {
        "id": "AJ72z2mpTsV5"
      },
      "source": [
        "**pandas—a versatile\n",
        "and high-performance Python library for\n",
        "data manipulation, analysis, and discovery**"
      ]
    },
    {
      "cell_type": "code",
      "metadata": {
        "id": "oVkBJzowT9DV"
      },
      "source": [
        "# import numpy and pandas, and DataFrame / Series\n",
        "import numpy as np\n",
        "import pandas as pd\n",
        "from pandas import DataFrame, Series"
      ],
      "execution_count": 1,
      "outputs": []
    },
    {
      "cell_type": "code",
      "metadata": {
        "id": "bK6KXuUam75z"
      },
      "source": [
        "# set some pandas options\n",
        "pd.set_option('display.notebook_repr_html',False)\n",
        "pd.set_option('display.max_columns',10)\n",
        "pd.set_option('display.max_rows',10)"
      ],
      "execution_count": 4,
      "outputs": []
    },
    {
      "cell_type": "code",
      "metadata": {
        "id": "6K3ABTrinwAJ"
      },
      "source": [
        "# Some items for matplotlib\n",
        "%matplotlib inline\n",
        "import matplotlib.pyplot as plt\n",
        "# pd.options.display.mpl_style='default'\n",
        "# pd.options.display.mpl_style = 'default'"
      ],
      "execution_count": 7,
      "outputs": []
    },
    {
      "cell_type": "markdown",
      "metadata": {
        "id": "p6RNX9Xoqm02"
      },
      "source": [
        "**The pandas Series object**"
      ]
    },
    {
      "cell_type": "code",
      "metadata": {
        "colab": {
          "base_uri": "https://localhost:8080/"
        },
        "id": "gJXzgz9cqqie",
        "outputId": "4b926abc-885c-44c7-bbf2-4a439e42f1ed"
      },
      "source": [
        "#  Create a four item DataFrame\n",
        "s=Series([1,2,3,4])\n",
        "s"
      ],
      "execution_count": 10,
      "outputs": [
        {
          "output_type": "execute_result",
          "data": {
            "text/plain": [
              "0    1\n",
              "1    2\n",
              "2    3\n",
              "3    4\n",
              "dtype: int64"
            ]
          },
          "metadata": {},
          "execution_count": 10
        }
      ]
    },
    {
      "cell_type": "code",
      "metadata": {
        "colab": {
          "base_uri": "https://localhost:8080/"
        },
        "id": "ZtLeN38srDjp",
        "outputId": "e1f4da93-c907-44e8-9db0-ee29a2a6f3ac"
      },
      "source": [
        "#  Return a Series with the rows with labels 1, 3\n",
        "s[[1,3]]"
      ],
      "execution_count": 12,
      "outputs": [
        {
          "output_type": "execute_result",
          "data": {
            "text/plain": [
              "1    2\n",
              "3    4\n",
              "dtype: int64"
            ]
          },
          "metadata": {},
          "execution_count": 12
        }
      ]
    },
    {
      "cell_type": "markdown",
      "metadata": {
        "id": "_IWQbtiWr8PI"
      },
      "source": [
        "It is important to note that the lookup here is not by zero-based\n",
        "positions 1 and 3 like an array, but by the values in the index."
      ]
    },
    {
      "cell_type": "code",
      "metadata": {
        "colab": {
          "base_uri": "https://localhost:8080/"
        },
        "id": "cI7879HMrm6c",
        "outputId": "f400487f-8c02-44d5-884e-b4eb42ffbef8"
      },
      "source": [
        "#create a series using an explicit index\n",
        "s=Series([1,2,3,4], index=['a','b','c','d'])\n",
        "s"
      ],
      "execution_count": 13,
      "outputs": [
        {
          "output_type": "execute_result",
          "data": {
            "text/plain": [
              "a    1\n",
              "b    2\n",
              "c    3\n",
              "d    4\n",
              "dtype: int64"
            ]
          },
          "metadata": {},
          "execution_count": 13
        }
      ]
    },
    {
      "cell_type": "code",
      "metadata": {
        "colab": {
          "base_uri": "https://localhost:8080/"
        },
        "id": "nWWs0HYnsYwR",
        "outputId": "500eccdb-108c-4857-bdbb-cf8f5399ec61"
      },
      "source": [
        "# look up items in the series having alphanumeric index 'a' and 'd'\\\n",
        "s[['a','d']]"
      ],
      "execution_count": 14,
      "outputs": [
        {
          "output_type": "execute_result",
          "data": {
            "text/plain": [
              "a    1\n",
              "d    4\n",
              "dtype: int64"
            ]
          },
          "metadata": {},
          "execution_count": 14
        }
      ]
    },
    {
      "cell_type": "code",
      "metadata": {
        "colab": {
          "base_uri": "https://localhost:8080/"
        },
        "id": "bwW_kxRotGy_",
        "outputId": "c9511096-98da-4095-8cd6-bf28f5a74bee"
      },
      "source": [
        "# It is still possible to refer to the elements of the Series object by their numerical position.\n",
        "s[[1,3]]"
      ],
      "execution_count": 15,
      "outputs": [
        {
          "output_type": "execute_result",
          "data": {
            "text/plain": [
              "b    2\n",
              "d    4\n",
              "dtype: int64"
            ]
          },
          "metadata": {},
          "execution_count": 15
        }
      ]
    },
    {
      "cell_type": "code",
      "metadata": {
        "colab": {
          "base_uri": "https://localhost:8080/"
        },
        "id": "L4Ku1xFktaGn",
        "outputId": "3ba2c3a7-5bfa-4542-a026-2530a14fe023"
      },
      "source": [
        "# getting only index\n",
        "s.index"
      ],
      "execution_count": 16,
      "outputs": [
        {
          "output_type": "execute_result",
          "data": {
            "text/plain": [
              "Index(['a', 'b', 'c', 'd'], dtype='object')"
            ]
          },
          "metadata": {},
          "execution_count": 16
        }
      ]
    },
    {
      "cell_type": "code",
      "metadata": {
        "colab": {
          "base_uri": "https://localhost:8080/"
        },
        "id": "szFYVzTgwYxe",
        "outputId": "b55cbdcf-c35b-4267-be33-fe829d744374"
      },
      "source": [
        "  # create a series who's index is a series of dates between the two specified dates\n",
        "  dates=pd.date_range('2015-08-01','2015-08-06')\n",
        "  dates"
      ],
      "execution_count": 17,
      "outputs": [
        {
          "output_type": "execute_result",
          "data": {
            "text/plain": [
              "DatetimeIndex(['2015-08-01', '2015-08-02', '2015-08-03', '2015-08-04',\n",
              "               '2015-08-05', '2015-08-06'],\n",
              "              dtype='datetime64[ns]', freq='D')"
            ]
          },
          "metadata": {},
          "execution_count": 17
        }
      ]
    },
    {
      "cell_type": "code",
      "metadata": {
        "id": "-QmBeBvmxbyY"
      },
      "source": [
        "temp1=Series([23,24,21,25,22,26],index=dates)"
      ],
      "execution_count": 21,
      "outputs": []
    },
    {
      "cell_type": "code",
      "metadata": {
        "colab": {
          "base_uri": "https://localhost:8080/"
        },
        "id": "kUN8fmGOx_RP",
        "outputId": "05ba5109-5c2e-4ede-9cbc-ce3b8c8dab1f"
      },
      "source": [
        "temp1"
      ],
      "execution_count": 22,
      "outputs": [
        {
          "output_type": "execute_result",
          "data": {
            "text/plain": [
              "2015-08-01    23\n",
              "2015-08-02    24\n",
              "2015-08-03    21\n",
              "2015-08-04    25\n",
              "2015-08-05    22\n",
              "2015-08-06    26\n",
              "Freq: D, dtype: int64"
            ]
          },
          "metadata": {},
          "execution_count": 22
        }
      ]
    },
    {
      "cell_type": "code",
      "metadata": {
        "colab": {
          "base_uri": "https://localhost:8080/"
        },
        "id": "KvUnr7VnyAi8",
        "outputId": "dba54a56-b012-48ec-e983-a8555db5fe42"
      },
      "source": [
        "# calculate the mean of the series\n",
        "temp1.mean()"
      ],
      "execution_count": 23,
      "outputs": [
        {
          "output_type": "execute_result",
          "data": {
            "text/plain": [
              "23.5"
            ]
          },
          "metadata": {},
          "execution_count": 23
        }
      ]
    },
    {
      "cell_type": "markdown",
      "metadata": {
        "id": "p4I8fh6myrHC"
      },
      "source": [
        "Two Series objects can be applied to each other with an arithmetic operation.\n",
        "The following code calculates the difference in temperature between two Series ."
      ]
    },
    {
      "cell_type": "code",
      "metadata": {
        "colab": {
          "base_uri": "https://localhost:8080/"
        },
        "id": "wKTE7LcmysNH",
        "outputId": "06552eab-eb33-4980-d2ab-1f43c01be3bb"
      },
      "source": [
        "# create a series with the same index\n",
        "temp2=Series([22,27,24,21,25,20],index=dates)\n",
        "temp2"
      ],
      "execution_count": 24,
      "outputs": [
        {
          "output_type": "execute_result",
          "data": {
            "text/plain": [
              "2015-08-01    22\n",
              "2015-08-02    27\n",
              "2015-08-03    24\n",
              "2015-08-04    21\n",
              "2015-08-05    25\n",
              "2015-08-06    20\n",
              "Freq: D, dtype: int64"
            ]
          },
          "metadata": {},
          "execution_count": 24
        }
      ]
    },
    {
      "cell_type": "code",
      "metadata": {
        "colab": {
          "base_uri": "https://localhost:8080/"
        },
        "id": "akgd8-UtzI-O",
        "outputId": "6de1f54d-c4c3-49a9-b013-762d92bb1a42"
      },
      "source": [
        "temp_diff=temp2-temp1\n",
        "temp_diff"
      ],
      "execution_count": 25,
      "outputs": [
        {
          "output_type": "execute_result",
          "data": {
            "text/plain": [
              "2015-08-01   -1\n",
              "2015-08-02    3\n",
              "2015-08-03    3\n",
              "2015-08-04   -4\n",
              "2015-08-05    3\n",
              "2015-08-06   -6\n",
              "Freq: D, dtype: int64"
            ]
          },
          "metadata": {},
          "execution_count": 25
        }
      ]
    },
    {
      "cell_type": "code",
      "metadata": {
        "colab": {
          "base_uri": "https://localhost:8080/"
        },
        "id": "t47BENvgzRqh",
        "outputId": "ecee5acf-59a4-417d-effb-c97360cd017e"
      },
      "source": [
        "# look up a value by dates using index \n",
        "temp_diff['2015-08-03']"
      ],
      "execution_count": 26,
      "outputs": [
        {
          "output_type": "execute_result",
          "data": {
            "text/plain": [
              "3"
            ]
          },
          "metadata": {},
          "execution_count": 26
        }
      ]
    },
    {
      "cell_type": "code",
      "metadata": {
        "colab": {
          "base_uri": "https://localhost:8080/"
        },
        "id": "9GdsaymEzzs7",
        "outputId": "e605668d-815c-4742-f2d6-e14c28ba2eab"
      },
      "source": [
        "# also possible with an integer option\n",
        "temp_diff[2]"
      ],
      "execution_count": 27,
      "outputs": [
        {
          "output_type": "execute_result",
          "data": {
            "text/plain": [
              "3"
            ]
          },
          "metadata": {},
          "execution_count": 27
        }
      ]
    },
    {
      "cell_type": "markdown",
      "metadata": {
        "id": "8gMLi1e-0FR0"
      },
      "source": [
        "**The pandas DataFrame object**"
      ]
    },
    {
      "cell_type": "code",
      "metadata": {
        "colab": {
          "base_uri": "https://localhost:8080/"
        },
        "id": "TSmAWedN0JIa",
        "outputId": "ad7aba2b-f216-4c96-b7c5-6ea916f946c5"
      },
      "source": [
        "# Create a DataFrame from two series object\n",
        "temps_dif=DataFrame({'Lahore':temp1,\"karachi\":temp2})\n",
        "temps_dif"
      ],
      "execution_count": 29,
      "outputs": [
        {
          "output_type": "execute_result",
          "data": {
            "text/plain": [
              "            Lahore  karachi\n",
              "2015-08-01      23       22\n",
              "2015-08-02      24       27\n",
              "2015-08-03      21       24\n",
              "2015-08-04      25       21\n",
              "2015-08-05      22       25\n",
              "2015-08-06      26       20"
            ]
          },
          "metadata": {},
          "execution_count": 29
        }
      ]
    },
    {
      "cell_type": "code",
      "metadata": {
        "colab": {
          "base_uri": "https://localhost:8080/"
        },
        "id": "QfbpsJlL2ARm",
        "outputId": "f78c0dea-18c9-430e-d147-e1c8e616f583"
      },
      "source": [
        "# get the column with the name Lahore\n",
        "temps_dif['Lahore']"
      ],
      "execution_count": 30,
      "outputs": [
        {
          "output_type": "execute_result",
          "data": {
            "text/plain": [
              "2015-08-01    23\n",
              "2015-08-02    24\n",
              "2015-08-03    21\n",
              "2015-08-04    25\n",
              "2015-08-05    22\n",
              "2015-08-06    26\n",
              "Freq: D, Name: Lahore, dtype: int64"
            ]
          },
          "metadata": {},
          "execution_count": 30
        }
      ]
    },
    {
      "cell_type": "code",
      "metadata": {
        "colab": {
          "base_uri": "https://localhost:8080/"
        },
        "id": "emvLO2o12sxZ",
        "outputId": "0cd6f312-8910-4222-9fed-69191e872d70"
      },
      "source": [
        "temps_dif['karachi']"
      ],
      "execution_count": 31,
      "outputs": [
        {
          "output_type": "execute_result",
          "data": {
            "text/plain": [
              "2015-08-01    22\n",
              "2015-08-02    27\n",
              "2015-08-03    24\n",
              "2015-08-04    21\n",
              "2015-08-05    25\n",
              "2015-08-06    20\n",
              "Freq: D, Name: karachi, dtype: int64"
            ]
          },
          "metadata": {},
          "execution_count": 31
        }
      ]
    },
    {
      "cell_type": "code",
      "metadata": {
        "colab": {
          "base_uri": "https://localhost:8080/"
        },
        "id": "Y8ModPrC23lE",
        "outputId": "888c130e-26b0-4c85-f929-d2cf9670d11c"
      },
      "source": [
        "temps_dif[['karachi','Lahore']]"
      ],
      "execution_count": 32,
      "outputs": [
        {
          "output_type": "execute_result",
          "data": {
            "text/plain": [
              "            karachi  Lahore\n",
              "2015-08-01       22      23\n",
              "2015-08-02       27      24\n",
              "2015-08-03       24      21\n",
              "2015-08-04       21      25\n",
              "2015-08-05       25      22\n",
              "2015-08-06       20      26"
            ]
          },
          "metadata": {},
          "execution_count": 32
        }
      ]
    },
    {
      "cell_type": "code",
      "metadata": {
        "colab": {
          "base_uri": "https://localhost:8080/"
        },
        "id": "bGhh5TTJ3Fd9",
        "outputId": "a19ab6d7-5615-4d28-967d-e5d5d6cf7a32"
      },
      "source": [
        "# retrive the Lahore column through the property syntax\n",
        "temps_dif.Lahore"
      ],
      "execution_count": 34,
      "outputs": [
        {
          "output_type": "execute_result",
          "data": {
            "text/plain": [
              "2015-08-01    23\n",
              "2015-08-02    24\n",
              "2015-08-03    21\n",
              "2015-08-04    25\n",
              "2015-08-05    22\n",
              "2015-08-06    26\n",
              "Freq: D, Name: Lahore, dtype: int64"
            ]
          },
          "metadata": {},
          "execution_count": 34
        }
      ]
    },
    {
      "cell_type": "code",
      "metadata": {
        "colab": {
          "base_uri": "https://localhost:8080/"
        },
        "id": "XAj88rD93b8Y",
        "outputId": "d9faa60a-41c1-40b4-a1ba-7c3a8e7f7a33"
      },
      "source": [
        "# Calculate the temperature diffrence using proprety syntax\n",
        "temp_dif_cities=temps_dif.karachi-temps_dif.Lahore\n",
        "temp_dif_cities"
      ],
      "execution_count": 36,
      "outputs": [
        {
          "output_type": "execute_result",
          "data": {
            "text/plain": [
              "2015-08-01   -1\n",
              "2015-08-02    3\n",
              "2015-08-03    3\n",
              "2015-08-04   -4\n",
              "2015-08-05    3\n",
              "2015-08-06   -6\n",
              "Freq: D, dtype: int64"
            ]
          },
          "metadata": {},
          "execution_count": 36
        }
      ]
    },
    {
      "cell_type": "code",
      "metadata": {
        "colab": {
          "base_uri": "https://localhost:8080/"
        },
        "id": "n4tioetV34sW",
        "outputId": "e670216c-52df-4ee5-e4a5-9f73e6cd9291"
      },
      "source": [
        "# add a column to temp dif that contains temprature diffrence\n",
        "temps_dif['Difference']=temp_dif_cities\n",
        "temps_dif"
      ],
      "execution_count": 38,
      "outputs": [
        {
          "output_type": "execute_result",
          "data": {
            "text/plain": [
              "            Lahore  karachi  Difference\n",
              "2015-08-01      23       22          -1\n",
              "2015-08-02      24       27           3\n",
              "2015-08-03      21       24           3\n",
              "2015-08-04      25       21          -4\n",
              "2015-08-05      22       25           3\n",
              "2015-08-06      26       20          -6"
            ]
          },
          "metadata": {},
          "execution_count": 38
        }
      ]
    },
    {
      "cell_type": "code",
      "metadata": {
        "colab": {
          "base_uri": "https://localhost:8080/"
        },
        "id": "mdSonbAS4g-a",
        "outputId": "790b3711-57ed-4ec1-9322-06f509f0a29b"
      },
      "source": [
        "# get the columns which is also an index object\n",
        "temps_dif.columns"
      ],
      "execution_count": 39,
      "outputs": [
        {
          "output_type": "execute_result",
          "data": {
            "text/plain": [
              "Index(['Lahore', 'karachi', 'Difference'], dtype='object')"
            ]
          },
          "metadata": {},
          "execution_count": 39
        }
      ]
    },
    {
      "cell_type": "code",
      "metadata": {
        "colab": {
          "base_uri": "https://localhost:8080/"
        },
        "id": "9KRR_XpQ479T",
        "outputId": "113935ca-f0c3-44d7-ff23-129432afe901"
      },
      "source": [
        "# slice the temperature diffrence rows from 1 to 4\n",
        "temps_dif.Difference[1:4]"
      ],
      "execution_count": 40,
      "outputs": [
        {
          "output_type": "execute_result",
          "data": {
            "text/plain": [
              "2015-08-02    3\n",
              "2015-08-03    3\n",
              "2015-08-04   -4\n",
              "Freq: D, Name: Difference, dtype: int64"
            ]
          },
          "metadata": {},
          "execution_count": 40
        }
      ]
    },
    {
      "cell_type": "code",
      "metadata": {
        "colab": {
          "base_uri": "https://localhost:8080/"
        },
        "id": "XGZuuBnF5RrD",
        "outputId": "6723e20b-8303-40e4-eed9-69549dc458cc"
      },
      "source": [
        "# get the rows at array position 1\n",
        "temps_dif.iloc[1]"
      ],
      "execution_count": 42,
      "outputs": [
        {
          "output_type": "execute_result",
          "data": {
            "text/plain": [
              "Lahore        24\n",
              "karachi       27\n",
              "Difference     3\n",
              "Name: 2015-08-02 00:00:00, dtype: int64"
            ]
          },
          "metadata": {},
          "execution_count": 42
        }
      ]
    },
    {
      "cell_type": "markdown",
      "metadata": {
        "id": "OHaxqaqU6b_O"
      },
      "source": [
        "This has converted the row into a Series , with the column names of the DataFrame\n",
        "pivoted into the index labels of the resulting Series"
      ]
    },
    {
      "cell_type": "code",
      "metadata": {
        "colab": {
          "base_uri": "https://localhost:8080/"
        },
        "id": "vsFZ2-7n5vck",
        "outputId": "fa8f7a86-e5ed-445f-9e50-f0aca608074f"
      },
      "source": [
        "temps_dif.iloc[1].index"
      ],
      "execution_count": 44,
      "outputs": [
        {
          "output_type": "execute_result",
          "data": {
            "text/plain": [
              "Index(['Lahore', 'karachi', 'Difference'], dtype='object')"
            ]
          },
          "metadata": {},
          "execution_count": 44
        }
      ]
    },
    {
      "cell_type": "markdown",
      "metadata": {
        "id": "p6Y62ylr63Qs"
      },
      "source": [
        "Rows can be explicitly accessed via index label using the .loc property"
      ]
    },
    {
      "cell_type": "code",
      "metadata": {
        "colab": {
          "base_uri": "https://localhost:8080/"
        },
        "id": "HadCmf426H_w",
        "outputId": "3e39dbe3-a282-4a90-a3b3-3e4af19be6c9"
      },
      "source": [
        "temps_dif.loc['2015-08-03']"
      ],
      "execution_count": 45,
      "outputs": [
        {
          "output_type": "execute_result",
          "data": {
            "text/plain": [
              "Lahore        21\n",
              "karachi       24\n",
              "Difference     3\n",
              "Name: 2015-08-03 00:00:00, dtype: int64"
            ]
          },
          "metadata": {},
          "execution_count": 45
        }
      ]
    },
    {
      "cell_type": "code",
      "metadata": {
        "colab": {
          "base_uri": "https://localhost:8080/"
        },
        "id": "KZtU4Gj76v7o",
        "outputId": "a788084a-d973-492a-996f-bd152aa7bffb"
      },
      "source": [
        "# get the values in the Differences column in rows 1, 3, and 5 using 0-based location\n",
        "temps_dif.iloc[[1,3,5]].Difference"
      ],
      "execution_count": 46,
      "outputs": [
        {
          "output_type": "execute_result",
          "data": {
            "text/plain": [
              "2015-08-02    3\n",
              "2015-08-04   -4\n",
              "2015-08-06   -6\n",
              "Freq: 2D, Name: Difference, dtype: int64"
            ]
          },
          "metadata": {},
          "execution_count": 46
        }
      ]
    },
    {
      "cell_type": "code",
      "metadata": {
        "colab": {
          "base_uri": "https://localhost:8080/"
        },
        "id": "fZWvEcW17UBb",
        "outputId": "408878d3-70d6-4a9c-b326-2fae61fdeae7"
      },
      "source": [
        "temps_dif.Lahore>22"
      ],
      "execution_count": 47,
      "outputs": [
        {
          "output_type": "execute_result",
          "data": {
            "text/plain": [
              "2015-08-01     True\n",
              "2015-08-02     True\n",
              "2015-08-03    False\n",
              "2015-08-04     True\n",
              "2015-08-05    False\n",
              "2015-08-06     True\n",
              "Freq: D, Name: Lahore, dtype: bool"
            ]
          },
          "metadata": {},
          "execution_count": 47
        }
      ]
    },
    {
      "cell_type": "code",
      "metadata": {
        "colab": {
          "base_uri": "https://localhost:8080/"
        },
        "id": "gUnuMqT87iBS",
        "outputId": "ee2c12ef-f083-44c4-ae26-5bbd35f3a489"
      },
      "source": [
        "temps_dif[temps_dif.Lahore>22]"
      ],
      "execution_count": 49,
      "outputs": [
        {
          "output_type": "execute_result",
          "data": {
            "text/plain": [
              "            Lahore  karachi  Difference\n",
              "2015-08-01      23       22          -1\n",
              "2015-08-02      24       27           3\n",
              "2015-08-04      25       21          -4\n",
              "2015-08-06      26       20          -6"
            ]
          },
          "metadata": {},
          "execution_count": 49
        }
      ]
    },
    {
      "cell_type": "code",
      "metadata": {
        "id": "dRjnD1TO7q14"
      },
      "source": [
        ""
      ],
      "execution_count": null,
      "outputs": []
    }
  ]
}