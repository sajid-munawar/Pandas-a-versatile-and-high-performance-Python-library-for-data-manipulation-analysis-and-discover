{
  "nbformat": 4,
  "nbformat_minor": 0,
  "metadata": {
    "colab": {
      "name": "Chapter 1: A Tour of pandas",
      "provenance": [],
      "authorship_tag": "ABX9TyNPgutddPmweQs7PokUFxht",
      "include_colab_link": true
    },
    "kernelspec": {
      "name": "python3",
      "display_name": "Python 3"
    },
    "language_info": {
      "name": "python"
    }
  },
  "cells": [
    {
      "cell_type": "markdown",
      "metadata": {
        "id": "view-in-github",
        "colab_type": "text"
      },
      "source": [
        "<a href=\"https://colab.research.google.com/github/sajid-munawar/Pandas-a-versatile-and-high-performance-Python-library-for-data-manipulation-analysis-and-discover/blob/main/Chapter_1_A_Tour_of_pandas.ipynb\" target=\"_parent\"><img src=\"https://colab.research.google.com/assets/colab-badge.svg\" alt=\"Open In Colab\"/></a>"
      ]
    },
    {
      "cell_type": "markdown",
      "metadata": {
        "id": "AJ72z2mpTsV5"
      },
      "source": [
        "**pandas—a versatile\n",
        "and high-performance Python library for\n",
        "data manipulation, analysis, and discovery**"
      ]
    },
    {
      "cell_type": "code",
      "metadata": {
        "id": "oVkBJzowT9DV"
      },
      "source": [
        "# import numpy and pandas, and DataFrame / Series\n",
        "import numpy as np\n",
        "import pandas as pd\n",
        "from pandas import DataFrame, Series"
      ],
      "execution_count": 1,
      "outputs": []
    },
    {
      "cell_type": "code",
      "metadata": {
        "id": "bK6KXuUam75z"
      },
      "source": [
        "# set some pandas options\n",
        "pd.set_option('display.notebook_repr_html',False)\n",
        "pd.set_option('display.max_columns',10)\n",
        "pd.set_option('display.max_rows',10)"
      ],
      "execution_count": 4,
      "outputs": []
    },
    {
      "cell_type": "code",
      "metadata": {
        "id": "6K3ABTrinwAJ"
      },
      "source": [
        "# Some items for matplotlib\n",
        "%matplotlib inline\n",
        "import matplotlib.pyplot as plt\n",
        "# pd.options.display.mpl_style='default'\n",
        "# pd.options.display.mpl_style = 'default'"
      ],
      "execution_count": 7,
      "outputs": []
    },
    {
      "cell_type": "markdown",
      "metadata": {
        "id": "p6RNX9Xoqm02"
      },
      "source": [
        "**The pandas Series object**"
      ]
    },
    {
      "cell_type": "code",
      "metadata": {
        "colab": {
          "base_uri": "https://localhost:8080/"
        },
        "id": "gJXzgz9cqqie",
        "outputId": "4b926abc-885c-44c7-bbf2-4a439e42f1ed"
      },
      "source": [
        "#  Create a four item DataFrame\n",
        "s=Series([1,2,3,4])\n",
        "s"
      ],
      "execution_count": 10,
      "outputs": [
        {
          "output_type": "execute_result",
          "data": {
            "text/plain": [
              "0    1\n",
              "1    2\n",
              "2    3\n",
              "3    4\n",
              "dtype: int64"
            ]
          },
          "metadata": {},
          "execution_count": 10
        }
      ]
    },
    {
      "cell_type": "code",
      "metadata": {
        "colab": {
          "base_uri": "https://localhost:8080/"
        },
        "id": "ZtLeN38srDjp",
        "outputId": "e1f4da93-c907-44e8-9db0-ee29a2a6f3ac"
      },
      "source": [
        "#  Return a Series with the rows with labels 1, 3\n",
        "s[[1,3]]"
      ],
      "execution_count": 12,
      "outputs": [
        {
          "output_type": "execute_result",
          "data": {
            "text/plain": [
              "1    2\n",
              "3    4\n",
              "dtype: int64"
            ]
          },
          "metadata": {},
          "execution_count": 12
        }
      ]
    },
    {
      "cell_type": "markdown",
      "metadata": {
        "id": "_IWQbtiWr8PI"
      },
      "source": [
        "It is important to note that the lookup here is not by zero-based\n",
        "positions 1 and 3 like an array, but by the values in the index."
      ]
    },
    {
      "cell_type": "code",
      "metadata": {
        "colab": {
          "base_uri": "https://localhost:8080/"
        },
        "id": "cI7879HMrm6c",
        "outputId": "f400487f-8c02-44d5-884e-b4eb42ffbef8"
      },
      "source": [
        "#create a series using an explicit index\n",
        "s=Series([1,2,3,4], index=['a','b','c','d'])\n",
        "s"
      ],
      "execution_count": 13,
      "outputs": [
        {
          "output_type": "execute_result",
          "data": {
            "text/plain": [
              "a    1\n",
              "b    2\n",
              "c    3\n",
              "d    4\n",
              "dtype: int64"
            ]
          },
          "metadata": {},
          "execution_count": 13
        }
      ]
    },
    {
      "cell_type": "code",
      "metadata": {
        "colab": {
          "base_uri": "https://localhost:8080/"
        },
        "id": "nWWs0HYnsYwR",
        "outputId": "500eccdb-108c-4857-bdbb-cf8f5399ec61"
      },
      "source": [
        "# look up items in the series having alphanumeric index 'a' and 'd'\\\n",
        "s[['a','d']]"
      ],
      "execution_count": 14,
      "outputs": [
        {
          "output_type": "execute_result",
          "data": {
            "text/plain": [
              "a    1\n",
              "d    4\n",
              "dtype: int64"
            ]
          },
          "metadata": {},
          "execution_count": 14
        }
      ]
    },
    {
      "cell_type": "code",
      "metadata": {
        "colab": {
          "base_uri": "https://localhost:8080/"
        },
        "id": "bwW_kxRotGy_",
        "outputId": "c9511096-98da-4095-8cd6-bf28f5a74bee"
      },
      "source": [
        "# It is still possible to refer to the elements of the Series object by their numerical position.\n",
        "s[[1,3]]"
      ],
      "execution_count": 15,
      "outputs": [
        {
          "output_type": "execute_result",
          "data": {
            "text/plain": [
              "b    2\n",
              "d    4\n",
              "dtype: int64"
            ]
          },
          "metadata": {},
          "execution_count": 15
        }
      ]
    },
    {
      "cell_type": "code",
      "metadata": {
        "colab": {
          "base_uri": "https://localhost:8080/"
        },
        "id": "L4Ku1xFktaGn",
        "outputId": "3ba2c3a7-5bfa-4542-a026-2530a14fe023"
      },
      "source": [
        "# getting only index\n",
        "s.index"
      ],
      "execution_count": 16,
      "outputs": [
        {
          "output_type": "execute_result",
          "data": {
            "text/plain": [
              "Index(['a', 'b', 'c', 'd'], dtype='object')"
            ]
          },
          "metadata": {},
          "execution_count": 16
        }
      ]
    },
    {
      "cell_type": "code",
      "metadata": {
        "colab": {
          "base_uri": "https://localhost:8080/"
        },
        "id": "szFYVzTgwYxe",
        "outputId": "b55cbdcf-c35b-4267-be33-fe829d744374"
      },
      "source": [
        "  # create a series who's index is a series of dates between the two specified dates\n",
        "  dates=pd.date_range('2015-08-01','2015-08-06')\n",
        "  dates"
      ],
      "execution_count": 17,
      "outputs": [
        {
          "output_type": "execute_result",
          "data": {
            "text/plain": [
              "DatetimeIndex(['2015-08-01', '2015-08-02', '2015-08-03', '2015-08-04',\n",
              "               '2015-08-05', '2015-08-06'],\n",
              "              dtype='datetime64[ns]', freq='D')"
            ]
          },
          "metadata": {},
          "execution_count": 17
        }
      ]
    },
    {
      "cell_type": "code",
      "metadata": {
        "id": "-QmBeBvmxbyY"
      },
      "source": [
        "temps=Series([23,24,21,25,22,26],index=dates)"
      ],
      "execution_count": 18,
      "outputs": []
    },
    {
      "cell_type": "code",
      "metadata": {
        "colab": {
          "base_uri": "https://localhost:8080/"
        },
        "id": "kUN8fmGOx_RP",
        "outputId": "c495dfac-0011-4473-e68d-91c45d5c8c72"
      },
      "source": [
        "temps"
      ],
      "execution_count": 19,
      "outputs": [
        {
          "output_type": "execute_result",
          "data": {
            "text/plain": [
              "2015-08-01    23\n",
              "2015-08-02    24\n",
              "2015-08-03    21\n",
              "2015-08-04    25\n",
              "2015-08-05    22\n",
              "2015-08-06    26\n",
              "Freq: D, dtype: int64"
            ]
          },
          "metadata": {},
          "execution_count": 19
        }
      ]
    },
    {
      "cell_type": "code",
      "metadata": {
        "id": "KvUnr7VnyAi8"
      },
      "source": [
        ""
      ],
      "execution_count": null,
      "outputs": []
    }
  ]
}