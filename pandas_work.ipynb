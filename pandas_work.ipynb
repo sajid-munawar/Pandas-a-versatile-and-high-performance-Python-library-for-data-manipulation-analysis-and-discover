{
  "cells": [
    {
      "cell_type": "markdown",
      "metadata": {
        "id": "view-in-github",
        "colab_type": "text"
      },
      "source": [
        "<a href=\"https://colab.research.google.com/github/sajid-munawar/Pandas-a-versatile-and-high-performance-Python-library-for-data-manipulation-analysis-and-discover/blob/main/pandas_work.ipynb\" target=\"_parent\"><img src=\"https://colab.research.google.com/assets/colab-badge.svg\" alt=\"Open In Colab\"/></a>"
      ]
    },
    {
      "cell_type": "code",
      "execution_count": null,
      "metadata": {
        "id": "gAKMA0V3j2AQ"
      },
      "outputs": [],
      "source": [
        "import pandas as pd\n",
        "import numpy as np"
      ]
    },
    {
      "cell_type": "code",
      "execution_count": null,
      "metadata": {
        "id": "roVlJ6bwj2AY"
      },
      "outputs": [],
      "source": [
        "df1=pd.read_csv('/home/sajid/Desktop/aaaaaaaa/url-input.txt',names=['url'])"
      ]
    },
    {
      "cell_type": "code",
      "execution_count": null,
      "metadata": {
        "id": "PX-B4iqKj2Ac",
        "outputId": "ef8dcde6-271e-43e8-9283-0c4e0783caac"
      },
      "outputs": [
        {
          "data": {
            "text/html": [
              "<div>\n",
              "<style scoped>\n",
              "    .dataframe tbody tr th:only-of-type {\n",
              "        vertical-align: middle;\n",
              "    }\n",
              "\n",
              "    .dataframe tbody tr th {\n",
              "        vertical-align: top;\n",
              "    }\n",
              "\n",
              "    .dataframe thead th {\n",
              "        text-align: right;\n",
              "    }\n",
              "</style>\n",
              "<table border=\"1\" class=\"dataframe\">\n",
              "  <thead>\n",
              "    <tr style=\"text-align: right;\">\n",
              "      <th></th>\n",
              "      <th>url</th>\n",
              "    </tr>\n",
              "  </thead>\n",
              "  <tbody>\n",
              "    <tr>\n",
              "      <th>0</th>\n",
              "      <td>http://aiaccept.com</td>\n",
              "    </tr>\n",
              "    <tr>\n",
              "      <th>1</th>\n",
              "      <td>http://aiavoid.com</td>\n",
              "    </tr>\n",
              "    <tr>\n",
              "      <th>2</th>\n",
              "      <td>http://automaticrollerblind.com</td>\n",
              "    </tr>\n",
              "    <tr>\n",
              "      <th>3</th>\n",
              "      <td>http://azonprim.com</td>\n",
              "    </tr>\n",
              "    <tr>\n",
              "      <th>4</th>\n",
              "      <td>http://bannedcloud.com</td>\n",
              "    </tr>\n",
              "  </tbody>\n",
              "</table>\n",
              "</div>"
            ],
            "text/plain": [
              "                               url\n",
              "0              http://aiaccept.com\n",
              "1               http://aiavoid.com\n",
              "2  http://automaticrollerblind.com\n",
              "3              http://azonprim.com\n",
              "4           http://bannedcloud.com"
            ]
          },
          "execution_count": 4,
          "metadata": {},
          "output_type": "execute_result"
        }
      ],
      "source": [
        "df1.head()"
      ]
    },
    {
      "cell_type": "code",
      "execution_count": null,
      "metadata": {
        "id": "jxWYJf4Lj2Ah"
      },
      "outputs": [],
      "source": [
        "df2=pd.read_csv('/home/sajid/Desktop/aaaaaaaa/code-input.txt',sep='\\t',names=['app','code'])"
      ]
    },
    {
      "cell_type": "code",
      "execution_count": null,
      "metadata": {
        "id": "tmhR0b26j2Ai",
        "outputId": "1cf7e058-5191-4c3b-bded-f48870a30f1b"
      },
      "outputs": [
        {
          "data": {
            "text/html": [
              "<div>\n",
              "<style scoped>\n",
              "    .dataframe tbody tr th:only-of-type {\n",
              "        vertical-align: middle;\n",
              "    }\n",
              "\n",
              "    .dataframe tbody tr th {\n",
              "        vertical-align: top;\n",
              "    }\n",
              "\n",
              "    .dataframe thead th {\n",
              "        text-align: right;\n",
              "    }\n",
              "</style>\n",
              "<table border=\"1\" class=\"dataframe\">\n",
              "  <thead>\n",
              "    <tr style=\"text-align: right;\">\n",
              "      <th></th>\n",
              "      <th>app</th>\n",
              "      <th>code</th>\n",
              "    </tr>\n",
              "  </thead>\n",
              "  <tbody>\n",
              "    <tr>\n",
              "      <th>0</th>\n",
              "      <td>RPG Default</td>\n",
              "      <td>a54c5ac</td>\n",
              "    </tr>\n",
              "    <tr>\n",
              "      <th>1</th>\n",
              "      <td>Human Verification Generators</td>\n",
              "      <td>3473cfb</td>\n",
              "    </tr>\n",
              "    <tr>\n",
              "      <th>2</th>\n",
              "      <td>Human Verification Red</td>\n",
              "      <td>f6b53b8</td>\n",
              "    </tr>\n",
              "    <tr>\n",
              "      <th>3</th>\n",
              "      <td>Human Verification Download</td>\n",
              "      <td>c04791d</td>\n",
              "    </tr>\n",
              "    <tr>\n",
              "      <th>4</th>\n",
              "      <td>Gift Card</td>\n",
              "      <td>d44035a</td>\n",
              "    </tr>\n",
              "  </tbody>\n",
              "</table>\n",
              "</div>"
            ],
            "text/plain": [
              "                             app     code\n",
              "0                    RPG Default  a54c5ac\n",
              "1  Human Verification Generators  3473cfb\n",
              "2         Human Verification Red  f6b53b8\n",
              "3    Human Verification Download  c04791d\n",
              "4                     Gift Card   d44035a"
            ]
          },
          "execution_count": 6,
          "metadata": {},
          "output_type": "execute_result"
        }
      ],
      "source": [
        "df2.head()"
      ]
    },
    {
      "cell_type": "code",
      "execution_count": null,
      "metadata": {
        "id": "QHGaLJPlj2Aj",
        "outputId": "06b4967f-cf1d-49fb-ab19-63ddde673929"
      },
      "outputs": [
        {
          "name": "stdout",
          "output_type": "stream",
          "text": [
            "<class 'pandas.core.frame.DataFrame'>\n",
            "RangeIndex: 896 entries, 0 to 895\n",
            "Data columns (total 2 columns):\n",
            " #   Column  Non-Null Count  Dtype \n",
            "---  ------  --------------  ----- \n",
            " 0   app     893 non-null    object\n",
            " 1   code    896 non-null    object\n",
            "dtypes: object(2)\n",
            "memory usage: 14.1+ KB\n"
          ]
        }
      ],
      "source": [
        "df2.info()"
      ]
    },
    {
      "cell_type": "code",
      "execution_count": null,
      "metadata": {
        "id": "mVuCYjYRj2Ak",
        "outputId": "6e5bdd72-5dce-45bc-edb2-d748c0e0991b"
      },
      "outputs": [
        {
          "name": "stdout",
          "output_type": "stream",
          "text": [
            "<class 'pandas.core.frame.DataFrame'>\n",
            "RangeIndex: 75 entries, 0 to 74\n",
            "Data columns (total 1 columns):\n",
            " #   Column  Non-Null Count  Dtype \n",
            "---  ------  --------------  ----- \n",
            " 0   url     75 non-null     object\n",
            "dtypes: object(1)\n",
            "memory usage: 728.0+ bytes\n"
          ]
        }
      ],
      "source": [
        "df1.info()"
      ]
    },
    {
      "cell_type": "code",
      "execution_count": null,
      "metadata": {
        "id": "X8xWqL19j2Am"
      },
      "outputs": [],
      "source": [
        "# df2['bar'] = df.url.map(df2.code)\n",
        "# df2.head"
      ]
    },
    {
      "cell_type": "code",
      "execution_count": null,
      "metadata": {
        "id": "kpaPwj6Nj2An"
      },
      "outputs": [],
      "source": [
        "df3=pd.concat([df1,df2],axis=1)"
      ]
    },
    {
      "cell_type": "code",
      "execution_count": null,
      "metadata": {
        "id": "KoyJPMarj2Ao"
      },
      "outputs": [],
      "source": [
        "df4=df3.dropna()"
      ]
    },
    {
      "cell_type": "code",
      "execution_count": null,
      "metadata": {
        "id": "nPS77-Ahj2Ap",
        "outputId": "df63c24d-d23d-4076-cc3b-fc7561d0bbb2"
      },
      "outputs": [
        {
          "data": {
            "text/html": [
              "<div>\n",
              "<style scoped>\n",
              "    .dataframe tbody tr th:only-of-type {\n",
              "        vertical-align: middle;\n",
              "    }\n",
              "\n",
              "    .dataframe tbody tr th {\n",
              "        vertical-align: top;\n",
              "    }\n",
              "\n",
              "    .dataframe thead th {\n",
              "        text-align: right;\n",
              "    }\n",
              "</style>\n",
              "<table border=\"1\" class=\"dataframe\">\n",
              "  <thead>\n",
              "    <tr style=\"text-align: right;\">\n",
              "      <th></th>\n",
              "      <th>url</th>\n",
              "      <th>app</th>\n",
              "      <th>code</th>\n",
              "    </tr>\n",
              "  </thead>\n",
              "  <tbody>\n",
              "    <tr>\n",
              "      <th>70</th>\n",
              "      <td>http://metasweatta.com</td>\n",
              "      <td>Among US</td>\n",
              "      <td>cc7dc6b</td>\n",
              "    </tr>\n",
              "    <tr>\n",
              "      <th>71</th>\n",
              "      <td>http://metatattooshop.com</td>\n",
              "      <td>Google Play Gift Card Generator</td>\n",
              "      <td>3527a10</td>\n",
              "    </tr>\n",
              "    <tr>\n",
              "      <th>72</th>\n",
              "      <td>http://pantsmeta.com</td>\n",
              "      <td>Roblox</td>\n",
              "      <td>5cec664</td>\n",
              "    </tr>\n",
              "    <tr>\n",
              "      <th>73</th>\n",
              "      <td>http://perfumesmeta.com</td>\n",
              "      <td>UFOs</td>\n",
              "      <td>009a978</td>\n",
              "    </tr>\n",
              "    <tr>\n",
              "      <th>74</th>\n",
              "      <td>http://winerymeta.com</td>\n",
              "      <td>Netflix Premium Account</td>\n",
              "      <td>9e96f84</td>\n",
              "    </tr>\n",
              "  </tbody>\n",
              "</table>\n",
              "</div>"
            ],
            "text/plain": [
              "                          url                              app     code\n",
              "70     http://metasweatta.com                       Among US    cc7dc6b\n",
              "71  http://metatattooshop.com  Google Play Gift Card Generator  3527a10\n",
              "72       http://pantsmeta.com                          Roblox   5cec664\n",
              "73    http://perfumesmeta.com                             UFOs  009a978\n",
              "74      http://winerymeta.com         Netflix Premium Account   9e96f84"
            ]
          },
          "execution_count": 15,
          "metadata": {},
          "output_type": "execute_result"
        }
      ],
      "source": [
        "df4.tail()"
      ]
    },
    {
      "cell_type": "code",
      "execution_count": null,
      "metadata": {
        "id": "Qt7DhuHgj2Aq",
        "outputId": "1f310c91-3ac3-41dd-f594-e11f7a4ef542"
      },
      "outputs": [
        {
          "name": "stderr",
          "output_type": "stream",
          "text": [
            "<ipython-input-18-45624dd1f159>:1: SettingWithCopyWarning: \n",
            "A value is trying to be set on a copy of a slice from a DataFrame.\n",
            "Try using .loc[row_indexer,col_indexer] = value instead\n",
            "\n",
            "See the caveats in the documentation: https://pandas.pydata.org/pandas-docs/stable/user_guide/indexing.html#returning-a-view-versus-a-copy\n",
            "  df4['bar'] = df4.url.map(str) + \"/\" + df4.code\n"
          ]
        }
      ],
      "source": [
        "df4['bar'] = df4.url.map(str) + \"/\" + df4.code"
      ]
    },
    {
      "cell_type": "code",
      "execution_count": null,
      "metadata": {
        "id": "8SCx6_vKj2Ar",
        "outputId": "8d56c5e9-4525-40af-9b64-18e1134c5716"
      },
      "outputs": [
        {
          "data": {
            "text/html": [
              "<div>\n",
              "<style scoped>\n",
              "    .dataframe tbody tr th:only-of-type {\n",
              "        vertical-align: middle;\n",
              "    }\n",
              "\n",
              "    .dataframe tbody tr th {\n",
              "        vertical-align: top;\n",
              "    }\n",
              "\n",
              "    .dataframe thead th {\n",
              "        text-align: right;\n",
              "    }\n",
              "</style>\n",
              "<table border=\"1\" class=\"dataframe\">\n",
              "  <thead>\n",
              "    <tr style=\"text-align: right;\">\n",
              "      <th></th>\n",
              "      <th>url</th>\n",
              "      <th>app</th>\n",
              "      <th>code</th>\n",
              "      <th>bar</th>\n",
              "    </tr>\n",
              "  </thead>\n",
              "  <tbody>\n",
              "    <tr>\n",
              "      <th>70</th>\n",
              "      <td>http://metasweatta.com</td>\n",
              "      <td>Among US</td>\n",
              "      <td>cc7dc6b</td>\n",
              "      <td>http://metasweatta.com/cc7dc6b</td>\n",
              "    </tr>\n",
              "    <tr>\n",
              "      <th>71</th>\n",
              "      <td>http://metatattooshop.com</td>\n",
              "      <td>Google Play Gift Card Generator</td>\n",
              "      <td>3527a10</td>\n",
              "      <td>http://metatattooshop.com/3527a10</td>\n",
              "    </tr>\n",
              "    <tr>\n",
              "      <th>72</th>\n",
              "      <td>http://pantsmeta.com</td>\n",
              "      <td>Roblox</td>\n",
              "      <td>5cec664</td>\n",
              "      <td>http://pantsmeta.com/5cec664</td>\n",
              "    </tr>\n",
              "    <tr>\n",
              "      <th>73</th>\n",
              "      <td>http://perfumesmeta.com</td>\n",
              "      <td>UFOs</td>\n",
              "      <td>009a978</td>\n",
              "      <td>http://perfumesmeta.com/009a978</td>\n",
              "    </tr>\n",
              "    <tr>\n",
              "      <th>74</th>\n",
              "      <td>http://winerymeta.com</td>\n",
              "      <td>Netflix Premium Account</td>\n",
              "      <td>9e96f84</td>\n",
              "      <td>http://winerymeta.com/9e96f84</td>\n",
              "    </tr>\n",
              "  </tbody>\n",
              "</table>\n",
              "</div>"
            ],
            "text/plain": [
              "                          url                              app     code  \\\n",
              "70     http://metasweatta.com                       Among US    cc7dc6b   \n",
              "71  http://metatattooshop.com  Google Play Gift Card Generator  3527a10   \n",
              "72       http://pantsmeta.com                          Roblox   5cec664   \n",
              "73    http://perfumesmeta.com                             UFOs  009a978   \n",
              "74      http://winerymeta.com         Netflix Premium Account   9e96f84   \n",
              "\n",
              "                                  bar  \n",
              "70     http://metasweatta.com/cc7dc6b  \n",
              "71  http://metatattooshop.com/3527a10  \n",
              "72       http://pantsmeta.com/5cec664  \n",
              "73    http://perfumesmeta.com/009a978  \n",
              "74      http://winerymeta.com/9e96f84  "
            ]
          },
          "execution_count": 70,
          "metadata": {},
          "output_type": "execute_result"
        }
      ],
      "source": [
        "df4.tail()"
      ]
    },
    {
      "cell_type": "code",
      "execution_count": null,
      "metadata": {
        "id": "3O5O5jEdj2As"
      },
      "outputs": [],
      "source": [
        "df_redirected=pd.read_csv('/home/sajid/Desktop/aaaaaaaa/redirect-sites.txt',names=['redirected_sites'])"
      ]
    },
    {
      "cell_type": "code",
      "execution_count": null,
      "metadata": {
        "id": "YkSDeasLj2As",
        "outputId": "7f1eebef-a9f8-45a6-d813-2fb57131e44a"
      },
      "outputs": [
        {
          "data": {
            "text/html": [
              "<div>\n",
              "<style scoped>\n",
              "    .dataframe tbody tr th:only-of-type {\n",
              "        vertical-align: middle;\n",
              "    }\n",
              "\n",
              "    .dataframe tbody tr th {\n",
              "        vertical-align: top;\n",
              "    }\n",
              "\n",
              "    .dataframe thead th {\n",
              "        text-align: right;\n",
              "    }\n",
              "</style>\n",
              "<table border=\"1\" class=\"dataframe\">\n",
              "  <thead>\n",
              "    <tr style=\"text-align: right;\">\n",
              "      <th></th>\n",
              "      <th>redirected_sites</th>\n",
              "    </tr>\n",
              "  </thead>\n",
              "  <tbody>\n",
              "    <tr>\n",
              "      <th>0</th>\n",
              "      <td>https://maps.google.ru/url?q=</td>\n",
              "    </tr>\n",
              "    <tr>\n",
              "      <th>1</th>\n",
              "      <td>http://1gx.ru/bitrix/redirect.php?goto=</td>\n",
              "    </tr>\n",
              "    <tr>\n",
              "      <th>2</th>\n",
              "      <td>http://ad.dyntracker.de/set.aspx?dt_subid1=&amp;dt...</td>\n",
              "    </tr>\n",
              "    <tr>\n",
              "      <th>3</th>\n",
              "      <td>http://age-tech.ru/bitrix/rk.php?goto=</td>\n",
              "    </tr>\n",
              "    <tr>\n",
              "      <th>4</th>\n",
              "      <td>http://avtoline.com/bitrix/redirect.php?goto=</td>\n",
              "    </tr>\n",
              "  </tbody>\n",
              "</table>\n",
              "</div>"
            ],
            "text/plain": [
              "                                    redirected_sites\n",
              "0                      https://maps.google.ru/url?q=\n",
              "1            http://1gx.ru/bitrix/redirect.php?goto=\n",
              "2  http://ad.dyntracker.de/set.aspx?dt_subid1=&dt...\n",
              "3             http://age-tech.ru/bitrix/rk.php?goto=\n",
              "4      http://avtoline.com/bitrix/redirect.php?goto="
            ]
          },
          "execution_count": 22,
          "metadata": {},
          "output_type": "execute_result"
        }
      ],
      "source": [
        "df_redirected.head()"
      ]
    },
    {
      "cell_type": "code",
      "execution_count": null,
      "metadata": {
        "id": "ff2sPRkkj2At"
      },
      "outputs": [],
      "source": [
        "df_redirected['final'] = df_redirected.redirected_sites.map(str) + \"/\" + df4.bar"
      ]
    },
    {
      "cell_type": "code",
      "execution_count": null,
      "metadata": {
        "id": "1Q4aOwvgj2At",
        "outputId": "1adb2bfd-8ee4-4247-b988-e2c4f4f3d880"
      },
      "outputs": [
        {
          "data": {
            "text/html": [
              "<div>\n",
              "<style scoped>\n",
              "    .dataframe tbody tr th:only-of-type {\n",
              "        vertical-align: middle;\n",
              "    }\n",
              "\n",
              "    .dataframe tbody tr th {\n",
              "        vertical-align: top;\n",
              "    }\n",
              "\n",
              "    .dataframe thead th {\n",
              "        text-align: right;\n",
              "    }\n",
              "</style>\n",
              "<table border=\"1\" class=\"dataframe\">\n",
              "  <thead>\n",
              "    <tr style=\"text-align: right;\">\n",
              "      <th></th>\n",
              "      <th>redirected_sites</th>\n",
              "      <th>final</th>\n",
              "    </tr>\n",
              "  </thead>\n",
              "  <tbody>\n",
              "    <tr>\n",
              "      <th>0</th>\n",
              "      <td>https://maps.google.ru/url?q=</td>\n",
              "      <td>https://maps.google.ru/url?q=/http://aiaccept....</td>\n",
              "    </tr>\n",
              "    <tr>\n",
              "      <th>1</th>\n",
              "      <td>http://1gx.ru/bitrix/redirect.php?goto=</td>\n",
              "      <td>http://1gx.ru/bitrix/redirect.php?goto=/http:/...</td>\n",
              "    </tr>\n",
              "    <tr>\n",
              "      <th>2</th>\n",
              "      <td>http://ad.dyntracker.de/set.aspx?dt_subid1=&amp;dt...</td>\n",
              "      <td>http://ad.dyntracker.de/set.aspx?dt_subid1=&amp;dt...</td>\n",
              "    </tr>\n",
              "    <tr>\n",
              "      <th>3</th>\n",
              "      <td>http://age-tech.ru/bitrix/rk.php?goto=</td>\n",
              "      <td>http://age-tech.ru/bitrix/rk.php?goto=/http://...</td>\n",
              "    </tr>\n",
              "    <tr>\n",
              "      <th>4</th>\n",
              "      <td>http://avtoline.com/bitrix/redirect.php?goto=</td>\n",
              "      <td>http://avtoline.com/bitrix/redirect.php?goto=/...</td>\n",
              "    </tr>\n",
              "  </tbody>\n",
              "</table>\n",
              "</div>"
            ],
            "text/plain": [
              "                                    redirected_sites  \\\n",
              "0                      https://maps.google.ru/url?q=   \n",
              "1            http://1gx.ru/bitrix/redirect.php?goto=   \n",
              "2  http://ad.dyntracker.de/set.aspx?dt_subid1=&dt...   \n",
              "3             http://age-tech.ru/bitrix/rk.php?goto=   \n",
              "4      http://avtoline.com/bitrix/redirect.php?goto=   \n",
              "\n",
              "                                               final  \n",
              "0  https://maps.google.ru/url?q=/http://aiaccept....  \n",
              "1  http://1gx.ru/bitrix/redirect.php?goto=/http:/...  \n",
              "2  http://ad.dyntracker.de/set.aspx?dt_subid1=&dt...  \n",
              "3  http://age-tech.ru/bitrix/rk.php?goto=/http://...  \n",
              "4  http://avtoline.com/bitrix/redirect.php?goto=/...  "
            ]
          },
          "execution_count": 27,
          "metadata": {},
          "output_type": "execute_result"
        }
      ],
      "source": [
        "df_redirected.head()"
      ]
    },
    {
      "cell_type": "code",
      "execution_count": null,
      "metadata": {
        "id": "X5jQykrwj2Au"
      },
      "outputs": [],
      "source": [
        "df_final=pd.concat([df3.app,df4.bar,df_redirected.final],axis=1)"
      ]
    },
    {
      "cell_type": "code",
      "execution_count": null,
      "metadata": {
        "id": "le8qr5Mdj2Au"
      },
      "outputs": [],
      "source": [
        "final=df_final.dropna()"
      ]
    },
    {
      "cell_type": "code",
      "execution_count": null,
      "metadata": {
        "scrolled": true,
        "id": "tRlyFPa4j2Av",
        "outputId": "0ba9152d-3a8c-4064-8c83-cbf0fab1fb55"
      },
      "outputs": [
        {
          "name": "stdout",
          "output_type": "stream",
          "text": [
            "<class 'pandas.core.frame.DataFrame'>\n",
            "Int64Index: 75 entries, 0 to 74\n",
            "Data columns (total 3 columns):\n",
            " #   Column  Non-Null Count  Dtype \n",
            "---  ------  --------------  ----- \n",
            " 0   app     75 non-null     object\n",
            " 1   bar     75 non-null     object\n",
            " 2   final   75 non-null     object\n",
            "dtypes: object(3)\n",
            "memory usage: 2.3+ KB\n"
          ]
        }
      ],
      "source": [
        "final.info()"
      ]
    },
    {
      "cell_type": "code",
      "execution_count": null,
      "metadata": {
        "id": "_iyCBUlDj2Av",
        "outputId": "44f0b19c-244d-4c42-d707-2a46631defff"
      },
      "outputs": [
        {
          "data": {
            "text/html": [
              "<div>\n",
              "<style scoped>\n",
              "    .dataframe tbody tr th:only-of-type {\n",
              "        vertical-align: middle;\n",
              "    }\n",
              "\n",
              "    .dataframe tbody tr th {\n",
              "        vertical-align: top;\n",
              "    }\n",
              "\n",
              "    .dataframe thead th {\n",
              "        text-align: right;\n",
              "    }\n",
              "</style>\n",
              "<table border=\"1\" class=\"dataframe\">\n",
              "  <thead>\n",
              "    <tr style=\"text-align: right;\">\n",
              "      <th></th>\n",
              "      <th>app</th>\n",
              "      <th>bar</th>\n",
              "      <th>final</th>\n",
              "    </tr>\n",
              "  </thead>\n",
              "  <tbody>\n",
              "    <tr>\n",
              "      <th>0</th>\n",
              "      <td>RPG Default</td>\n",
              "      <td>http://aiaccept.com/a54c5ac</td>\n",
              "      <td>https://maps.google.ru/url?q=/http://aiaccept....</td>\n",
              "    </tr>\n",
              "    <tr>\n",
              "      <th>1</th>\n",
              "      <td>Human Verification Generators</td>\n",
              "      <td>http://aiavoid.com/3473cfb</td>\n",
              "      <td>http://1gx.ru/bitrix/redirect.php?goto=/http:/...</td>\n",
              "    </tr>\n",
              "    <tr>\n",
              "      <th>2</th>\n",
              "      <td>Human Verification Red</td>\n",
              "      <td>http://automaticrollerblind.com/f6b53b8</td>\n",
              "      <td>http://ad.dyntracker.de/set.aspx?dt_subid1=&amp;dt...</td>\n",
              "    </tr>\n",
              "    <tr>\n",
              "      <th>3</th>\n",
              "      <td>Human Verification Download</td>\n",
              "      <td>http://azonprim.com/c04791d</td>\n",
              "      <td>http://age-tech.ru/bitrix/rk.php?goto=/http://...</td>\n",
              "    </tr>\n",
              "    <tr>\n",
              "      <th>4</th>\n",
              "      <td>Gift Card</td>\n",
              "      <td>http://bannedcloud.com/d44035a</td>\n",
              "      <td>http://avtoline.com/bitrix/redirect.php?goto=/...</td>\n",
              "    </tr>\n",
              "  </tbody>\n",
              "</table>\n",
              "</div>"
            ],
            "text/plain": [
              "                             app                                      bar  \\\n",
              "0                    RPG Default              http://aiaccept.com/a54c5ac   \n",
              "1  Human Verification Generators               http://aiavoid.com/3473cfb   \n",
              "2         Human Verification Red  http://automaticrollerblind.com/f6b53b8   \n",
              "3    Human Verification Download              http://azonprim.com/c04791d   \n",
              "4                     Gift Card            http://bannedcloud.com/d44035a   \n",
              "\n",
              "                                               final  \n",
              "0  https://maps.google.ru/url?q=/http://aiaccept....  \n",
              "1  http://1gx.ru/bitrix/redirect.php?goto=/http:/...  \n",
              "2  http://ad.dyntracker.de/set.aspx?dt_subid1=&dt...  \n",
              "3  http://age-tech.ru/bitrix/rk.php?goto=/http://...  \n",
              "4  http://avtoline.com/bitrix/redirect.php?goto=/...  "
            ]
          },
          "execution_count": 74,
          "metadata": {},
          "output_type": "execute_result"
        }
      ],
      "source": [
        "final.head()"
      ]
    },
    {
      "cell_type": "code",
      "execution_count": null,
      "metadata": {
        "id": "DAJhiypSj2Av",
        "outputId": "a7533806-c85f-4eda-b6b7-4f83bffee911"
      },
      "outputs": [
        {
          "data": {
            "text/plain": [
              "75"
            ]
          },
          "execution_count": 55,
          "metadata": {},
          "output_type": "execute_result"
        }
      ],
      "source": [
        "len(final['final'])"
      ]
    },
    {
      "cell_type": "code",
      "execution_count": null,
      "metadata": {
        "id": "2uXU6-hbj2Aw"
      },
      "outputs": [],
      "source": [
        "for i in range(3):\n",
        "    final.to_csv(f'/home/sajid/Desktop/aaaaaaaa/test/{final.loc[i].app}')\n",
        "    "
      ]
    },
    {
      "cell_type": "code",
      "execution_count": null,
      "metadata": {
        "id": "3J5tm5DEj2Aw",
        "outputId": "cbd2a1a2-8bf6-43b8-8372-40c5ace39b0b"
      },
      "outputs": [
        {
          "data": {
            "text/plain": [
              "'Human Verification Download'"
            ]
          },
          "execution_count": 65,
          "metadata": {},
          "output_type": "execute_result"
        }
      ],
      "source": [
        "final.loc[3].app"
      ]
    },
    {
      "cell_type": "code",
      "execution_count": null,
      "metadata": {
        "id": "QYY5sxWzj2Ax",
        "outputId": "afc468a6-294d-4848-f68d-c95ed6400f3b"
      },
      "outputs": [
        {
          "name": "stdout",
          "output_type": "stream",
          "text": [
            "RPG Default\n",
            "Human Verification Generators\n",
            "Human Verification Red\n",
            "Human Verification Download\n",
            "Gift Card \n"
          ]
        }
      ],
      "source": [
        "for i in range(5):\n",
        "    print(final.loc[i]['app'])"
      ]
    },
    {
      "cell_type": "code",
      "execution_count": null,
      "metadata": {
        "id": "n5GRvF1Mj2Ax",
        "outputId": "ce7e6fe4-71a3-4037-f160-f76fbb3994a9"
      },
      "outputs": [
        {
          "name": "stdout",
          "output_type": "stream",
          "text": [
            "0 0\n",
            "1 0\n",
            "2 0\n",
            "3 0\n",
            "4 0\n"
          ]
        }
      ],
      "source": [
        "for i in range(5):\n",
        "    for j in range(1):\n",
        "        print(i,j)"
      ]
    },
    {
      "cell_type": "code",
      "execution_count": null,
      "metadata": {
        "id": "Jtx_Cw4Fj2Ax",
        "outputId": "ab6a6a4b-d7b8-448a-c609-17870c19c5ea"
      },
      "outputs": [
        {
          "name": "stdout",
          "output_type": "stream",
          "text": [
            "http://aiaccept.com/a54c5ac\n",
            "http://aiavoid.com/3473cfb\n",
            "http://automaticrollerblind.com/f6b53b8\n",
            "http://azonprim.com/c04791d\n",
            "http://bannedcloud.com/d44035a\n"
          ]
        }
      ],
      "source": [
        "for i in range(5):\n",
        "    print(final.loc[i].bar)"
      ]
    },
    {
      "cell_type": "code",
      "execution_count": null,
      "metadata": {
        "id": "YDSV9VGWj2Ay"
      },
      "outputs": [],
      "source": [
        ""
      ]
    }
  ],
  "metadata": {
    "kernelspec": {
      "display_name": "Python 3",
      "language": "python",
      "name": "python3"
    },
    "colab": {
      "name": "pandas work.ipynb",
      "provenance": [],
      "include_colab_link": true
    }
  },
  "nbformat": 4,
  "nbformat_minor": 0
}